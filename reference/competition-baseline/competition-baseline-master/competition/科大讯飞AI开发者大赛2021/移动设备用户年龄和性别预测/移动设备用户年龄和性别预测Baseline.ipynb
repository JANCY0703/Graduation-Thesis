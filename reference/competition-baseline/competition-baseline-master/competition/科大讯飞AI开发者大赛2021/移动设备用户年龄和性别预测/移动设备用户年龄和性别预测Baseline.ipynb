{
 "cells": [
  {
   "cell_type": "markdown",
   "metadata": {},
   "source": [
    "# 简介\n",
    "\n",
    "赛题链接： "
   ]
  },
  {
   "cell_type": "markdown",
   "metadata": {},
   "source": [
    "## 赛事背景\n",
    "\n",
    "对于移动设备厂商而言，获取当前手机用户的人口属性信息是非常困难的。基于用户的手机及日常使用应用程序的偏好准确地预测其人口属性信息是提升个性化体验、构建精准用户画像的基础。需要说明的是，本赛事数据已获得个人用户的充分认可和同意，并已进行适当的匿名处理以保护隐私。由于保密，我们不会提供有关如何获得性别和年龄数据的详细信息。\n",
    "\n",
    "\n",
    "## 赛事任务\n",
    "\n",
    "本次比赛有两个任务，分别对移动设备（device_id）进行性别和年龄的预测，这里包含二分类和回归两个问题，最终会将两个部分的分数结合起来进行排名。\n",
    "\n",
    "## 评审规则\n",
    "\n",
    "1. 数据说明\n",
    "\n",
    "赛题数据由训练集、测试集、事件数据组成。总设备id超过2w，包含设备信息、APP信息和事件信息，其中device_id为用户的唯一标识符，gender为用户性别，age为用户年龄。为了保证比赛的公平性，将会从中抽取2w条设备id为训练集，3千多个设备id作为测试集，同时会对部分字段信息进行脱敏。\n",
    "\n",
    "\n",
    "<img src=\"./pic/data.png\" width = \"300\" height = \"150\" alt=\"data\" align=center />\n",
    " \n",
    "\n",
    "2. 评估指标\n",
    "\n",
    "本次竞赛的评价标准由两部分组成，性别预测使用准确率指标，年龄预测使用1/(MAE+1)，最高分为2。评估代码参考："
   ]
  },
  {
   "cell_type": "code",
   "execution_count": null,
   "metadata": {},
   "outputs": [],
   "source": [
    "from sklearn.metrics import accuracy_score,mean_absolute_error\n",
    "# standard 为标准答案\n",
    "# submit 为选手提交答案\n",
    "score1 = accuracy_score(standard['gender'], submit['gender'])\n",
    "score2 = 1 / (1 + mean_absolute_error(standard['age'], submit['age']))\n",
    "# 最终分数\n",
    "final_score = score1 + score2"
   ]
  },
  {
   "cell_type": "markdown",
   "metadata": {},
   "source": [
    "\n",
    "3. 评测及排行\n",
    "\n",
    "1、赛事提供下载数据，选手在本地进行算法调试，在比赛页面提交结果。\n",
    "\n",
    "2、每支团队每天最多提交3次。\n",
    "\n",
    "3、排行按照得分从高到低排序，排行榜将选择团队的历史最优成绩进行排名。\n",
    "\n",
    "## 作品提交要求\n",
    "\n",
    "文件格式：预测结果文件按照csv格式\n",
    "\n",
    "提交文件大小：无要求\n",
    "\n",
    "提交次数限制：每支队伍每周最多3次\n",
    "\n",
    "预测结果文件详细说明：\n",
    "\n",
    "1) 以csv格式提交，编码为UTF-8，第一行为表头；\n",
    "\n",
    "2) 提交前请确保预测结果的格式与sample_submit.csv中的格式一致。具体格式如下："
   ]
  },
  {
   "cell_type": "code",
   "execution_count": null,
   "metadata": {},
   "outputs": [],
   "source": [
    "device_id,gender,age\n",
    "\n",
    "20000,0,0\n",
    "\n",
    "20001,0,0\n",
    "\n",
    "20002,0,0\n",
    "\n",
    "20003,0,0\n",
    "\n",
    "20004,0,0"
   ]
  },
  {
   "cell_type": "markdown",
   "metadata": {},
   "source": [
    "## 赛程规则\n",
    "\n",
    "正式赛\n",
    "\n",
    "8月16日——9月15日\n",
    "\n",
    "初赛截止成绩以团队在初赛时间段内最优成绩为准（不含测试排名）。\n",
    "\n",
    "初赛作品提交截止日期为9月8日17:00；正式赛名次公布日期为9月9日10:00。\n",
    "\n",
    "长期赛\n",
    "\n",
    "9月16日——10月24日\n",
    "\n",
    "因赛事以学习实践为主，正式赛将转变为长期赛，供开发者学习实践。本阶段提交后，系统会根据成绩持续更新榜单，但该阶段榜单不再进行公示和奖励。\n",
    "\n",
    "六、奖项设置\n",
    "\n",
    "本赛题设立一、二、三等奖各一名，具体详情如下：\n",
    "\n",
    "一等奖：1支队伍，周赛一等奖证书，奖金：1000元\n",
    "\n",
    "二等奖：1支队伍，周赛二等奖证书，奖金：800元\n",
    "\n",
    "三等奖：1支队伍，周赛三等奖证书，奖金：500元"
   ]
  },
  {
   "cell_type": "markdown",
   "metadata": {},
   "source": [
    "# 赛题Baseline\n",
    "\n",
    "## 导入常用工具包&读取数据\n",
    "\n",
    "### 常用工具包导入\n",
    "\n"
   ]
  },
  {
   "cell_type": "code",
   "execution_count": 1,
   "metadata": {
    "ExecuteTime": {
     "end_time": "2021-08-15T04:22:03.561360Z",
     "start_time": "2021-08-15T04:22:01.967251Z"
    }
   },
   "outputs": [],
   "source": [
    "import numpy as np\n",
    "import pandas as pd\n",
    "import matplotlib.pyplot as plt\n",
    "import os \n",
    "import gc\n",
    "import glob\n",
    "from joblib import Parallel, delayed\n",
    "import seaborn as sns\n",
    "from tqdm import tqdm\n",
    "from sklearn.model_selection import KFold \n",
    "import lightgbm as lgbm  "
   ]
  },
  {
   "cell_type": "markdown",
   "metadata": {},
   "source": [
    "\n",
    "### 数据读取"
   ]
  },
  {
   "cell_type": "code",
   "execution_count": 2,
   "metadata": {
    "ExecuteTime": {
     "end_time": "2021-08-15T04:23:03.834314Z",
     "start_time": "2021-08-15T04:22:57.023863Z"
    }
   },
   "outputs": [],
   "source": [
    "data_path = './data/' \n",
    "df_tr               = pd.read_csv(data_path + 'train.csv')\n",
    "df_tr_app_events    = pd.read_csv(data_path + 'train_app_events.csv')\n",
    "df_te               = pd.read_csv(data_path + 'test.csv')\n",
    "df_te_app_events    = pd.read_csv(data_path + 'test_app_events.csv') "
   ]
  },
  {
   "cell_type": "code",
   "execution_count": null,
   "metadata": {},
   "outputs": [],
   "source": [
    "df_tr_te_app_events = pd.concat([df_tr_app_events,df_te_app_events],axis=0,ignore_index = True) "
   ]
  },
  {
   "cell_type": "markdown",
   "metadata": {},
   "source": [
    "## 数据分析"
   ]
  },
  {
   "cell_type": "code",
   "execution_count": 15,
   "metadata": {
    "ExecuteTime": {
     "end_time": "2021-08-15T07:58:56.340600Z",
     "start_time": "2021-08-15T07:58:56.286466Z"
    }
   },
   "outputs": [
    {
     "data": {
      "text/html": [
       "<div>\n",
       "<style scoped>\n",
       "    .dataframe tbody tr th:only-of-type {\n",
       "        vertical-align: middle;\n",
       "    }\n",
       "\n",
       "    .dataframe tbody tr th {\n",
       "        vertical-align: top;\n",
       "    }\n",
       "\n",
       "    .dataframe thead th {\n",
       "        text-align: right;\n",
       "    }\n",
       "</style>\n",
       "<table border=\"1\" class=\"dataframe\">\n",
       "  <thead>\n",
       "    <tr style=\"text-align: right;\">\n",
       "      <th></th>\n",
       "      <th>event_id</th>\n",
       "      <th>app_id</th>\n",
       "      <th>is_installed</th>\n",
       "      <th>is_active</th>\n",
       "      <th>device_id</th>\n",
       "      <th>tag_list</th>\n",
       "      <th>date</th>\n",
       "    </tr>\n",
       "  </thead>\n",
       "  <tbody>\n",
       "    <tr>\n",
       "      <th>0</th>\n",
       "      <td>6</td>\n",
       "      <td>0</td>\n",
       "      <td>1</td>\n",
       "      <td>1</td>\n",
       "      <td>14271</td>\n",
       "      <td>[549, 721, 704, 302, 303, 548, 183]</td>\n",
       "      <td>1</td>\n",
       "    </tr>\n",
       "    <tr>\n",
       "      <th>1</th>\n",
       "      <td>6</td>\n",
       "      <td>1</td>\n",
       "      <td>1</td>\n",
       "      <td>1</td>\n",
       "      <td>14271</td>\n",
       "      <td>[713, 704, 548]</td>\n",
       "      <td>1</td>\n",
       "    </tr>\n",
       "    <tr>\n",
       "      <th>2</th>\n",
       "      <td>6</td>\n",
       "      <td>2</td>\n",
       "      <td>1</td>\n",
       "      <td>1</td>\n",
       "      <td>14271</td>\n",
       "      <td>[549, 710, 704, 548, 172]</td>\n",
       "      <td>1</td>\n",
       "    </tr>\n",
       "    <tr>\n",
       "      <th>3</th>\n",
       "      <td>6</td>\n",
       "      <td>3</td>\n",
       "      <td>1</td>\n",
       "      <td>1</td>\n",
       "      <td>14271</td>\n",
       "      <td>[548, 549]</td>\n",
       "      <td>1</td>\n",
       "    </tr>\n",
       "    <tr>\n",
       "      <th>4</th>\n",
       "      <td>6</td>\n",
       "      <td>4</td>\n",
       "      <td>1</td>\n",
       "      <td>1</td>\n",
       "      <td>14271</td>\n",
       "      <td>[128, 1014]</td>\n",
       "      <td>1</td>\n",
       "    </tr>\n",
       "  </tbody>\n",
       "</table>\n",
       "</div>"
      ],
      "text/plain": [
       "   event_id  app_id  is_installed  is_active  device_id  \\\n",
       "0         6       0             1          1      14271   \n",
       "1         6       1             1          1      14271   \n",
       "2         6       2             1          1      14271   \n",
       "3         6       3             1          1      14271   \n",
       "4         6       4             1          1      14271   \n",
       "\n",
       "                              tag_list  date  \n",
       "0  [549, 721, 704, 302, 303, 548, 183]     1  \n",
       "1                      [713, 704, 548]     1  \n",
       "2            [549, 710, 704, 548, 172]     1  \n",
       "3                           [548, 549]     1  \n",
       "4                          [128, 1014]     1  "
      ]
     },
     "execution_count": 15,
     "metadata": {},
     "output_type": "execute_result"
    }
   ],
   "source": [
    "df_tr_te_app_events.head()"
   ]
  },
  {
   "cell_type": "markdown",
   "metadata": {},
   "source": [
    "### gender\n",
    "\n",
    "- gender一共有两个不同的值，0和1，分布看起来相对均匀"
   ]
  },
  {
   "cell_type": "code",
   "execution_count": 13,
   "metadata": {
    "ExecuteTime": {
     "end_time": "2021-08-15T07:54:58.957062Z",
     "start_time": "2021-08-15T07:54:58.954115Z"
    }
   },
   "outputs": [],
   "source": [
    "df_tr['gender'].value_counts().plot(kind = 'bar')"
   ]
  },
  {
   "cell_type": "markdown",
   "metadata": {},
   "source": [
    "\n",
    "<img src=\"./pic/gender_distribution.png\" width = \"400\" height = \"150\" alt=\"gender_distribution\" align=center />\n"
   ]
  },
  {
   "cell_type": "markdown",
   "metadata": {},
   "source": [
    "### age\n",
    "\n",
    "- age主要分布在20-40岁之间"
   ]
  },
  {
   "cell_type": "code",
   "execution_count": 12,
   "metadata": {
    "ExecuteTime": {
     "end_time": "2021-08-15T07:54:03.950608Z",
     "start_time": "2021-08-15T07:54:03.947861Z"
    }
   },
   "outputs": [],
   "source": [
    "plt.figure(figsize = [10,8])\n",
    "sns.distplot(df_tr['age'])"
   ]
  },
  {
   "cell_type": "markdown",
   "metadata": {},
   "source": [
    "\n",
    "<img src=\"./pic/age_distribution.png\" width = \"400\" height = \"150\" alt=\"age_distribution\" align=center />\n"
   ]
  },
  {
   "cell_type": "markdown",
   "metadata": {},
   "source": [
    "### date\n",
    "\n",
    "- date的分布较为均匀"
   ]
  },
  {
   "cell_type": "code",
   "execution_count": 18,
   "metadata": {
    "ExecuteTime": {
     "end_time": "2021-08-15T08:01:37.438544Z",
     "start_time": "2021-08-15T08:01:37.187260Z"
    }
   },
   "outputs": [
    {
     "data": {
      "text/plain": [
       "<AxesSubplot:>"
      ]
     },
     "execution_count": 18,
     "metadata": {},
     "output_type": "execute_result"
    },
    {
     "data": {
      "image/png": "[encoded data removed]",
      "text/plain": [
       "<Figure size 432x288 with 1 Axes>"
      ]
     },
     "metadata": {
      "needs_background": "light"
     },
     "output_type": "display_data"
    }
   ],
   "source": [
    "df_tr_te_app_events['date'].value_counts().plot(kind = 'bar')"
   ]
  },
  {
   "cell_type": "markdown",
   "metadata": {},
   "source": [
    "### event_id\n",
    "\n",
    "- event_id的分布并不均衡，有很多值为1"
   ]
  },
  {
   "cell_type": "code",
   "execution_count": 20,
   "metadata": {
    "ExecuteTime": {
     "end_time": "2021-08-15T08:38:28.961030Z",
     "start_time": "2021-08-15T08:38:28.505471Z"
    }
   },
   "outputs": [
    {
     "data": {
      "text/plain": [
       "3007317    247\n",
       "2611873    247\n",
       "2793993    245\n",
       "1268100    245\n",
       "3105953    245\n",
       "          ... \n",
       "1456316      1\n",
       "178732       1\n",
       "3110362      1\n",
       "2946474      1\n",
       "1349305      1\n",
       "Name: event_id, Length: 556375, dtype: int64"
      ]
     },
     "execution_count": 20,
     "metadata": {},
     "output_type": "execute_result"
    }
   ],
   "source": [
    "df_tr_te_app_events['event_id'].value_counts()"
   ]
  },
  {
   "cell_type": "markdown",
   "metadata": {},
   "source": [
    "### app_id\n",
    "\n",
    "- app_id的较小的出现次数较多。"
   ]
  },
  {
   "cell_type": "code",
   "execution_count": 25,
   "metadata": {
    "ExecuteTime": {
     "end_time": "2021-08-15T08:43:14.460608Z",
     "start_time": "2021-08-15T08:42:52.317471Z"
    }
   },
   "outputs": [
    {
     "name": "stderr",
     "output_type": "stream",
     "text": [
      "/Users/wangrong/opt/anaconda3/lib/python3.8/site-packages/seaborn/distributions.py:2557: FutureWarning: `distplot` is a deprecated function and will be removed in a future version. Please adapt your code to use either `displot` (a figure-level function with similar flexibility) or `histplot` (an axes-level function for histograms).\n",
      "  warnings.warn(msg, FutureWarning)\n"
     ]
    },
    {
     "data": {
      "text/plain": [
       "<AxesSubplot:xlabel='app_id', ylabel='Density'>"
      ]
     },
     "execution_count": 25,
     "metadata": {},
     "output_type": "execute_result"
    },
    {
     "data": {
      "image/png": "[encoded data removed]",
      "text/plain": [
       "<Figure size 432x288 with 1 Axes>"
      ]
     },
     "metadata": {
      "needs_background": "light"
     },
     "output_type": "display_data"
    }
   ],
   "source": [
    "sns.distplot(df_tr_te_app_events['app_id'])"
   ]
  },
  {
   "cell_type": "code",
   "execution_count": 26,
   "metadata": {
    "ExecuteTime": {
     "end_time": "2021-08-15T08:43:53.089075Z",
     "start_time": "2021-08-15T08:43:52.772735Z"
    }
   },
   "outputs": [
    {
     "data": {
      "text/plain": [
       "8        433103\n",
       "2        338678\n",
       "30       304719\n",
       "84       239018\n",
       "3        147057\n",
       "          ...  \n",
       "11906         1\n",
       "13439         1\n",
       "13437         1\n",
       "13434         1\n",
       "9513          1\n",
       "Name: app_id, Length: 13762, dtype: int64"
      ]
     },
     "execution_count": 26,
     "metadata": {},
     "output_type": "execute_result"
    }
   ],
   "source": [
    "df_tr_te_app_events['app_id'].value_counts()"
   ]
  },
  {
   "cell_type": "markdown",
   "metadata": {
    "ExecuteTime": {
     "end_time": "2021-08-08T13:01:16.716204Z",
     "start_time": "2021-08-08T13:01:16.697187Z"
    }
   },
   "source": [
    "### 小结\n",
    "\n",
    "从上面的基础分析来看，本次赛题的数据基本符合我们的直观理解。至于其它的细节，大家可以根据自己的需求进行分析。下面我们构建该赛题的Baseline。"
   ]
  },
  {
   "cell_type": "markdown",
   "metadata": {
    "ExecuteTime": {
     "end_time": "2021-08-08T12:19:43.122811Z",
     "start_time": "2021-08-08T12:19:43.093323Z"
    }
   },
   "source": [
    "## 模型构建\n",
    "### 特征工程\n",
    "\n",
    "#### tag_list的长度"
   ]
  },
  {
   "cell_type": "code",
   "execution_count": 35,
   "metadata": {
    "ExecuteTime": {
     "end_time": "2021-08-15T08:50:50.227888Z",
     "start_time": "2021-08-15T08:50:45.192787Z"
    }
   },
   "outputs": [],
   "source": [
    "df_tr_te_app_events['tag_list_len'] = df_tr_te_app_events['tag_list'].apply(lambda x: x.count(',')+1)"
   ]
  },
  {
   "cell_type": "markdown",
   "metadata": {},
   "source": [
    "#### 基础特征工程\n",
    "\n",
    "- event_id：出现次数&不同值；\n",
    "- app_id：出现的不同值；\n",
    "- is_installed：均值和和；\n",
    "- is_active：均值和和；\n",
    "- date：最大值，不同值；\n",
    "- tag_list_len：均值和标准差"
   ]
  },
  {
   "cell_type": "code",
   "execution_count": 44,
   "metadata": {
    "ExecuteTime": {
     "end_time": "2021-08-15T08:57:52.193172Z",
     "start_time": "2021-08-15T08:57:43.031033Z"
    }
   },
   "outputs": [],
   "source": [
    "agg_dic = {\n",
    "    \"event_id\":['count','nunique'],\n",
    "    \"app_id\":['nunique'], \n",
    "    \"is_installed\":[np.mean,np.sum],\n",
    "    \"is_active\":[np.mean,np.sum],\n",
    "    \"date\":[np.max, 'nunique'],\n",
    "    \"tag_list_len\":[np.mean, np.std] \n",
    "}\n",
    "\n",
    "df_device_features = df_tr_te_app_events.groupby('device_id').agg(agg_dic).reset_index()\n",
    "\n",
    "fea_names = ['_'.join(c) for c in df_device_features.columns]\n",
    "df_device_features.columns = fea_names\n",
    "df_device_features.rename(columns = {'device_id_':'device_id'},inplace = True)"
   ]
  },
  {
   "cell_type": "code",
   "execution_count": 48,
   "metadata": {
    "ExecuteTime": {
     "end_time": "2021-08-15T08:58:43.056767Z",
     "start_time": "2021-08-15T08:58:43.021297Z"
    }
   },
   "outputs": [
    {
     "data": {
      "text/html": [
       "<div>\n",
       "<style scoped>\n",
       "    .dataframe tbody tr th:only-of-type {\n",
       "        vertical-align: middle;\n",
       "    }\n",
       "\n",
       "    .dataframe tbody tr th {\n",
       "        vertical-align: top;\n",
       "    }\n",
       "\n",
       "    .dataframe thead th {\n",
       "        text-align: right;\n",
       "    }\n",
       "</style>\n",
       "<table border=\"1\" class=\"dataframe\">\n",
       "  <thead>\n",
       "    <tr style=\"text-align: right;\">\n",
       "      <th></th>\n",
       "      <th>device_id</th>\n",
       "      <th>event_id_count</th>\n",
       "      <th>event_id_nunique</th>\n",
       "      <th>app_id_nunique</th>\n",
       "      <th>is_installed_mean</th>\n",
       "      <th>is_installed_sum</th>\n",
       "      <th>is_active_mean</th>\n",
       "      <th>is_active_sum</th>\n",
       "      <th>date_amax</th>\n",
       "      <th>date_nunique</th>\n",
       "      <th>tag_list_len_mean</th>\n",
       "      <th>tag_list_len_std</th>\n",
       "    </tr>\n",
       "  </thead>\n",
       "  <tbody>\n",
       "    <tr>\n",
       "      <th>0</th>\n",
       "      <td>0</td>\n",
       "      <td>53</td>\n",
       "      <td>1</td>\n",
       "      <td>53</td>\n",
       "      <td>1</td>\n",
       "      <td>53</td>\n",
       "      <td>0.113208</td>\n",
       "      <td>6</td>\n",
       "      <td>1</td>\n",
       "      <td>1</td>\n",
       "      <td>5.188679</td>\n",
       "      <td>4.578615</td>\n",
       "    </tr>\n",
       "    <tr>\n",
       "      <th>1</th>\n",
       "      <td>1</td>\n",
       "      <td>81</td>\n",
       "      <td>3</td>\n",
       "      <td>30</td>\n",
       "      <td>1</td>\n",
       "      <td>81</td>\n",
       "      <td>0.456790</td>\n",
       "      <td>37</td>\n",
       "      <td>6</td>\n",
       "      <td>2</td>\n",
       "      <td>5.049383</td>\n",
       "      <td>3.488915</td>\n",
       "    </tr>\n",
       "    <tr>\n",
       "      <th>2</th>\n",
       "      <td>2</td>\n",
       "      <td>154</td>\n",
       "      <td>11</td>\n",
       "      <td>20</td>\n",
       "      <td>1</td>\n",
       "      <td>154</td>\n",
       "      <td>0.727273</td>\n",
       "      <td>112</td>\n",
       "      <td>5</td>\n",
       "      <td>3</td>\n",
       "      <td>6.201299</td>\n",
       "      <td>3.941367</td>\n",
       "    </tr>\n",
       "    <tr>\n",
       "      <th>3</th>\n",
       "      <td>3</td>\n",
       "      <td>109</td>\n",
       "      <td>5</td>\n",
       "      <td>24</td>\n",
       "      <td>1</td>\n",
       "      <td>109</td>\n",
       "      <td>0.587156</td>\n",
       "      <td>64</td>\n",
       "      <td>5</td>\n",
       "      <td>4</td>\n",
       "      <td>5.119266</td>\n",
       "      <td>3.338121</td>\n",
       "    </tr>\n",
       "    <tr>\n",
       "      <th>4</th>\n",
       "      <td>4</td>\n",
       "      <td>303</td>\n",
       "      <td>6</td>\n",
       "      <td>96</td>\n",
       "      <td>1</td>\n",
       "      <td>303</td>\n",
       "      <td>0.273927</td>\n",
       "      <td>83</td>\n",
       "      <td>6</td>\n",
       "      <td>4</td>\n",
       "      <td>6.260726</td>\n",
       "      <td>4.535512</td>\n",
       "    </tr>\n",
       "  </tbody>\n",
       "</table>\n",
       "</div>"
      ],
      "text/plain": [
       "   device_id  event_id_count  event_id_nunique  app_id_nunique  \\\n",
       "0          0              53                 1              53   \n",
       "1          1              81                 3              30   \n",
       "2          2             154                11              20   \n",
       "3          3             109                 5              24   \n",
       "4          4             303                 6              96   \n",
       "\n",
       "   is_installed_mean  is_installed_sum  is_active_mean  is_active_sum  \\\n",
       "0                  1                53        0.113208              6   \n",
       "1                  1                81        0.456790             37   \n",
       "2                  1               154        0.727273            112   \n",
       "3                  1               109        0.587156             64   \n",
       "4                  1               303        0.273927             83   \n",
       "\n",
       "   date_amax  date_nunique  tag_list_len_mean  tag_list_len_std  \n",
       "0          1             1           5.188679          4.578615  \n",
       "1          6             2           5.049383          3.488915  \n",
       "2          5             3           6.201299          3.941367  \n",
       "3          5             4           5.119266          3.338121  \n",
       "4          6             4           6.260726          4.535512  "
      ]
     },
     "execution_count": 48,
     "metadata": {},
     "output_type": "execute_result"
    }
   ],
   "source": [
    "df_device_features.head()"
   ]
  },
  {
   "cell_type": "markdown",
   "metadata": {},
   "source": [
    "#### 特征组合\n",
    "\n",
    "- 常用的count/nunqiue & mean/std组合"
   ]
  },
  {
   "cell_type": "code",
   "execution_count": 49,
   "metadata": {
    "ExecuteTime": {
     "end_time": "2021-08-15T09:02:05.594075Z",
     "start_time": "2021-08-15T09:02:05.532367Z"
    }
   },
   "outputs": [],
   "source": [
    "df_device_features['event_id_count_nunique_ratio'] = df_device_features['event_id_count'] / df_device_features['event_id_nunique']\n",
    "df_device_features['tag_list_len_mean_div_std'] = df_device_features['tag_list_len_mean'] / df_device_features['tag_list_len_std']"
   ]
  },
  {
   "cell_type": "markdown",
   "metadata": {
    "ExecuteTime": {
     "end_time": "2021-08-08T12:23:49.840993Z",
     "start_time": "2021-08-08T12:23:49.838892Z"
    }
   },
   "source": [
    "#### 特征拼接"
   ]
  },
  {
   "cell_type": "code",
   "execution_count": 52,
   "metadata": {
    "ExecuteTime": {
     "end_time": "2021-08-15T09:03:07.521832Z",
     "start_time": "2021-08-15T09:03:07.422558Z"
    }
   },
   "outputs": [],
   "source": [
    "df_tr = df_tr.merge(df_device_features, on = 'device_id' , how='left')\n",
    "df_te = df_te.merge(df_device_features, on = 'device_id' , how='left')"
   ]
  },
  {
   "cell_type": "code",
   "execution_count": 54,
   "metadata": {
    "ExecuteTime": {
     "end_time": "2021-08-15T09:03:40.865237Z",
     "start_time": "2021-08-15T09:03:38.462006Z"
    }
   },
   "outputs": [
    {
     "data": {
      "text/plain": [
       "3167"
      ]
     },
     "execution_count": 54,
     "metadata": {},
     "output_type": "execute_result"
    }
   ],
   "source": [
    "del df_tr_te_app_events\n",
    "gc.collect()"
   ]
  },
  {
   "cell_type": "code",
   "execution_count": 55,
   "metadata": {
    "ExecuteTime": {
     "end_time": "2021-08-15T09:04:12.802182Z",
     "start_time": "2021-08-15T09:04:12.782471Z"
    }
   },
   "outputs": [
    {
     "data": {
      "text/html": [
       "<div>\n",
       "<style scoped>\n",
       "    .dataframe tbody tr th:only-of-type {\n",
       "        vertical-align: middle;\n",
       "    }\n",
       "\n",
       "    .dataframe tbody tr th {\n",
       "        vertical-align: top;\n",
       "    }\n",
       "\n",
       "    .dataframe thead th {\n",
       "        text-align: right;\n",
       "    }\n",
       "</style>\n",
       "<table border=\"1\" class=\"dataframe\">\n",
       "  <thead>\n",
       "    <tr style=\"text-align: right;\">\n",
       "      <th></th>\n",
       "      <th>device_id</th>\n",
       "      <th>gender</th>\n",
       "      <th>age</th>\n",
       "      <th>phone_brand</th>\n",
       "      <th>device_model</th>\n",
       "      <th>event_id_count</th>\n",
       "      <th>event_id_nunique</th>\n",
       "      <th>app_id_nunique</th>\n",
       "      <th>is_installed_mean</th>\n",
       "      <th>is_installed_sum</th>\n",
       "      <th>is_active_mean</th>\n",
       "      <th>is_active_sum</th>\n",
       "      <th>date_amax</th>\n",
       "      <th>date_nunique</th>\n",
       "      <th>tag_list_len_mean</th>\n",
       "      <th>tag_list_len_std</th>\n",
       "      <th>event_id_count_nunique_ratio</th>\n",
       "      <th>tag_list_len_mean_div_std</th>\n",
       "    </tr>\n",
       "  </thead>\n",
       "  <tbody>\n",
       "    <tr>\n",
       "      <th>0</th>\n",
       "      <td>0</td>\n",
       "      <td>0</td>\n",
       "      <td>35</td>\n",
       "      <td>0</td>\n",
       "      <td>0</td>\n",
       "      <td>53</td>\n",
       "      <td>1</td>\n",
       "      <td>53</td>\n",
       "      <td>1</td>\n",
       "      <td>53</td>\n",
       "      <td>0.113208</td>\n",
       "      <td>6</td>\n",
       "      <td>1</td>\n",
       "      <td>1</td>\n",
       "      <td>5.188679</td>\n",
       "      <td>4.578615</td>\n",
       "      <td>53.0</td>\n",
       "      <td>1.133242</td>\n",
       "    </tr>\n",
       "    <tr>\n",
       "      <th>1</th>\n",
       "      <td>1</td>\n",
       "      <td>1</td>\n",
       "      <td>37</td>\n",
       "      <td>1</td>\n",
       "      <td>1</td>\n",
       "      <td>81</td>\n",
       "      <td>3</td>\n",
       "      <td>30</td>\n",
       "      <td>1</td>\n",
       "      <td>81</td>\n",
       "      <td>0.456790</td>\n",
       "      <td>37</td>\n",
       "      <td>6</td>\n",
       "      <td>2</td>\n",
       "      <td>5.049383</td>\n",
       "      <td>3.488915</td>\n",
       "      <td>27.0</td>\n",
       "      <td>1.447264</td>\n",
       "    </tr>\n",
       "    <tr>\n",
       "      <th>2</th>\n",
       "      <td>2</td>\n",
       "      <td>0</td>\n",
       "      <td>32</td>\n",
       "      <td>1</td>\n",
       "      <td>2</td>\n",
       "      <td>154</td>\n",
       "      <td>11</td>\n",
       "      <td>20</td>\n",
       "      <td>1</td>\n",
       "      <td>154</td>\n",
       "      <td>0.727273</td>\n",
       "      <td>112</td>\n",
       "      <td>5</td>\n",
       "      <td>3</td>\n",
       "      <td>6.201299</td>\n",
       "      <td>3.941367</td>\n",
       "      <td>14.0</td>\n",
       "      <td>1.573388</td>\n",
       "    </tr>\n",
       "    <tr>\n",
       "      <th>3</th>\n",
       "      <td>3</td>\n",
       "      <td>1</td>\n",
       "      <td>28</td>\n",
       "      <td>1</td>\n",
       "      <td>2</td>\n",
       "      <td>109</td>\n",
       "      <td>5</td>\n",
       "      <td>24</td>\n",
       "      <td>1</td>\n",
       "      <td>109</td>\n",
       "      <td>0.587156</td>\n",
       "      <td>64</td>\n",
       "      <td>5</td>\n",
       "      <td>4</td>\n",
       "      <td>5.119266</td>\n",
       "      <td>3.338121</td>\n",
       "      <td>21.8</td>\n",
       "      <td>1.533577</td>\n",
       "    </tr>\n",
       "    <tr>\n",
       "      <th>4</th>\n",
       "      <td>4</td>\n",
       "      <td>0</td>\n",
       "      <td>75</td>\n",
       "      <td>2</td>\n",
       "      <td>3</td>\n",
       "      <td>303</td>\n",
       "      <td>6</td>\n",
       "      <td>96</td>\n",
       "      <td>1</td>\n",
       "      <td>303</td>\n",
       "      <td>0.273927</td>\n",
       "      <td>83</td>\n",
       "      <td>6</td>\n",
       "      <td>4</td>\n",
       "      <td>6.260726</td>\n",
       "      <td>4.535512</td>\n",
       "      <td>50.5</td>\n",
       "      <td>1.380379</td>\n",
       "    </tr>\n",
       "  </tbody>\n",
       "</table>\n",
       "</div>"
      ],
      "text/plain": [
       "   device_id  gender  age  phone_brand  device_model  event_id_count  \\\n",
       "0          0       0   35            0             0              53   \n",
       "1          1       1   37            1             1              81   \n",
       "2          2       0   32            1             2             154   \n",
       "3          3       1   28            1             2             109   \n",
       "4          4       0   75            2             3             303   \n",
       "\n",
       "   event_id_nunique  app_id_nunique  is_installed_mean  is_installed_sum  \\\n",
       "0                 1              53                  1                53   \n",
       "1                 3              30                  1                81   \n",
       "2                11              20                  1               154   \n",
       "3                 5              24                  1               109   \n",
       "4                 6              96                  1               303   \n",
       "\n",
       "   is_active_mean  is_active_sum  date_amax  date_nunique  tag_list_len_mean  \\\n",
       "0        0.113208              6          1             1           5.188679   \n",
       "1        0.456790             37          6             2           5.049383   \n",
       "2        0.727273            112          5             3           6.201299   \n",
       "3        0.587156             64          5             4           5.119266   \n",
       "4        0.273927             83          6             4           6.260726   \n",
       "\n",
       "   tag_list_len_std  event_id_count_nunique_ratio  tag_list_len_mean_div_std  \n",
       "0          4.578615                          53.0                   1.133242  \n",
       "1          3.488915                          27.0                   1.447264  \n",
       "2          3.941367                          14.0                   1.573388  \n",
       "3          3.338121                          21.8                   1.533577  \n",
       "4          4.535512                          50.5                   1.380379  "
      ]
     },
     "execution_count": 55,
     "metadata": {},
     "output_type": "execute_result"
    }
   ],
   "source": [
    "df_tr.head()"
   ]
  },
  {
   "cell_type": "code",
   "execution_count": 56,
   "metadata": {
    "ExecuteTime": {
     "end_time": "2021-08-15T09:04:29.314137Z",
     "start_time": "2021-08-15T09:04:29.308586Z"
    }
   },
   "outputs": [
    {
     "data": {
      "text/plain": [
       "Index(['device_id', 'gender', 'age', 'phone_brand', 'device_model',\n",
       "       'event_id_count', 'event_id_nunique', 'app_id_nunique',\n",
       "       'is_installed_mean', 'is_installed_sum', 'is_active_mean',\n",
       "       'is_active_sum', 'date_amax', 'date_nunique', 'tag_list_len_mean',\n",
       "       'tag_list_len_std', 'event_id_count_nunique_ratio',\n",
       "       'tag_list_len_mean_div_std'],\n",
       "      dtype='object')"
      ]
     },
     "execution_count": 56,
     "metadata": {},
     "output_type": "execute_result"
    }
   ],
   "source": [
    "df_tr.columns"
   ]
  },
  {
   "cell_type": "markdown",
   "metadata": {
    "ExecuteTime": {
     "end_time": "2021-08-08T12:24:31.990819Z",
     "start_time": "2021-08-08T12:24:31.988238Z"
    }
   },
   "source": [
    "## 模型训练&预测\n",
    "\n",
    "### 特征&标签设计"
   ]
  },
  {
   "cell_type": "code",
   "execution_count": 57,
   "metadata": {
    "ExecuteTime": {
     "end_time": "2021-08-15T09:05:32.924409Z",
     "start_time": "2021-08-15T09:05:32.897984Z"
    }
   },
   "outputs": [],
   "source": [
    "tr_features = ['device_id',  'phone_brand', 'device_model', 'event_id_count', 'event_id_nunique', 'app_id_nunique',\n",
    "       'is_installed_mean', 'is_installed_sum', 'is_active_mean', 'is_active_sum', 'date_amax', 'date_nunique', 'tag_list_len_mean',\n",
    "       'tag_list_len_std', 'event_id_count_nunique_ratio','tag_list_len_mean_div_std']\n",
    "label_gender   = 'gender'\n",
    "label_age      = 'age'"
   ]
  },
  {
   "cell_type": "markdown",
   "metadata": {},
   "source": [
    "### gender模型"
   ]
  },
  {
   "cell_type": "code",
   "execution_count": 74,
   "metadata": {
    "ExecuteTime": {
     "end_time": "2021-08-15T09:12:59.135252Z",
     "start_time": "2021-08-15T09:12:59.129781Z"
    }
   },
   "outputs": [
    {
     "data": {
      "text/plain": [
       "0    2668\n",
       "1    1347\n",
       "Name: gender, dtype: int64"
      ]
     },
     "execution_count": 74,
     "metadata": {},
     "output_type": "execute_result"
    }
   ],
   "source": [
    "y_valid.value_counts()"
   ]
  },
  {
   "cell_type": "code",
   "execution_count": 87,
   "metadata": {
    "ExecuteTime": {
     "end_time": "2021-08-15T09:19:26.153937Z",
     "start_time": "2021-08-15T09:19:20.704007Z"
    },
    "scrolled": true
   },
   "outputs": [
    {
     "name": "stderr",
     "output_type": "stream",
     "text": [
      "/Users/wangrong/opt/anaconda3/lib/python3.8/site-packages/lightgbm/engine.py:153: UserWarning: Found `early_stopping_rounds` in params. Will use it instead of argument\n",
      "  _log_warning(\"Found `{}` in params. Will use it instead of argument\".format(alias))\n"
     ]
    },
    {
     "name": "stdout",
     "output_type": "stream",
     "text": [
      "[LightGBM] [Info] Number of positive: 5742, number of negative: 10318\n",
      "[LightGBM] [Warning] Auto-choosing col-wise multi-threading, the overhead of testing was 0.002834 seconds.\n",
      "You can set `force_col_wise=true` to remove the overhead.\n",
      "[LightGBM] [Info] Total Bins 3032\n",
      "[LightGBM] [Info] Number of data points in the train set: 16060, number of used features: 15\n",
      "[LightGBM] [Info] [binary:BoostFromScore]: pavg=0.357534 -> initscore=-0.586082\n",
      "[LightGBM] [Info] Start training from score -0.586082\n",
      "Training until validation scores don't improve for 100 rounds\n",
      "[100]\ttraining's binary_error: 0.349004\tvalid_1's binary_error: 0.343711\n",
      "[200]\ttraining's binary_error: 0.325903\tvalid_1's binary_error: 0.341968\n",
      "Early stopping, best iteration is:\n",
      "[138]\ttraining's binary_error: 0.341034\tvalid_1's binary_error: 0.340722\n",
      "[LightGBM] [Info] Number of positive: 5581, number of negative: 10479\n",
      "[LightGBM] [Warning] Auto-choosing col-wise multi-threading, the overhead of testing was 0.001524 seconds.\n",
      "You can set `force_col_wise=true` to remove the overhead.\n",
      "[LightGBM] [Info] Total Bins 3030\n",
      "[LightGBM] [Info] Number of data points in the train set: 16060, number of used features: 15\n",
      "[LightGBM] [Info] [binary:BoostFromScore]: pavg=0.347509 -> initscore=-0.630005\n",
      "[LightGBM] [Info] Start training from score -0.630005\n",
      "Training until validation scores don't improve for 100 rounds\n",
      "[100]\ttraining's binary_error: 0.338667\tvalid_1's binary_error: 0.382316\n",
      "[200]\ttraining's binary_error: 0.322354\tvalid_1's binary_error: 0.378082\n",
      "[300]\ttraining's binary_error: 0.306476\tvalid_1's binary_error: 0.376837\n",
      "Early stopping, best iteration is:\n",
      "[280]\ttraining's binary_error: 0.310772\tvalid_1's binary_error: 0.374595\n",
      "[LightGBM] [Info] Number of positive: 5715, number of negative: 10345\n",
      "[LightGBM] [Warning] Auto-choosing col-wise multi-threading, the overhead of testing was 0.001416 seconds.\n",
      "You can set `force_col_wise=true` to remove the overhead.\n",
      "[LightGBM] [Info] Total Bins 3037\n",
      "[LightGBM] [Info] Number of data points in the train set: 16060, number of used features: 15\n",
      "[LightGBM] [Info] [binary:BoostFromScore]: pavg=0.355853 -> initscore=-0.593409\n",
      "[LightGBM] [Info] Start training from score -0.593409\n",
      "Training until validation scores don't improve for 100 rounds\n",
      "[100]\ttraining's binary_error: 0.349564\tvalid_1's binary_error: 0.344956\n",
      "[200]\ttraining's binary_error: 0.330573\tvalid_1's binary_error: 0.347198\n",
      "Early stopping, best iteration is:\n",
      "[140]\ttraining's binary_error: 0.34396\tvalid_1's binary_error: 0.34396\n",
      "[LightGBM] [Info] Number of positive: 5681, number of negative: 10379\n",
      "[LightGBM] [Warning] Auto-choosing col-wise multi-threading, the overhead of testing was 0.000921 seconds.\n",
      "You can set `force_col_wise=true` to remove the overhead.\n",
      "[LightGBM] [Info] Total Bins 3036\n",
      "[LightGBM] [Info] Number of data points in the train set: 16060, number of used features: 15\n",
      "[LightGBM] [Info] [binary:BoostFromScore]: pavg=0.353736 -> initscore=-0.602657\n",
      "[LightGBM] [Info] Start training from score -0.602657\n",
      "Training until validation scores don't improve for 100 rounds\n",
      "[100]\ttraining's binary_error: 0.35193\tvalid_1's binary_error: 0.356912\n",
      "[200]\ttraining's binary_error: 0.331756\tvalid_1's binary_error: 0.353176\n",
      "Early stopping, best iteration is:\n",
      "[132]\ttraining's binary_error: 0.340722\tvalid_1's binary_error: 0.34944\n",
      "[LightGBM] [Info] Number of positive: 5777, number of negative: 10283\n",
      "[LightGBM] [Warning] Auto-choosing col-wise multi-threading, the overhead of testing was 0.000947 seconds.\n",
      "You can set `force_col_wise=true` to remove the overhead.\n",
      "[LightGBM] [Info] Total Bins 3038\n",
      "[LightGBM] [Info] Number of data points in the train set: 16060, number of used features: 15\n",
      "[LightGBM] [Info] [binary:BoostFromScore]: pavg=0.359714 -> initscore=-0.576608\n",
      "[LightGBM] [Info] Start training from score -0.576608\n",
      "Training until validation scores don't improve for 100 rounds\n",
      "[100]\ttraining's binary_error: 0.352927\tvalid_1's binary_error: 0.335243\n",
      "Early stopping, best iteration is:\n",
      "[85]\ttraining's binary_error: 0.356413\tvalid_1's binary_error: 0.332752\n"
     ]
    }
   ],
   "source": [
    "lgb_params = {\n",
    "      \"objective\": \"binary\", \n",
    "      \"metric\": \"binary_error\", \n",
    "      \"boosting_type\": \"gbdt\",\n",
    "      'early_stopping_rounds': 100,\n",
    "      'learning_rate': 0.01,  \n",
    "      'colsample_bytree':0.95, \n",
    "} \n",
    "\n",
    "X_tr_val = df_tr[tr_features + [label_gender]]\n",
    "X_te     = df_te[tr_features]\n",
    " \n",
    "kf = KFold(n_splits=5)\n",
    "lgb_gender_models = []\n",
    "y_pred = 0\n",
    "for f,(tr_ind,val_ind) in enumerate(kf.split(X_tr_val)):\n",
    "    \n",
    "    X_train,X_valid = X_tr_val.iloc[tr_ind][tr_features], X_tr_val.iloc[val_ind][tr_features]\n",
    "    y_train,y_valid = X_tr_val.iloc[tr_ind][label_gender], X_tr_val.iloc[val_ind][label_gender]\n",
    "    \n",
    "    lgbm_train = lgbm.Dataset(X_train,y_train)  \n",
    "    lgbm_valid = lgbm.Dataset(X_valid,y_valid)\n",
    "\n",
    "    model_binary = lgbm.train(params=lgb_params, \n",
    "                  train_set=lgbm_train,\n",
    "                  valid_sets=[lgbm_train, lgbm_valid],\n",
    "                  num_boost_round=100000,   \n",
    "                  verbose_eval=100)\n",
    "    y_pred += model_binary.predict(X_te[tr_features]) / 5.0\n",
    "    lgb_gender_models.append(model_binary) "
   ]
  },
  {
   "cell_type": "code",
   "execution_count": 88,
   "metadata": {
    "ExecuteTime": {
     "end_time": "2021-08-15T09:19:26.161220Z",
     "start_time": "2021-08-15T09:19:26.156042Z"
    },
    "scrolled": true
   },
   "outputs": [],
   "source": [
    "df_submit = df_te[['device_id']].copy()\n",
    "df_submit['gender'] = (y_pred >=0.5) + 0\n",
    "df_submit['gender'] = df_submit['gender'].astype(int)"
   ]
  },
  {
   "cell_type": "markdown",
   "metadata": {},
   "source": [
    "### age模型"
   ]
  },
  {
   "cell_type": "code",
   "execution_count": 89,
   "metadata": {
    "ExecuteTime": {
     "end_time": "2021-08-15T09:19:39.234554Z",
     "start_time": "2021-08-15T09:19:28.043121Z"
    },
    "scrolled": true
   },
   "outputs": [
    {
     "name": "stdout",
     "output_type": "stream",
     "text": [
      "[LightGBM] [Warning] Auto-choosing col-wise multi-threading, the overhead of testing was 0.002004 seconds.\n",
      "You can set `force_col_wise=true` to remove the overhead.\n",
      "[LightGBM] [Info] Total Bins 3032\n",
      "[LightGBM] [Info] Number of data points in the train set: 16060, number of used features: 15\n",
      "[LightGBM] [Info] Start training from score 30.000000\n",
      "Training until validation scores don't improve for 100 rounds\n",
      "[100]\ttraining's l1: 6.78229\ttraining's Age Error: 0.128497\tvalid_1's l1: 8.09957\tvalid_1's Age Error: 0.109895\n",
      "[200]\ttraining's l1: 6.60257\ttraining's Age Error: 0.131534\tvalid_1's l1: 8.01598\tvalid_1's Age Error: 0.110914\n",
      "[300]\ttraining's l1: 6.47553\ttraining's Age Error: 0.13377\tvalid_1's l1: 7.9676\tvalid_1's Age Error: 0.111513\n",
      "[400]\ttraining's l1: 6.38702\ttraining's Age Error: 0.135373\tvalid_1's l1: 7.96073\tvalid_1's Age Error: 0.111598\n",
      "Early stopping, best iteration is:\n",
      "[375]\ttraining's l1: 6.40741\ttraining's Age Error: 0.135\tvalid_1's l1: 7.95786\tvalid_1's Age Error: 0.111634\n",
      "[LightGBM] [Warning] Auto-choosing col-wise multi-threading, the overhead of testing was 0.000924 seconds.\n",
      "You can set `force_col_wise=true` to remove the overhead.\n",
      "[LightGBM] [Info] Total Bins 3030\n",
      "[LightGBM] [Info] Number of data points in the train set: 16060, number of used features: 15\n",
      "[LightGBM] [Info] Start training from score 30.000000\n",
      "Training until validation scores don't improve for 100 rounds\n"
     ]
    },
    {
     "name": "stderr",
     "output_type": "stream",
     "text": [
      "/Users/wangrong/opt/anaconda3/lib/python3.8/site-packages/lightgbm/engine.py:153: UserWarning: Found `early_stopping_rounds` in params. Will use it instead of argument\n",
      "  _log_warning(\"Found `{}` in params. Will use it instead of argument\".format(alias))\n"
     ]
    },
    {
     "name": "stdout",
     "output_type": "stream",
     "text": [
      "[100]\ttraining's l1: 6.89408\ttraining's Age Error: 0.126677\tvalid_1's l1: 7.58618\tvalid_1's Age Error: 0.116466\n",
      "[200]\ttraining's l1: 6.70926\ttraining's Age Error: 0.129714\tvalid_1's l1: 7.47627\tvalid_1's Age Error: 0.117976\n",
      "[300]\ttraining's l1: 6.58554\ttraining's Age Error: 0.13183\tvalid_1's l1: 7.42871\tvalid_1's Age Error: 0.118642\n",
      "[400]\ttraining's l1: 6.48646\ttraining's Age Error: 0.133575\tvalid_1's l1: 7.405\tvalid_1's Age Error: 0.118977\n",
      "[500]\ttraining's l1: 6.40254\ttraining's Age Error: 0.135089\tvalid_1's l1: 7.39734\tvalid_1's Age Error: 0.119085\n",
      "[600]\ttraining's l1: 6.33728\ttraining's Age Error: 0.13629\tvalid_1's l1: 7.39445\tvalid_1's Age Error: 0.119126\n",
      "[700]\ttraining's l1: 6.27831\ttraining's Age Error: 0.137395\tvalid_1's l1: 7.39564\tvalid_1's Age Error: 0.119109\n",
      "Early stopping, best iteration is:\n",
      "[632]\ttraining's l1: 6.31788\ttraining's Age Error: 0.136652\tvalid_1's l1: 7.39393\tvalid_1's Age Error: 0.119134\n",
      "[LightGBM] [Warning] Auto-choosing col-wise multi-threading, the overhead of testing was 0.000996 seconds.\n",
      "You can set `force_col_wise=true` to remove the overhead.\n",
      "[LightGBM] [Info] Total Bins 3037\n",
      "[LightGBM] [Info] Number of data points in the train set: 16060, number of used features: 15\n"
     ]
    },
    {
     "name": "stderr",
     "output_type": "stream",
     "text": [
      "/Users/wangrong/opt/anaconda3/lib/python3.8/site-packages/lightgbm/engine.py:153: UserWarning: Found `early_stopping_rounds` in params. Will use it instead of argument\n",
      "  _log_warning(\"Found `{}` in params. Will use it instead of argument\".format(alias))\n"
     ]
    },
    {
     "name": "stdout",
     "output_type": "stream",
     "text": [
      "[LightGBM] [Info] Start training from score 30.000000\n",
      "Training until validation scores don't improve for 100 rounds\n",
      "[100]\ttraining's l1: 7.11433\ttraining's Age Error: 0.123239\tvalid_1's l1: 6.59517\tvalid_1's Age Error: 0.131663\n",
      "[200]\ttraining's l1: 6.91579\ttraining's Age Error: 0.12633\tvalid_1's l1: 6.54172\tvalid_1's Age Error: 0.132596\n",
      "[300]\ttraining's l1: 6.77959\ttraining's Age Error: 0.128542\tvalid_1's l1: 6.53539\tvalid_1's Age Error: 0.132707\n",
      "[400]\ttraining's l1: 6.68062\ttraining's Age Error: 0.130198\tvalid_1's l1: 6.52882\tvalid_1's Age Error: 0.132823\n",
      "[500]\ttraining's l1: 6.59194\ttraining's Age Error: 0.131719\tvalid_1's l1: 6.52555\tvalid_1's Age Error: 0.132881\n",
      "Early stopping, best iteration is:\n",
      "[493]\ttraining's l1: 6.59739\ttraining's Age Error: 0.131624\tvalid_1's l1: 6.52537\tvalid_1's Age Error: 0.132884\n",
      "[LightGBM] [Warning] Auto-choosing col-wise multi-threading, the overhead of testing was 0.001271 seconds.\n",
      "You can set `force_col_wise=true` to remove the overhead.\n",
      "[LightGBM] [Info] Total Bins 3036\n",
      "[LightGBM] [Info] Number of data points in the train set: 16060, number of used features: 15\n",
      "[LightGBM] [Info] Start training from score 30.000000\n",
      "Training until validation scores don't improve for 100 rounds\n"
     ]
    },
    {
     "name": "stderr",
     "output_type": "stream",
     "text": [
      "/Users/wangrong/opt/anaconda3/lib/python3.8/site-packages/lightgbm/engine.py:153: UserWarning: Found `early_stopping_rounds` in params. Will use it instead of argument\n",
      "  _log_warning(\"Found `{}` in params. Will use it instead of argument\".format(alias))\n"
     ]
    },
    {
     "name": "stdout",
     "output_type": "stream",
     "text": [
      "[100]\ttraining's l1: 7.10475\ttraining's Age Error: 0.123384\tvalid_1's l1: 6.68054\tvalid_1's Age Error: 0.130199\n",
      "[200]\ttraining's l1: 6.91294\ttraining's Age Error: 0.126375\tvalid_1's l1: 6.58465\tvalid_1's Age Error: 0.131845\n",
      "[300]\ttraining's l1: 6.77547\ttraining's Age Error: 0.12861\tvalid_1's l1: 6.55076\tvalid_1's Age Error: 0.132437\n",
      "[400]\ttraining's l1: 6.67143\ttraining's Age Error: 0.130354\tvalid_1's l1: 6.53571\tvalid_1's Age Error: 0.132702\n",
      "[500]\ttraining's l1: 6.58621\ttraining's Age Error: 0.131818\tvalid_1's l1: 6.52837\tvalid_1's Age Error: 0.132831\n",
      "[600]\ttraining's l1: 6.51966\ttraining's Age Error: 0.132985\tvalid_1's l1: 6.52825\tvalid_1's Age Error: 0.132833\n",
      "Early stopping, best iteration is:\n",
      "[545]\ttraining's l1: 6.55478\ttraining's Age Error: 0.132366\tvalid_1's l1: 6.52719\tvalid_1's Age Error: 0.132852\n"
     ]
    },
    {
     "name": "stderr",
     "output_type": "stream",
     "text": [
      "/Users/wangrong/opt/anaconda3/lib/python3.8/site-packages/lightgbm/engine.py:153: UserWarning: Found `early_stopping_rounds` in params. Will use it instead of argument\n",
      "  _log_warning(\"Found `{}` in params. Will use it instead of argument\".format(alias))\n"
     ]
    },
    {
     "name": "stdout",
     "output_type": "stream",
     "text": [
      "[LightGBM] [Warning] Auto-choosing col-wise multi-threading, the overhead of testing was 0.001132 seconds.\n",
      "You can set `force_col_wise=true` to remove the overhead.\n",
      "[LightGBM] [Info] Total Bins 3038\n",
      "[LightGBM] [Info] Number of data points in the train set: 16060, number of used features: 15\n",
      "[LightGBM] [Info] Start training from score 30.000000\n",
      "Training until validation scores don't improve for 100 rounds\n",
      "[100]\ttraining's l1: 7.07656\ttraining's Age Error: 0.123815\tvalid_1's l1: 6.79393\tvalid_1's Age Error: 0.128305\n",
      "[200]\ttraining's l1: 6.8788\ttraining's Age Error: 0.126923\tvalid_1's l1: 6.71435\tvalid_1's Age Error: 0.129629\n",
      "[300]\ttraining's l1: 6.74541\ttraining's Age Error: 0.129109\tvalid_1's l1: 6.68214\tvalid_1's Age Error: 0.130172\n",
      "[400]\ttraining's l1: 6.63994\ttraining's Age Error: 0.130891\tvalid_1's l1: 6.66929\tvalid_1's Age Error: 0.13039\n",
      "[500]\ttraining's l1: 6.55454\ttraining's Age Error: 0.132371\tvalid_1's l1: 6.67073\tvalid_1's Age Error: 0.130366\n",
      "Early stopping, best iteration is:\n",
      "[480]\ttraining's l1: 6.56954\ttraining's Age Error: 0.132108\tvalid_1's l1: 6.66866\tvalid_1's Age Error: 0.130401\n"
     ]
    }
   ],
   "source": [
    "from sklearn.metrics import mean_absolute_error\n",
    "def feval_lgb_Age(preds, lgbm_train):\n",
    "    \n",
    "    labels =lgbm_train.get_label()\n",
    "    return 'Age Error', round(1.0 / (1.0 + mean_absolute_error(y_true = labels, y_pred = preds)),7), True\n",
    "\n",
    "\n",
    "lgb_params = {\n",
    "      \"objective\": \"mae\",  \n",
    "      \"boosting_type\": \"gbdt\",\n",
    "      'early_stopping_rounds': 100,\n",
    "      'learning_rate': 0.01,  \n",
    "      'colsample_bytree':0.95, \n",
    "} \n",
    "\n",
    "X_tr_val = df_tr[tr_features + [label_age]]\n",
    "X_te     = df_te[tr_features]\n",
    " \n",
    "kf = KFold(n_splits=5)\n",
    "lgb_age_models = []\n",
    "y_pred = 0\n",
    "for f,(tr_ind,val_ind) in enumerate(kf.split(X_tr_val)):\n",
    "    \n",
    "    X_train,X_valid = X_tr_val.iloc[tr_ind][tr_features], X_tr_val.iloc[val_ind][tr_features]\n",
    "    y_train,y_valid = X_tr_val.iloc[tr_ind][label_age], X_tr_val.iloc[val_ind][label_age]\n",
    "    \n",
    "    lgbm_train = lgbm.Dataset(X_train,y_train)  \n",
    "    lgbm_valid = lgbm.Dataset(X_valid,y_valid)\n",
    "\n",
    "    model_mae = lgbm.train(params=lgb_params, \n",
    "                  train_set=lgbm_train,\n",
    "                  valid_sets=[lgbm_train, lgbm_valid],\n",
    "                  num_boost_round=100000,   \n",
    "                     feval = feval_lgb_Age,\n",
    "                  verbose_eval=100)\n",
    "    y_pred += model_mae.predict(X_te[tr_features]) / 5.0\n",
    "    lgb_age_models.append(model_mae) "
   ]
  },
  {
   "cell_type": "code",
   "execution_count": 90,
   "metadata": {
    "ExecuteTime": {
     "end_time": "2021-08-15T09:19:39.241227Z",
     "start_time": "2021-08-15T09:19:39.237230Z"
    }
   },
   "outputs": [],
   "source": [
    "\n",
    "df_submit['age'] = y_pred"
   ]
  },
  {
   "cell_type": "markdown",
   "metadata": {},
   "source": [
    "### 模型提交"
   ]
  },
  {
   "cell_type": "code",
   "execution_count": 91,
   "metadata": {
    "ExecuteTime": {
     "end_time": "2021-08-15T09:19:39.889227Z",
     "start_time": "2021-08-15T09:19:39.853504Z"
    }
   },
   "outputs": [],
   "source": [
    "df_submit.to_csv('baseline_Fold5_lgb.csv',index = None)"
   ]
  },
  {
   "cell_type": "markdown",
   "metadata": {},
   "source": [
    "# 结论\n",
    "\n",
    "本文我们对数据进行了简单的分析并且设计了简单的Baseline，目前模型都还是一些基础的统计特征，可以提升的地方非常多，例如：\n",
    "\n",
    "- 加强特征工程：比如tag list数据如何充分的利用好；设计序列化的信息来强化用户的刻画；\n",
    "- 该问题是多目标优化的问题，可以参考Wechat和腾讯之前的比赛，使用一些最新的技术，例如MMOE等进行联合优化；\n",
    "- 设计NN和树模型等融合"
   ]
  }
 ],
 "metadata": {
  "kernelspec": {
   "display_name": "Python 3",
   "language": "python",
   "name": "python3"
  },
  "language_info": {
   "codemirror_mode": {
    "name": "ipython",
    "version": 3
   },
   "file_extension": ".py",
   "mimetype": "text/x-python",
   "name": "python",
   "nbconvert_exporter": "python",
   "pygments_lexer": "ipython3",
   "version": "3.8.5"
  },
  "toc": {
   "base_numbering": 1,
   "nav_menu": {},
   "number_sections": true,
   "sideBar": true,
   "skip_h1_title": false,
   "title_cell": "Table of Contents",
   "title_sidebar": "Contents",
   "toc_cell": false,
   "toc_position": {},
   "toc_section_display": true,
   "toc_window_display": true
  }
 },
 "nbformat": 4,
 "nbformat_minor": 4
}
