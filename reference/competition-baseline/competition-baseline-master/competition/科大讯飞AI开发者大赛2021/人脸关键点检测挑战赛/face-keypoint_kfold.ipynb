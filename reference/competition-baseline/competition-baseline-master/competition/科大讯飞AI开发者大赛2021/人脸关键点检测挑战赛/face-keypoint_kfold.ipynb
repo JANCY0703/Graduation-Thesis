{
 "cells": [
  {
   "cell_type": "code",
   "execution_count": 1,
   "metadata": {
    "execution": {
     "iopub.execute_input": "2021-08-12T02:44:48.994867Z",
     "iopub.status.busy": "2021-08-12T02:44:48.994341Z",
     "iopub.status.idle": "2021-08-12T02:44:49.241860Z",
     "shell.execute_reply": "2021-08-12T02:44:49.241120Z",
     "shell.execute_reply.started": "2021-08-12T02:44:48.994819Z"
    },
    "tags": []
   },
   "outputs": [],
   "source": [
    "import pandas as pd\n",
    "import numpy as np"
   ]
  },
  {
   "cell_type": "code",
   "execution_count": 2,
   "metadata": {
    "execution": {
     "iopub.execute_input": "2021-08-12T02:44:51.832398Z",
     "iopub.status.busy": "2021-08-12T02:44:51.831794Z",
     "iopub.status.idle": "2021-08-12T02:44:51.955912Z",
     "shell.execute_reply": "2021-08-12T02:44:51.954451Z",
     "shell.execute_reply.started": "2021-08-12T02:44:51.832347Z"
    },
    "tags": []
   },
   "outputs": [
    {
     "name": "stdout",
     "output_type": "stream",
     "text": [
      "总用量 611464\n",
      "-rw-rw-r-- 1 lyz lyz     49324 8月   5 16:54 sample_submit.csv\n",
      "-rw-rw-r-- 1 lyz lyz 151068800 7月  31 18:11 test.npy\n",
      "-rw-rw-r-- 1 lyz lyz  30636709 8月   5 16:57 test.npy.zip\n",
      "-rw-rw-r-- 1 lyz lyz    577557 8月   5 16:54 train.csv\n",
      "-rw-rw-r-- 1 lyz lyz 368640128 7月  31 18:11 train.npy\n",
      "-rw-rw-r-- 1 lyz lyz  75144987 8月   5 16:57 train.npy.zip\n"
     ]
    }
   ],
   "source": [
    "!ls ./人脸关键点检测挑战赛_数据集/ -l"
   ]
  },
  {
   "cell_type": "code",
   "execution_count": 3,
   "metadata": {
    "execution": {
     "iopub.execute_input": "2021-08-12T02:44:52.511356Z",
     "iopub.status.busy": "2021-08-12T02:44:52.510790Z",
     "iopub.status.idle": "2021-08-12T02:44:52.541184Z",
     "shell.execute_reply": "2021-08-12T02:44:52.540507Z",
     "shell.execute_reply.started": "2021-08-12T02:44:52.511307Z"
    },
    "tags": []
   },
   "outputs": [
    {
     "data": {
      "text/html": [
       "<div>\n",
       "<style scoped>\n",
       "    .dataframe tbody tr th:only-of-type {\n",
       "        vertical-align: middle;\n",
       "    }\n",
       "\n",
       "    .dataframe tbody tr th {\n",
       "        vertical-align: top;\n",
       "    }\n",
       "\n",
       "    .dataframe thead th {\n",
       "        text-align: right;\n",
       "    }\n",
       "</style>\n",
       "<table border=\"1\" class=\"dataframe\">\n",
       "  <thead>\n",
       "    <tr style=\"text-align: right;\">\n",
       "      <th></th>\n",
       "      <th>left_eye_center_x</th>\n",
       "      <th>left_eye_center_y</th>\n",
       "      <th>right_eye_center_x</th>\n",
       "      <th>right_eye_center_y</th>\n",
       "      <th>nose_tip_x</th>\n",
       "      <th>nose_tip_y</th>\n",
       "      <th>mouth_center_bottom_lip_x</th>\n",
       "      <th>mouth_center_bottom_lip_y</th>\n",
       "    </tr>\n",
       "  </thead>\n",
       "  <tbody>\n",
       "    <tr>\n",
       "      <th>0</th>\n",
       "      <td>66.342364</td>\n",
       "      <td>38.523613</td>\n",
       "      <td>28.930840</td>\n",
       "      <td>35.577773</td>\n",
       "      <td>49.256845</td>\n",
       "      <td>68.275955</td>\n",
       "      <td>47.783946</td>\n",
       "      <td>85.361582</td>\n",
       "    </tr>\n",
       "    <tr>\n",
       "      <th>1</th>\n",
       "      <td>68.912604</td>\n",
       "      <td>31.409117</td>\n",
       "      <td>29.652226</td>\n",
       "      <td>33.028075</td>\n",
       "      <td>51.913358</td>\n",
       "      <td>48.408453</td>\n",
       "      <td>50.698868</td>\n",
       "      <td>79.574038</td>\n",
       "    </tr>\n",
       "    <tr>\n",
       "      <th>2</th>\n",
       "      <td>68.708994</td>\n",
       "      <td>40.371149</td>\n",
       "      <td>27.130820</td>\n",
       "      <td>40.940680</td>\n",
       "      <td>44.502523</td>\n",
       "      <td>69.988486</td>\n",
       "      <td>45.926427</td>\n",
       "      <td>86.221009</td>\n",
       "    </tr>\n",
       "    <tr>\n",
       "      <th>3</th>\n",
       "      <td>65.334176</td>\n",
       "      <td>35.471878</td>\n",
       "      <td>29.366461</td>\n",
       "      <td>37.767684</td>\n",
       "      <td>50.411373</td>\n",
       "      <td>64.934767</td>\n",
       "      <td>50.028780</td>\n",
       "      <td>74.883241</td>\n",
       "    </tr>\n",
       "    <tr>\n",
       "      <th>4</th>\n",
       "      <td>68.634857</td>\n",
       "      <td>29.999486</td>\n",
       "      <td>31.094571</td>\n",
       "      <td>29.616429</td>\n",
       "      <td>50.247429</td>\n",
       "      <td>51.450857</td>\n",
       "      <td>47.948571</td>\n",
       "      <td>84.394286</td>\n",
       "    </tr>\n",
       "  </tbody>\n",
       "</table>\n",
       "</div>"
      ],
      "text/plain": [
       "   left_eye_center_x  left_eye_center_y  right_eye_center_x  \\\n",
       "0          66.342364          38.523613           28.930840   \n",
       "1          68.912604          31.409117           29.652226   \n",
       "2          68.708994          40.371149           27.130820   \n",
       "3          65.334176          35.471878           29.366461   \n",
       "4          68.634857          29.999486           31.094571   \n",
       "\n",
       "   right_eye_center_y  nose_tip_x  nose_tip_y  mouth_center_bottom_lip_x  \\\n",
       "0           35.577773   49.256845   68.275955                  47.783946   \n",
       "1           33.028075   51.913358   48.408453                  50.698868   \n",
       "2           40.940680   44.502523   69.988486                  45.926427   \n",
       "3           37.767684   50.411373   64.934767                  50.028780   \n",
       "4           29.616429   50.247429   51.450857                  47.948571   \n",
       "\n",
       "   mouth_center_bottom_lip_y  \n",
       "0                  85.361582  \n",
       "1                  79.574038  \n",
       "2                  86.221009  \n",
       "3                  74.883241  \n",
       "4                  84.394286  "
      ]
     },
     "execution_count": 3,
     "metadata": {},
     "output_type": "execute_result"
    }
   ],
   "source": [
    "train_df = pd.read_csv('人脸关键点检测挑战赛_数据集/train.csv')\n",
    "train_df = train_df.fillna(48)\n",
    "train_df.head()"
   ]
  },
  {
   "cell_type": "code",
   "execution_count": 4,
   "metadata": {
    "execution": {
     "iopub.execute_input": "2021-08-12T02:44:54.982695Z",
     "iopub.status.busy": "2021-08-12T02:44:54.982109Z",
     "iopub.status.idle": "2021-08-12T02:44:55.142852Z",
     "shell.execute_reply": "2021-08-12T02:44:55.142345Z",
     "shell.execute_reply.started": "2021-08-12T02:44:54.982645Z"
    },
    "tags": []
   },
   "outputs": [
    {
     "name": "stdout",
     "output_type": "stream",
     "text": [
      "(96, 96, 5000) (96, 96, 2049)\n"
     ]
    }
   ],
   "source": [
    "train_img = np.load('人脸关键点检测挑战赛_数据集/train.npy')\n",
    "test_img = np.load('人脸关键点检测挑战赛_数据集/test.npy')\n",
    "\n",
    "print(train_img.shape, test_img.shape)"
   ]
  },
  {
   "cell_type": "code",
   "execution_count": 5,
   "metadata": {
    "execution": {
     "iopub.execute_input": "2021-08-12T02:44:55.896562Z",
     "iopub.status.busy": "2021-08-12T02:44:55.896044Z",
     "iopub.status.idle": "2021-08-12T02:44:56.171677Z",
     "shell.execute_reply": "2021-08-12T02:44:56.171193Z",
     "shell.execute_reply.started": "2021-08-12T02:44:55.896523Z"
    },
    "tags": []
   },
   "outputs": [
    {
     "name": "stdout",
     "output_type": "stream",
     "text": [
      "Populating the interactive namespace from numpy and matplotlib\n"
     ]
    },
    {
     "data": {
      "text/plain": [
       "<matplotlib.image.AxesImage at 0x7f4fc3353240>"
      ]
     },
     "execution_count": 5,
     "metadata": {},
     "output_type": "execute_result"
    },
    {
     "data": {
      "image/png": "[encoded data removed]",
      "text/plain": [
       "<Figure size 432x288 with 1 Axes>"
      ]
     },
     "metadata": {
      "needs_background": "light"
     },
     "output_type": "display_data"
    }
   ],
   "source": [
    "%pylab inline\n",
    "idx = 409\n",
    "xy = train_df.iloc[idx].values.reshape(-1, 2)\n",
    "plt.scatter(xy[:, 0], xy[:, 1], c='r')\n",
    "plt.imshow(train_img[:, :, idx], cmap='gray')"
   ]
  },
  {
   "cell_type": "code",
   "execution_count": 6,
   "metadata": {
    "execution": {
     "iopub.execute_input": "2021-08-12T02:44:56.811765Z",
     "iopub.status.busy": "2021-08-12T02:44:56.811207Z",
     "iopub.status.idle": "2021-08-12T02:44:56.913564Z",
     "shell.execute_reply": "2021-08-12T02:44:56.913090Z",
     "shell.execute_reply.started": "2021-08-12T02:44:56.811720Z"
    },
    "tags": []
   },
   "outputs": [
    {
     "name": "stdout",
     "output_type": "stream",
     "text": [
      "Populating the interactive namespace from numpy and matplotlib\n"
     ]
    },
    {
     "data": {
      "text/plain": [
       "<matplotlib.image.AxesImage at 0x7f4fe5202240>"
      ]
     },
     "execution_count": 6,
     "metadata": {},
     "output_type": "execute_result"
    },
    {
     "data": {
      "image/png": "[encoded data removed]",
      "text/plain": [
       "<Figure size 432x288 with 1 Axes>"
      ]
     },
     "metadata": {
      "needs_background": "light"
     },
     "output_type": "display_data"
    }
   ],
   "source": [
    "%pylab inline\n",
    "idx = 400\n",
    "xy = train_df.iloc[idx].values.reshape(-1, 2)\n",
    "plt.scatter(xy[:, 0], xy[:, 1])\n",
    "plt.imshow(train_img[:, :, idx], cmap='gray')"
   ]
  },
  {
   "cell_type": "code",
   "execution_count": 7,
   "metadata": {
    "execution": {
     "iopub.execute_input": "2021-08-12T02:44:57.071662Z",
     "iopub.status.busy": "2021-08-12T02:44:57.071118Z",
     "iopub.status.idle": "2021-08-12T02:44:57.546290Z",
     "shell.execute_reply": "2021-08-12T02:44:57.545674Z",
     "shell.execute_reply.started": "2021-08-12T02:44:57.071616Z"
    },
    "tags": []
   },
   "outputs": [],
   "source": [
    "import os, sys, codecs, glob\n",
    "from PIL import Image, ImageDraw\n",
    "import numpy as np\n",
    "import pandas as pd\n",
    "import cv2\n",
    "\n",
    "import torch\n",
    "torch.backends.cudnn.benchmark = False\n",
    "import torchvision.models as models\n",
    "import torchvision.transforms as transforms\n",
    "import torchvision.datasets as datasets\n",
    "import torch.nn as nn\n",
    "import torch.nn.functional as F\n",
    "import torch.optim as optim\n",
    "from torch.autograd import Variable\n",
    "from torch.utils.data.dataset import Dataset"
   ]
  },
  {
   "cell_type": "code",
   "execution_count": 8,
   "metadata": {
    "execution": {
     "iopub.execute_input": "2021-08-12T02:44:57.547418Z",
     "iopub.status.busy": "2021-08-12T02:44:57.547167Z",
     "iopub.status.idle": "2021-08-12T02:44:57.551803Z",
     "shell.execute_reply": "2021-08-12T02:44:57.551336Z",
     "shell.execute_reply.started": "2021-08-12T02:44:57.547402Z"
    },
    "tags": []
   },
   "outputs": [],
   "source": [
    "class XunFeiDataset(Dataset):\n",
    "    def __init__(self, img, keypoint, transform=None):\n",
    "        self.img = img\n",
    "        self.transform = transform\n",
    "        self.keypoint = keypoint\n",
    "\n",
    "    def __getitem__(self, index):\n",
    "        img = Image.fromarray(self.img[:, :, index]).convert('RGB')\n",
    "        \n",
    "        if self.transform is not None:\n",
    "            img = self.transform(img)\n",
    "        \n",
    "        return img, self.keypoint[index] / 96.0\n",
    "\n",
    "    def __len__(self):\n",
    "        return self.img.shape[-1]"
   ]
  },
  {
   "cell_type": "code",
   "execution_count": 9,
   "metadata": {
    "execution": {
     "iopub.execute_input": "2021-08-12T02:44:57.576892Z",
     "iopub.status.busy": "2021-08-12T02:44:57.576396Z",
     "iopub.status.idle": "2021-08-12T02:44:57.617860Z",
     "shell.execute_reply": "2021-08-12T02:44:57.616811Z",
     "shell.execute_reply.started": "2021-08-12T02:44:57.576849Z"
    },
    "tags": []
   },
   "outputs": [],
   "source": [
    "train_loader = torch.utils.data.DataLoader(\n",
    "    XunFeiDataset(train_img[:, :, :-500], train_df.values[:-500],\n",
    "                    transforms.Compose([\n",
    "                        transforms.ToTensor(),\n",
    "        ])\n",
    "    ),\n",
    "    batch_size=10, shuffle=True, num_workers=5,\n",
    ")\n",
    "\n",
    "val_loader = torch.utils.data.DataLoader(\n",
    "    XunFeiDataset(train_img[:, :, -500:], train_df.values[-500:],\n",
    "                    transforms.Compose([\n",
    "                        transforms.ToTensor(),\n",
    "        ])\n",
    "    ),\n",
    "    batch_size=10, shuffle=False, num_workers=5,\n",
    ")"
   ]
  },
  {
   "cell_type": "code",
   "execution_count": 10,
   "metadata": {
    "execution": {
     "iopub.execute_input": "2021-08-12T02:44:57.891061Z",
     "iopub.status.busy": "2021-08-12T02:44:57.890534Z",
     "iopub.status.idle": "2021-08-12T02:44:57.897106Z",
     "shell.execute_reply": "2021-08-12T02:44:57.896435Z",
     "shell.execute_reply.started": "2021-08-12T02:44:57.891016Z"
    },
    "tags": []
   },
   "outputs": [
    {
     "data": {
      "text/plain": [
       "(96, 96, 500)"
      ]
     },
     "execution_count": 10,
     "metadata": {},
     "output_type": "execute_result"
    }
   ],
   "source": [
    "train_img[:, :, -500:].shape"
   ]
  },
  {
   "cell_type": "code",
   "execution_count": 11,
   "metadata": {
    "execution": {
     "iopub.execute_input": "2021-08-12T02:44:58.628550Z",
     "iopub.status.busy": "2021-08-12T02:44:58.627967Z",
     "iopub.status.idle": "2021-08-12T02:45:00.715425Z",
     "shell.execute_reply": "2021-08-12T02:45:00.714551Z",
     "shell.execute_reply.started": "2021-08-12T02:44:58.628505Z"
    },
    "tags": []
   },
   "outputs": [],
   "source": [
    "import timm\n",
    "\n",
    "class XunFeiNet(nn.Module):\n",
    "    def __init__(self):\n",
    "        super(XunFeiNet, self).__init__()\n",
    "        self.model = timm.create_model('efficientnet_b2', num_classes=8, \n",
    "                          pretrained=True)\n",
    "        \n",
    "    def forward(self, img, labels=None):        \n",
    "        feat = self.model(img)\n",
    "        return feat\n",
    "    \n",
    "model = XunFeiNet().cuda()"
   ]
  },
  {
   "cell_type": "code",
   "execution_count": 12,
   "metadata": {
    "execution": {
     "iopub.execute_input": "2021-08-12T02:45:00.716461Z",
     "iopub.status.busy": "2021-08-12T02:45:00.716244Z",
     "iopub.status.idle": "2021-08-12T02:45:00.721741Z",
     "shell.execute_reply": "2021-08-12T02:45:00.721294Z",
     "shell.execute_reply.started": "2021-08-12T02:45:00.716443Z"
    },
    "tags": []
   },
   "outputs": [],
   "source": [
    "def train(train_loader, model, criterion, optimizer, epoch):\n",
    "    model.train()\n",
    "\n",
    "    for i, (input, target) in enumerate(train_loader):\n",
    "        input = input.cuda(non_blocking=True).float()\n",
    "        target = target.cuda(non_blocking=True).float()\n",
    "\n",
    "        output = model(input, target)\n",
    "        loss = criterion(output, target)\n",
    "        optimizer.zero_grad()\n",
    "        torch.nn.utils.clip_grad_norm_(model.parameters(), 1.0)\n",
    "        loss.backward()\n",
    "        optimizer.step()\n",
    "        \n",
    "        if i % 200 == 0:\n",
    "            print(loss.item())\n",
    "            \n",
    "def validate(val_loader, model):\n",
    "    model.eval()\n",
    "    \n",
    "    val_feats = []\n",
    "    with torch.no_grad():\n",
    "        end = time.time()\n",
    "        for i, (input, target) in enumerate(val_loader):\n",
    "            input = input.cuda().float()\n",
    "            target = target.cuda().float()\n",
    "            output = model(input)\n",
    "            val_feats.append(output.data.cpu().numpy())\n",
    "    return val_feats"
   ]
  },
  {
   "cell_type": "code",
   "execution_count": 21,
   "metadata": {
    "execution": {
     "iopub.execute_input": "2021-08-12T03:11:43.781347Z",
     "iopub.status.busy": "2021-08-12T03:11:43.781156Z",
     "iopub.status.idle": "2021-08-12T03:23:57.605471Z",
     "shell.execute_reply": "2021-08-12T03:23:57.604769Z",
     "shell.execute_reply.started": "2021-08-12T03:11:43.781330Z"
    },
    "tags": []
   },
   "outputs": [
    {
     "name": "stdout",
     "output_type": "stream",
     "text": [
      "Epoch:  0\n",
      "9.905308723449707\n",
      "0.04050697386264801\n",
      "Val 9.251546502541116\n",
      "Epoch:  1\n",
      "0.013120531104505062\n",
      "0.009193876758217812\n",
      "Val 6.183500956023397\n",
      "Epoch:  2\n",
      "0.005100372713059187\n",
      "0.0034459661692380905\n",
      "Val 4.663692081580198\n",
      "Epoch:  3\n",
      "0.0024106167256832123\n",
      "0.0026592991780489683\n",
      "Val 3.9134228048808497\n",
      "Epoch:  4\n",
      "0.002302343724295497\n",
      "0.002632445190101862\n",
      "Val 4.080580439451729\n",
      "Epoch:  0\n",
      "14.201547622680664\n",
      "0.044054899364709854\n",
      "Val 15.468229983963187\n",
      "Epoch:  1\n",
      "0.017920926213264465\n",
      "0.006700710393488407\n",
      "Val 7.576506788692038\n",
      "Epoch:  2\n",
      "0.006524837110191584\n",
      "0.007065281271934509\n",
      "Val 5.77656327253138\n",
      "Epoch:  3\n",
      "0.007522534113377333\n",
      "0.005034391302615404\n",
      "Val 4.758780754738569\n",
      "Epoch:  4\n",
      "0.00238896650262177\n",
      "0.0033426203299313784\n",
      "Val 3.790834823154542\n",
      "Epoch:  0\n",
      "12.44189167022705\n",
      "0.035967353731393814\n",
      "Val 9.075832300863373\n",
      "Epoch:  1\n",
      "0.008467060513794422\n",
      "0.005924645811319351\n",
      "Val 8.542295129004941\n",
      "Epoch:  2\n",
      "0.005121264141052961\n",
      "0.004584698472172022\n",
      "Val 4.53243985315707\n",
      "Epoch:  3\n",
      "0.0037631846498697996\n",
      "0.0026907247956842184\n",
      "Val 4.2092985017704425\n",
      "Epoch:  4\n",
      "0.0026556614320725203\n",
      "0.0022178927902132273\n",
      "Val 4.2766493055178705\n",
      "Epoch:  0\n",
      "15.196487426757812\n",
      "0.05464869365096092\n",
      "Val 10.683542804539556\n",
      "Epoch:  1\n",
      "0.014499375596642494\n",
      "0.012644456699490547\n",
      "Val 24.408339770786903\n",
      "Epoch:  2\n",
      "0.004583698697388172\n",
      "0.004630036186426878\n",
      "Val 5.116468574157792\n",
      "Epoch:  3\n",
      "0.004384973552078009\n",
      "0.003425049129873514\n",
      "Val 4.065755607820769\n",
      "Epoch:  4\n",
      "0.002884344197809696\n",
      "0.0034775545354932547\n",
      "Val 4.036182435291005\n",
      "Epoch:  0\n",
      "13.920649528503418\n",
      "0.05182456970214844\n",
      "Val 10.949673294464029\n",
      "Epoch:  1\n",
      "0.028465090319514275\n",
      "0.029224013909697533\n",
      "Val 6.872752230810931\n",
      "Epoch:  2\n",
      "0.00720785278826952\n",
      "0.005673808045685291\n",
      "Val 7.925425051227031\n",
      "Epoch:  3\n",
      "0.008086122572422028\n",
      "0.005942133720964193\n",
      "Val 5.123498682668269\n",
      "Epoch:  4\n",
      "0.0029964519198983908\n",
      "0.010760217905044556\n",
      "Val 4.224759689455556\n"
     ]
    }
   ],
   "source": [
    "from sklearn.metrics import mean_absolute_error\n",
    "from sklearn.model_selection import KFold\n",
    "\n",
    "kfold = KFold(n_splits=5)\n",
    "fold = 0\n",
    "for tr_idx, val_idx, in kfold.split([1]*train_img.shape[-1]):\n",
    "    train_loader = torch.utils.data.DataLoader(\n",
    "        XunFeiDataset(train_img[:, :, tr_idx], train_df.values[tr_idx],\n",
    "                        transforms.Compose([\n",
    "                            transforms.ToTensor(),\n",
    "            ])\n",
    "        ),\n",
    "        batch_size=10, shuffle=True, num_workers=5,\n",
    "    )\n",
    "\n",
    "    val_loader = torch.utils.data.DataLoader(\n",
    "        XunFeiDataset(train_img[:, :, val_idx], train_df.values[val_idx],\n",
    "                        transforms.Compose([\n",
    "                            transforms.ToTensor(),\n",
    "            ])\n",
    "        ),\n",
    "        batch_size=10, shuffle=False, num_workers=5,\n",
    "    )\n",
    "\n",
    "    model = XunFeiNet().cuda()\n",
    "    criterion = nn.MSELoss().cuda()\n",
    "    optimizer = torch.optim.Adam(model.parameters(), 0.001)\n",
    "    scheduler = optim.lr_scheduler.StepLR(optimizer, step_size=10, gamma=0.85)\n",
    "    best_acc = 0.0\n",
    "\n",
    "    for epoch in range(5):\n",
    "        print('Epoch: ', epoch)\n",
    "\n",
    "        train(train_loader, model, criterion, optimizer, epoch)\n",
    "\n",
    "        val_feats = validate(val_loader, model)\n",
    "        scheduler.step()\n",
    "\n",
    "        val_feats = np.vstack(val_feats) * 96\n",
    "        print('Val', mean_absolute_error(val_feats, train_df.values[val_idx]))\n",
    "    \n",
    "    torch.save(model.state_dict(), 'model_{0}.pt'.format(fold))\n",
    "    fold += 1\n"
   ]
  },
  {
   "cell_type": "code",
   "execution_count": 22,
   "metadata": {
    "execution": {
     "iopub.execute_input": "2021-08-12T03:25:12.045592Z",
     "iopub.status.busy": "2021-08-12T03:25:12.044992Z",
     "iopub.status.idle": "2021-08-12T03:25:12.052684Z",
     "shell.execute_reply": "2021-08-12T03:25:12.052192Z",
     "shell.execute_reply.started": "2021-08-12T03:25:12.045545Z"
    },
    "tags": []
   },
   "outputs": [],
   "source": [
    "test_loader = torch.utils.data.DataLoader(\n",
    "    XunFeiDataset(test_img, np.zeros((2049, 8)),\n",
    "                    transforms.Compose([\n",
    "                        transforms.ToTensor(),\n",
    "        ])\n",
    "    ),\n",
    "    batch_size=10, shuffle=False, num_workers=5,\n",
    ")"
   ]
  },
  {
   "cell_type": "code",
   "execution_count": 23,
   "metadata": {
    "execution": {
     "iopub.execute_input": "2021-08-12T03:25:14.483549Z",
     "iopub.status.busy": "2021-08-12T03:25:14.482967Z",
     "iopub.status.idle": "2021-08-12T03:25:27.822333Z",
     "shell.execute_reply": "2021-08-12T03:25:27.821450Z",
     "shell.execute_reply.started": "2021-08-12T03:25:14.483503Z"
    },
    "tags": []
   },
   "outputs": [
    {
     "name": "stdout",
     "output_type": "stream",
     "text": [
      "0\n",
      "0\n",
      "0\n",
      "0\n",
      "0\n"
     ]
    }
   ],
   "source": [
    "pred_tta = []\n",
    "for path in ['model_0.pt','model_1.pt','model_2.pt',\n",
    "            'model_3.pt','model_4.pt']:\n",
    "    pred = []\n",
    "    model.load_state_dict(torch.load(path))\n",
    "    with torch.no_grad():\n",
    "        for t, (x, y) in enumerate(test_loader):\n",
    "            x_var = Variable(x).cuda(async=True)\n",
    "            y_var = Variable(y).cuda()\n",
    "            scores = model(x_var)\n",
    "            pred.append(scores.data.cpu().numpy())\n",
    "    pred = np.concatenate(pred, 0)    \n",
    "    print(path)\n",
    "    pred_tta.append(pred)\n",
    "\n",
    "pred = np.mean(pred_tta, axis=0)"
   ]
  },
  {
   "cell_type": "code",
   "execution_count": 24,
   "metadata": {
    "execution": {
     "iopub.execute_input": "2021-08-12T03:25:30.199185Z",
     "iopub.status.busy": "2021-08-12T03:25:30.198579Z",
     "iopub.status.idle": "2021-08-12T03:25:30.221928Z",
     "shell.execute_reply": "2021-08-12T03:25:30.221232Z",
     "shell.execute_reply.started": "2021-08-12T03:25:30.199134Z"
    },
    "tags": []
   },
   "outputs": [],
   "source": [
    "col = ['left_eye_center_x', 'left_eye_center_y', 'right_eye_center_x',\n",
    " 'right_eye_center_y', 'nose_tip_x', 'nose_tip_y', \n",
    " 'mouth_center_bottom_lip_x','mouth_center_bottom_lip_y']\n",
    "pd.DataFrame(pred * 96, columns=col).to_csv('submit.csv', index=None)"
   ]
  },
  {
   "cell_type": "code",
   "execution_count": null,
   "metadata": {},
   "outputs": [],
   "source": []
  },
  {
   "cell_type": "code",
   "execution_count": null,
   "metadata": {},
   "outputs": [],
   "source": []
  }
 ],
 "metadata": {
  "kernelspec": {
   "display_name": "Python 3",
   "language": "python",
   "name": "python3"
  },
  "language_info": {
   "codemirror_mode": {
    "name": "ipython",
    "version": 3
   },
   "file_extension": ".py",
   "mimetype": "text/x-python",
   "name": "python",
   "nbconvert_exporter": "python",
   "pygments_lexer": "ipython3",
   "version": "3.6.9"
  }
 },
 "nbformat": 4,
 "nbformat_minor": 4
}
