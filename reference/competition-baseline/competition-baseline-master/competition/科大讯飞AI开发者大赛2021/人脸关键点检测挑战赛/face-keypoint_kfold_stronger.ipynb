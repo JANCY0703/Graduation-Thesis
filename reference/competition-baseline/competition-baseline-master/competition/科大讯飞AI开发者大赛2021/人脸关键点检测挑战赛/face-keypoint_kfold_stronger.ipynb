{
 "cells": [
  {
   "cell_type": "code",
   "execution_count": 1,
   "metadata": {
    "execution": {
     "iopub.execute_input": "2021-08-24T06:43:17.238329Z",
     "iopub.status.busy": "2021-08-24T06:43:17.238168Z",
     "iopub.status.idle": "2021-08-24T06:43:17.954967Z",
     "shell.execute_reply": "2021-08-24T06:43:17.954432Z",
     "shell.execute_reply.started": "2021-08-24T06:43:17.238313Z"
    },
    "tags": []
   },
   "outputs": [],
   "source": [
    "import pandas as pd\n",
    "import numpy as np\n",
    "from sklearn.metrics import mean_absolute_error\n",
    "from sklearn.model_selection import KFold"
   ]
  },
  {
   "cell_type": "code",
   "execution_count": 30,
   "metadata": {
    "execution": {
     "iopub.execute_input": "2021-08-24T06:39:59.612351Z",
     "iopub.status.busy": "2021-08-24T06:39:59.611791Z",
     "iopub.status.idle": "2021-08-24T06:40:00.695805Z",
     "shell.execute_reply": "2021-08-24T06:40:00.694259Z",
     "shell.execute_reply.started": "2021-08-24T06:39:59.612304Z"
    },
    "tags": []
   },
   "outputs": [
    {
     "name": "stdout",
     "output_type": "stream",
     "text": [
      "总用量 611464\n",
      "-rw-rw-r-- 1 lyz lyz     49324 8月   5 16:54 sample_submit.csv\n",
      "-rw-rw-r-- 1 lyz lyz 151068800 7月  31 18:11 test.npy\n",
      "-rw-rw-r-- 1 lyz lyz  30636709 8月   5 16:57 test.npy.zip\n",
      "-rw-rw-r-- 1 lyz lyz    577557 8月   5 16:54 train.csv\n",
      "-rw-rw-r-- 1 lyz lyz 368640128 7月  31 18:11 train.npy\n",
      "-rw-rw-r-- 1 lyz lyz  75144987 8月   5 16:57 train.npy.zip\n"
     ]
    }
   ],
   "source": [
    "!ls ./人脸关键点检测挑战赛_数据集/ -l"
   ]
  },
  {
   "cell_type": "code",
   "execution_count": 2,
   "metadata": {
    "execution": {
     "iopub.execute_input": "2021-08-24T06:43:19.920641Z",
     "iopub.status.busy": "2021-08-24T06:43:19.920189Z",
     "iopub.status.idle": "2021-08-24T06:43:20.578682Z",
     "shell.execute_reply": "2021-08-24T06:43:20.578060Z",
     "shell.execute_reply.started": "2021-08-24T06:43:19.920605Z"
    },
    "tags": []
   },
   "outputs": [
    {
     "data": {
      "text/html": [
       "<div>\n",
       "<style scoped>\n",
       "    .dataframe tbody tr th:only-of-type {\n",
       "        vertical-align: middle;\n",
       "    }\n",
       "\n",
       "    .dataframe tbody tr th {\n",
       "        vertical-align: top;\n",
       "    }\n",
       "\n",
       "    .dataframe thead th {\n",
       "        text-align: right;\n",
       "    }\n",
       "</style>\n",
       "<table border=\"1\" class=\"dataframe\">\n",
       "  <thead>\n",
       "    <tr style=\"text-align: right;\">\n",
       "      <th></th>\n",
       "      <th>left_eye_center_x</th>\n",
       "      <th>left_eye_center_y</th>\n",
       "      <th>right_eye_center_x</th>\n",
       "      <th>right_eye_center_y</th>\n",
       "      <th>nose_tip_x</th>\n",
       "      <th>nose_tip_y</th>\n",
       "      <th>mouth_center_bottom_lip_x</th>\n",
       "      <th>mouth_center_bottom_lip_y</th>\n",
       "    </tr>\n",
       "  </thead>\n",
       "  <tbody>\n",
       "    <tr>\n",
       "      <th>0</th>\n",
       "      <td>66.342364</td>\n",
       "      <td>38.523613</td>\n",
       "      <td>28.930840</td>\n",
       "      <td>35.577773</td>\n",
       "      <td>49.256845</td>\n",
       "      <td>68.275955</td>\n",
       "      <td>47.783946</td>\n",
       "      <td>85.361582</td>\n",
       "    </tr>\n",
       "    <tr>\n",
       "      <th>1</th>\n",
       "      <td>68.912604</td>\n",
       "      <td>31.409117</td>\n",
       "      <td>29.652226</td>\n",
       "      <td>33.028075</td>\n",
       "      <td>51.913358</td>\n",
       "      <td>48.408453</td>\n",
       "      <td>50.698868</td>\n",
       "      <td>79.574038</td>\n",
       "    </tr>\n",
       "    <tr>\n",
       "      <th>2</th>\n",
       "      <td>68.708994</td>\n",
       "      <td>40.371149</td>\n",
       "      <td>27.130820</td>\n",
       "      <td>40.940680</td>\n",
       "      <td>44.502523</td>\n",
       "      <td>69.988486</td>\n",
       "      <td>45.926427</td>\n",
       "      <td>86.221009</td>\n",
       "    </tr>\n",
       "    <tr>\n",
       "      <th>3</th>\n",
       "      <td>65.334176</td>\n",
       "      <td>35.471878</td>\n",
       "      <td>29.366461</td>\n",
       "      <td>37.767684</td>\n",
       "      <td>50.411373</td>\n",
       "      <td>64.934767</td>\n",
       "      <td>50.028780</td>\n",
       "      <td>74.883241</td>\n",
       "    </tr>\n",
       "    <tr>\n",
       "      <th>4</th>\n",
       "      <td>68.634857</td>\n",
       "      <td>29.999486</td>\n",
       "      <td>31.094571</td>\n",
       "      <td>29.616429</td>\n",
       "      <td>50.247429</td>\n",
       "      <td>51.450857</td>\n",
       "      <td>47.948571</td>\n",
       "      <td>84.394286</td>\n",
       "    </tr>\n",
       "  </tbody>\n",
       "</table>\n",
       "</div>"
      ],
      "text/plain": [
       "   left_eye_center_x  left_eye_center_y  right_eye_center_x  \\\n",
       "0          66.342364          38.523613           28.930840   \n",
       "1          68.912604          31.409117           29.652226   \n",
       "2          68.708994          40.371149           27.130820   \n",
       "3          65.334176          35.471878           29.366461   \n",
       "4          68.634857          29.999486           31.094571   \n",
       "\n",
       "   right_eye_center_y  nose_tip_x  nose_tip_y  mouth_center_bottom_lip_x  \\\n",
       "0           35.577773   49.256845   68.275955                  47.783946   \n",
       "1           33.028075   51.913358   48.408453                  50.698868   \n",
       "2           40.940680   44.502523   69.988486                  45.926427   \n",
       "3           37.767684   50.411373   64.934767                  50.028780   \n",
       "4           29.616429   50.247429   51.450857                  47.948571   \n",
       "\n",
       "   mouth_center_bottom_lip_y  \n",
       "0                  85.361582  \n",
       "1                  79.574038  \n",
       "2                  86.221009  \n",
       "3                  74.883241  \n",
       "4                  84.394286  "
      ]
     },
     "execution_count": 2,
     "metadata": {},
     "output_type": "execute_result"
    }
   ],
   "source": [
    "train_df = pd.read_csv('人脸关键点检测挑战赛_数据集/train.csv')\n",
    "train_df = train_df.fillna(48)\n",
    "train_df.head()"
   ]
  },
  {
   "cell_type": "code",
   "execution_count": 11,
   "metadata": {
    "execution": {
     "iopub.execute_input": "2021-08-24T06:45:11.826091Z",
     "iopub.status.busy": "2021-08-24T06:45:11.825469Z",
     "iopub.status.idle": "2021-08-24T06:45:11.977031Z",
     "shell.execute_reply": "2021-08-24T06:45:11.976523Z",
     "shell.execute_reply.started": "2021-08-24T06:45:11.826040Z"
    },
    "tags": []
   },
   "outputs": [
    {
     "name": "stdout",
     "output_type": "stream",
     "text": [
      "(96, 96, 5000) (96, 96, 2049)\n"
     ]
    }
   ],
   "source": [
    "train_img = np.load('人脸关键点检测挑战赛_数据集/train.npy')\n",
    "test_img = np.load('人脸关键点检测挑战赛_数据集/test.npy')\n",
    "\n",
    "print(train_img.shape, test_img.shape)"
   ]
  },
  {
   "cell_type": "code",
   "execution_count": 12,
   "metadata": {
    "execution": {
     "iopub.execute_input": "2021-08-24T06:45:12.326994Z",
     "iopub.status.busy": "2021-08-24T06:45:12.326444Z",
     "iopub.status.idle": "2021-08-24T06:45:12.621353Z",
     "shell.execute_reply": "2021-08-24T06:45:12.620842Z",
     "shell.execute_reply.started": "2021-08-24T06:45:12.326948Z"
    },
    "tags": []
   },
   "outputs": [
    {
     "name": "stdout",
     "output_type": "stream",
     "text": [
      "Populating the interactive namespace from numpy and matplotlib\n"
     ]
    },
    {
     "data": {
      "text/plain": [
       "<matplotlib.image.AxesImage at 0x7f6d7402fb38>"
      ]
     },
     "execution_count": 12,
     "metadata": {},
     "output_type": "execute_result"
    },
    {
     "data": {
      "image/png": "[encoded data removed]",
      "text/plain": [
       "<Figure size 432x288 with 1 Axes>"
      ]
     },
     "metadata": {
      "needs_background": "light"
     },
     "output_type": "display_data"
    }
   ],
   "source": [
    "%pylab inline\n",
    "idx = 409\n",
    "xy = train_df.iloc[idx].values.reshape(-1, 2)\n",
    "plt.scatter(xy[:, 0], xy[:, 1], c='r')\n",
    "plt.imshow(train_img[:, :, idx], cmap='gray')"
   ]
  },
  {
   "cell_type": "code",
   "execution_count": 13,
   "metadata": {
    "execution": {
     "iopub.execute_input": "2021-08-24T06:45:12.741611Z",
     "iopub.status.busy": "2021-08-24T06:45:12.741067Z",
     "iopub.status.idle": "2021-08-24T06:45:12.844279Z",
     "shell.execute_reply": "2021-08-24T06:45:12.843797Z",
     "shell.execute_reply.started": "2021-08-24T06:45:12.741546Z"
    },
    "tags": []
   },
   "outputs": [
    {
     "name": "stdout",
     "output_type": "stream",
     "text": [
      "Populating the interactive namespace from numpy and matplotlib\n"
     ]
    },
    {
     "data": {
      "text/plain": [
       "<matplotlib.image.AxesImage at 0x7f6ca42ad710>"
      ]
     },
     "execution_count": 13,
     "metadata": {},
     "output_type": "execute_result"
    },
    {
     "data": {
      "image/png": "[encoded data removed]",
      "text/plain": [
       "<Figure size 432x288 with 1 Axes>"
      ]
     },
     "metadata": {
      "needs_background": "light"
     },
     "output_type": "display_data"
    }
   ],
   "source": [
    "%pylab inline\n",
    "idx = 400\n",
    "xy = train_df.iloc[idx].values.reshape(-1, 2)\n",
    "plt.scatter(xy[:1, 0], xy[:1, 1])\n",
    "plt.imshow(train_img[:, :, idx], cmap='gray')"
   ]
  },
  {
   "cell_type": "code",
   "execution_count": 14,
   "metadata": {
    "execution": {
     "iopub.execute_input": "2021-08-24T06:45:14.881996Z",
     "iopub.status.busy": "2021-08-24T06:45:14.881372Z",
     "iopub.status.idle": "2021-08-24T06:45:14.889657Z",
     "shell.execute_reply": "2021-08-24T06:45:14.888557Z",
     "shell.execute_reply.started": "2021-08-24T06:45:14.881947Z"
    },
    "tags": []
   },
   "outputs": [
    {
     "data": {
      "text/plain": [
       "array([65.48003042, 35.59519392, 27.88015209, 37.40276806, 48.84939924,\n",
       "       55.8413384 , 50.29560456, 88.92228137])"
      ]
     },
     "execution_count": 14,
     "metadata": {},
     "output_type": "execute_result"
    }
   ],
   "source": [
    "xy.flatten()"
   ]
  },
  {
   "cell_type": "code",
   "execution_count": 15,
   "metadata": {
    "execution": {
     "iopub.execute_input": "2021-08-24T06:45:15.360786Z",
     "iopub.status.busy": "2021-08-24T06:45:15.360241Z",
     "iopub.status.idle": "2021-08-24T06:45:15.458262Z",
     "shell.execute_reply": "2021-08-24T06:45:15.457787Z",
     "shell.execute_reply.started": "2021-08-24T06:45:15.360742Z"
    },
    "tags": []
   },
   "outputs": [
    {
     "data": {
      "text/plain": [
       "<matplotlib.image.AxesImage at 0x7f6c6e786c50>"
      ]
     },
     "execution_count": 15,
     "metadata": {},
     "output_type": "execute_result"
    },
    {
     "data": {
      "image/png": "[encoded data removed]",
      "text/plain": [
       "<Figure size 432x288 with 1 Axes>"
      ]
     },
     "metadata": {
      "needs_background": "light"
     },
     "output_type": "display_data"
    }
   ],
   "source": [
    "import albumentations as A\n",
    "\n",
    "transform = A.Compose(\n",
    "    [A.HorizontalFlip(p=1)], \n",
    "    keypoint_params=A.KeypointParams(format='xy')\n",
    ")\n",
    "\n",
    "transformed = transform(image=train_img[:, :, idx], keypoints=xy)\n",
    "transformed['keypoints'] = np.array(transformed['keypoints'])\n",
    "\n",
    "plt.scatter(transformed['keypoints'][1, 0], transformed['keypoints'][1, 1])\n",
    "plt.imshow(transformed['image'], cmap='gray')"
   ]
  },
  {
   "cell_type": "code",
   "execution_count": 10,
   "metadata": {
    "execution": {
     "iopub.execute_input": "2021-08-24T05:56:27.194674Z",
     "iopub.status.busy": "2021-08-24T05:56:27.194496Z",
     "iopub.status.idle": "2021-08-24T05:56:27.198146Z",
     "shell.execute_reply": "2021-08-24T05:56:27.197715Z",
     "shell.execute_reply.started": "2021-08-24T05:56:27.194658Z"
    },
    "tags": []
   },
   "outputs": [
    {
     "data": {
      "text/plain": [
       "array([[67.11984791, 37.40276806],\n",
       "       [29.51996958, 35.59519392],\n",
       "       [46.15060076, 55.8413384 ],\n",
       "       [44.70439544, 88.92228137]])"
      ]
     },
     "execution_count": 10,
     "metadata": {},
     "output_type": "execute_result"
    }
   ],
   "source": [
    "# 标签次序\n",
    "transformed['keypoints'][[1, 0, 2, 3]]"
   ]
  },
  {
   "cell_type": "code",
   "execution_count": 3,
   "metadata": {
    "execution": {
     "iopub.execute_input": "2021-08-24T06:43:28.300794Z",
     "iopub.status.busy": "2021-08-24T06:43:28.300218Z",
     "iopub.status.idle": "2021-08-24T06:43:28.839336Z",
     "shell.execute_reply": "2021-08-24T06:43:28.838740Z",
     "shell.execute_reply.started": "2021-08-24T06:43:28.300747Z"
    },
    "tags": []
   },
   "outputs": [],
   "source": [
    "import os, sys, codecs, glob\n",
    "from PIL import Image, ImageDraw\n",
    "import numpy as np\n",
    "import pandas as pd\n",
    "import cv2\n",
    "\n",
    "import torch\n",
    "torch.backends.cudnn.benchmark = False\n",
    "import torchvision.models as models\n",
    "import torchvision.transforms as transforms\n",
    "import torchvision.datasets as datasets\n",
    "import torch.nn as nn\n",
    "import torch.nn.functional as F\n",
    "import torch.optim as optim\n",
    "from torch.autograd import Variable\n",
    "from torch.utils.data.dataset import Dataset"
   ]
  },
  {
   "cell_type": "code",
   "execution_count": 135,
   "metadata": {
    "execution": {
     "iopub.execute_input": "2021-08-24T08:37:12.641217Z",
     "iopub.status.busy": "2021-08-24T08:37:12.640675Z",
     "iopub.status.idle": "2021-08-24T08:37:12.652229Z",
     "shell.execute_reply": "2021-08-24T08:37:12.651749Z",
     "shell.execute_reply.started": "2021-08-24T08:37:12.641174Z"
    },
    "tags": []
   },
   "outputs": [],
   "source": [
    "class XunFeiDataset(Dataset):\n",
    "    def __init__(self, img, keypoint, train=True, transform=None):\n",
    "        self.img = img\n",
    "        self.transform = transform\n",
    "        self.keypoint = keypoint\n",
    "        self.train = train\n",
    "        \n",
    "        self.totensor = transforms.Compose([\n",
    "                transforms.Resize((224, 224)),\n",
    "                transforms.ToTensor(),\n",
    "        ])\n",
    "        \n",
    "        self.transform1 = A.Compose([\n",
    "            A.Resize(224, 224),\n",
    "            A.HorizontalFlip(p=1),\n",
    "            A.RandomContrast(p=1),\n",
    "            A.RandomBrightnessContrast(p=1)\n",
    "        ], keypoint_params=A.KeypointParams(format='xy'))\n",
    "\n",
    "        self.transform2 = A.Compose([\n",
    "            # A.Resize(224, 224),\n",
    "            # A.PadIfNeeded(120, 120, p=0.5),\n",
    "            A.Blur(p=0.5),\n",
    "            A.RandomBrightnessContrast(p=0.5),\n",
    "            A.RandomContrast(p=0.5),\n",
    "            A.Resize(224, 224),\n",
    "        ], keypoint_params=A.KeypointParams(format='xy'))\n",
    "        \n",
    "    def __getitem__(self, index):\n",
    "        if self.train:\n",
    "            rnd = np.random.randint(10)\n",
    "            if rnd > 5:\n",
    "                img = self.transform1(image=self.img[:, :, index].astype(np.uint8), \n",
    "                                     keypoints=self.keypoint[index].reshape(-1, 2))\n",
    "                xy = img['keypoints']\n",
    "                img = img['image'].astype(np.uint8)\n",
    "                img = Image.fromarray(img).convert('RGB')\n",
    "                xy = np.array(xy)\n",
    "                xy = xy[[1, 0, 2, 3]]\n",
    "            else:\n",
    "                img = self.transform2(image=self.img[:, :, index].astype(np.uint8), \n",
    "                                     keypoints=self.keypoint[index].reshape(-1, 2))\n",
    "                xy = img['keypoints']\n",
    "                img = img['image'].astype(np.uint8)\n",
    "                img = Image.fromarray(img).convert('RGB')\n",
    "                xy = np.array(xy)\n",
    "            \n",
    "            return self.totensor(img), xy.flatten() / 224\n",
    "        else:\n",
    "            img = Image.fromarray(self.img[:, :, index]).convert('RGB')\n",
    "            return self.totensor(img), self.keypoint[index] / 96.0\n",
    "\n",
    "        img = Image.fromarray(self.img[:, :, index]).convert('RGB')\n",
    "        return self.totensor(img), self.keypoint[index] / 96.0\n",
    "\n",
    "    def __len__(self):\n",
    "        return self.img.shape[-1]"
   ]
  },
  {
   "cell_type": "code",
   "execution_count": 136,
   "metadata": {
    "execution": {
     "iopub.execute_input": "2021-08-24T08:37:13.740308Z",
     "iopub.status.busy": "2021-08-24T08:37:13.739745Z",
     "iopub.status.idle": "2021-08-24T08:37:13.746989Z",
     "shell.execute_reply": "2021-08-24T08:37:13.746045Z",
     "shell.execute_reply.started": "2021-08-24T08:37:13.740261Z"
    },
    "tags": []
   },
   "outputs": [],
   "source": [
    "import timm\n",
    "\n",
    "class XunFeiNet(nn.Module):\n",
    "    def __init__(self):\n",
    "        super(XunFeiNet, self).__init__()\n",
    "        self.model = timm.create_model('efficientnet_b0', num_classes=8, \n",
    "                          pretrained=True)\n",
    "        \n",
    "    def forward(self, img, labels=None):        \n",
    "        feat = self.model(img)\n",
    "        return feat"
   ]
  },
  {
   "cell_type": "code",
   "execution_count": 137,
   "metadata": {
    "execution": {
     "iopub.execute_input": "2021-08-24T08:37:15.339758Z",
     "iopub.status.busy": "2021-08-24T08:37:15.339247Z",
     "iopub.status.idle": "2021-08-24T08:37:15.349212Z",
     "shell.execute_reply": "2021-08-24T08:37:15.347952Z",
     "shell.execute_reply.started": "2021-08-24T08:37:15.339728Z"
    },
    "tags": []
   },
   "outputs": [],
   "source": [
    "def train(train_loader, model, criterion, optimizer, epoch):\n",
    "    model.train()\n",
    "\n",
    "    for i, (input, target) in enumerate(train_loader):\n",
    "        input = input.cuda(non_blocking=True).float()\n",
    "        target = target.cuda(non_blocking=True).float()\n",
    "\n",
    "        output = model(input, target)\n",
    "        loss = criterion(output, target)\n",
    "        optimizer.zero_grad()\n",
    "        torch.nn.utils.clip_grad_norm_(model.parameters(), 1.0)\n",
    "        loss.backward()\n",
    "        optimizer.step()\n",
    "            \n",
    "def validate(val_loader, model):\n",
    "    model.eval()\n",
    "    \n",
    "    val_feats = []\n",
    "    with torch.no_grad():\n",
    "        end = time.time()\n",
    "        for i, (input, target) in enumerate(val_loader):\n",
    "            input = input.cuda().float()\n",
    "            target = target.cuda().float()\n",
    "            output = model(input)\n",
    "            val_feats.append(output.data.cpu().numpy())\n",
    "    return val_feats"
   ]
  },
  {
   "cell_type": "code",
   "execution_count": 132,
   "metadata": {
    "execution": {
     "iopub.execute_input": "2021-08-24T08:25:47.520292Z",
     "iopub.status.busy": "2021-08-24T08:25:47.519887Z",
     "iopub.status.idle": "2021-08-24T08:25:47.537889Z",
     "shell.execute_reply": "2021-08-24T08:25:47.536901Z",
     "shell.execute_reply.started": "2021-08-24T08:25:47.520257Z"
    },
    "tags": []
   },
   "outputs": [
    {
     "ename": "FileNotFoundError",
     "evalue": "[Errno 2] No such file or directory: 'submit.csv'",
     "output_type": "error",
     "traceback": [
      "\u001b[0;31m---------------------------------------------------------------------------\u001b[0m",
      "\u001b[0;31mFileNotFoundError\u001b[0m                         Traceback (most recent call last)",
      "\u001b[0;32m<ipython-input-132-7f5ca6037469>\u001b[0m in \u001b[0;36m<module>\u001b[0;34m\u001b[0m\n\u001b[0;32m----> 1\u001b[0;31m \u001b[0mos\u001b[0m\u001b[0;34m.\u001b[0m\u001b[0munlink\u001b[0m\u001b[0;34m(\u001b[0m\u001b[0;34m'submit.csv'\u001b[0m\u001b[0;34m)\u001b[0m\u001b[0;34m\u001b[0m\u001b[0;34m\u001b[0m\u001b[0m\n\u001b[0m",
      "\u001b[0;31mFileNotFoundError\u001b[0m: [Errno 2] No such file or directory: 'submit.csv'"
     ]
    }
   ],
   "source": [
    "os.unlink('submit.csv')"
   ]
  },
  {
   "cell_type": "code",
   "execution_count": 138,
   "metadata": {
    "execution": {
     "iopub.execute_input": "2021-08-24T08:37:20.361338Z",
     "iopub.status.busy": "2021-08-24T08:37:20.360785Z",
     "iopub.status.idle": "2021-08-24T08:37:20.376713Z",
     "shell.execute_reply": "2021-08-24T08:37:20.376153Z",
     "shell.execute_reply.started": "2021-08-24T08:37:20.361293Z"
    },
    "tags": []
   },
   "outputs": [],
   "source": [
    "def run_kfold(nfold=5):\n",
    "    \n",
    "    train_img = np.load('人脸关键点检测挑战赛_数据集/train.npy')\n",
    "    test_img = np.load('人脸关键点检测挑战赛_数据集/test.npy')\n",
    "    train_df = pd.read_csv('人脸关键点检测挑战赛_数据集/train.csv')\n",
    "    train_df = train_df.fillna(48)\n",
    "\n",
    "    if os.path.exists('submit.csv'):\n",
    "        print('开始伪标签！')\n",
    "        train_img = np.concatenate([train_img, test_img],axis=2)\n",
    "        train_df = train_df.append(pd.read_csv('./submit.csv'))\n",
    "    \n",
    "    kfold = KFold(n_splits=nfold)\n",
    "    fold = 0\n",
    "\n",
    "    # 多折训练\n",
    "    for tr_idx, val_idx, in kfold.split([1]*train_df.shape[0]):\n",
    "        print(len(tr_idx), len(val_idx))\n",
    "        train_loader = torch.utils.data.DataLoader(\n",
    "            XunFeiDataset(train_img[:, :, tr_idx[:]], train_df.values[tr_idx[:]], train=True),\n",
    "            batch_size=20, shuffle=True, num_workers=5,\n",
    "        )\n",
    "\n",
    "        val_loader = torch.utils.data.DataLoader(\n",
    "            XunFeiDataset(train_img[:, :, val_idx[:]], train_df.values[val_idx[:]],train=False),\n",
    "            batch_size=10, shuffle=False, num_workers=5,\n",
    "        )\n",
    "\n",
    "        model = XunFeiNet().cuda()\n",
    "        criterion = nn.L1Loss().cuda()\n",
    "        optimizer = torch.optim.Adam(model.parameters(), 0.0005)\n",
    "        scheduler = optim.lr_scheduler.StepLR(optimizer, step_size=7, gamma=0.85)\n",
    "        best_mae = 100000\n",
    "\n",
    "        for epoch in range(20):\n",
    "            train(train_loader, model, criterion, optimizer, epoch)\n",
    "\n",
    "            val_feats = validate(val_loader, model)\n",
    "            scheduler.step()\n",
    "\n",
    "            val_feats = np.vstack(val_feats) * 96\n",
    "            val_mae  = mean_absolute_error(val_feats, train_df.values[val_idx[:]])\n",
    "            print(f'FOLD: {fold}, Epoch: {epoch}, Val MAE: {val_mae}')\n",
    "\n",
    "            if val_mae < best_mae:\n",
    "                best_mae = val_mae\n",
    "                torch.save(model.state_dict(), 'model_{0}.pt'.format(fold))\n",
    "\n",
    "        fold += 1\n",
    "        \n",
    "    \n",
    "    # 对测试集进行预测\n",
    "    test_loader = torch.utils.data.DataLoader(\n",
    "        XunFeiDataset(test_img, np.zeros((2049, 8)), train=False),\n",
    "        batch_size=10, shuffle=False, num_workers=5,\n",
    "    )\n",
    "    \n",
    "    pred_tta = []\n",
    "    for path in ['model_0.pt','model_1.pt','model_2.pt',\n",
    "                'model_3.pt','model_4.pt']:\n",
    "        pred = []\n",
    "        model.load_state_dict(torch.load(path))\n",
    "        with torch.no_grad():\n",
    "            for t, (x, y) in enumerate(test_loader):\n",
    "                x_var = Variable(x).cuda(async=True)\n",
    "                y_var = Variable(y).cuda()\n",
    "                scores0 = model(x_var)\n",
    "\n",
    "                pred.append(scores0.data.cpu().numpy())\n",
    "        pred = np.concatenate(pred, 0)    \n",
    "        print(path)\n",
    "        pred_tta.append(pred)\n",
    "\n",
    "    pred = np.mean(pred_tta, axis=0)\n",
    "    \n",
    "    col = ['left_eye_center_x', 'left_eye_center_y', 'right_eye_center_x',\n",
    "     'right_eye_center_y', 'nose_tip_x', 'nose_tip_y', \n",
    "     'mouth_center_bottom_lip_x','mouth_center_bottom_lip_y']\n",
    "    pd.DataFrame(pred * 96, columns=col).to_csv('submit.csv', index=None)"
   ]
  },
  {
   "cell_type": "code",
   "execution_count": 139,
   "metadata": {
    "execution": {
     "iopub.execute_input": "2021-08-24T08:37:21.496569Z",
     "iopub.status.busy": "2021-08-24T08:37:21.496007Z",
     "iopub.status.idle": "2021-08-24T09:09:53.702796Z",
     "shell.execute_reply": "2021-08-24T09:09:53.702059Z",
     "shell.execute_reply.started": "2021-08-24T08:37:21.496524Z"
    },
    "tags": []
   },
   "outputs": [
    {
     "name": "stdout",
     "output_type": "stream",
     "text": [
      "4000 1000\n",
      "FOLD: 0, Epoch: 0, Val MAE: 4.007879647503702\n",
      "FOLD: 0, Epoch: 1, Val MAE: 3.160726108417814\n",
      "FOLD: 0, Epoch: 2, Val MAE: 2.875253217740549\n",
      "FOLD: 0, Epoch: 3, Val MAE: 3.132796136981596\n",
      "FOLD: 0, Epoch: 4, Val MAE: 2.5521866364328707\n",
      "FOLD: 0, Epoch: 5, Val MAE: 3.1634699422751744\n",
      "FOLD: 0, Epoch: 6, Val MAE: 2.6442081154392203\n",
      "FOLD: 0, Epoch: 7, Val MAE: 2.026784245948009\n",
      "FOLD: 0, Epoch: 8, Val MAE: 2.042465712749802\n",
      "FOLD: 0, Epoch: 9, Val MAE: 2.481527537070486\n",
      "FOLD: 0, Epoch: 10, Val MAE: 2.8717050563018858\n",
      "FOLD: 0, Epoch: 11, Val MAE: 2.022664466270757\n",
      "FOLD: 0, Epoch: 12, Val MAE: 1.9961034726297004\n",
      "FOLD: 0, Epoch: 13, Val MAE: 1.8407943799086877\n",
      "FOLD: 0, Epoch: 14, Val MAE: 1.99268680559512\n",
      "FOLD: 0, Epoch: 15, Val MAE: 2.0938419387689162\n",
      "FOLD: 0, Epoch: 16, Val MAE: 1.8903616699952805\n",
      "FOLD: 0, Epoch: 17, Val MAE: 1.9720299292491095\n",
      "FOLD: 0, Epoch: 18, Val MAE: 2.120324570925\n",
      "FOLD: 0, Epoch: 19, Val MAE: 1.7580279181903458\n",
      "4000 1000\n",
      "FOLD: 1, Epoch: 0, Val MAE: 5.334847165059998\n",
      "FOLD: 1, Epoch: 1, Val MAE: 3.43359788793894\n",
      "FOLD: 1, Epoch: 2, Val MAE: 3.8601853559502217\n",
      "FOLD: 1, Epoch: 3, Val MAE: 3.179415528413445\n",
      "FOLD: 1, Epoch: 4, Val MAE: 2.7730558471861486\n",
      "FOLD: 1, Epoch: 5, Val MAE: 3.449626124938877\n",
      "FOLD: 1, Epoch: 6, Val MAE: 2.6843104739265495\n",
      "FOLD: 1, Epoch: 7, Val MAE: 2.463150709250875\n",
      "FOLD: 1, Epoch: 8, Val MAE: 2.266086676042546\n",
      "FOLD: 1, Epoch: 9, Val MAE: 2.5219272076454518\n",
      "FOLD: 1, Epoch: 10, Val MAE: 2.2620543262312385\n",
      "FOLD: 1, Epoch: 11, Val MAE: 2.269772550998449\n",
      "FOLD: 1, Epoch: 12, Val MAE: 1.851771629161957\n",
      "FOLD: 1, Epoch: 13, Val MAE: 2.2403886077703814\n",
      "FOLD: 1, Epoch: 14, Val MAE: 2.5849836749092345\n",
      "FOLD: 1, Epoch: 15, Val MAE: 2.4255412514038555\n",
      "FOLD: 1, Epoch: 16, Val MAE: 1.6512675593434116\n",
      "FOLD: 1, Epoch: 17, Val MAE: 2.52819695691309\n",
      "FOLD: 1, Epoch: 18, Val MAE: 2.1109845609180686\n",
      "FOLD: 1, Epoch: 19, Val MAE: 2.307156759315247\n",
      "4000 1000\n",
      "FOLD: 2, Epoch: 0, Val MAE: 4.037197125221864\n",
      "FOLD: 2, Epoch: 1, Val MAE: 2.8723819964799566\n",
      "FOLD: 2, Epoch: 2, Val MAE: 3.100439999128197\n",
      "FOLD: 2, Epoch: 3, Val MAE: 2.8705671012235205\n",
      "FOLD: 2, Epoch: 4, Val MAE: 2.8859762137535467\n",
      "FOLD: 2, Epoch: 5, Val MAE: 2.703501044253267\n",
      "FOLD: 2, Epoch: 6, Val MAE: 2.4303122705003495\n",
      "FOLD: 2, Epoch: 7, Val MAE: 2.103547094178372\n",
      "FOLD: 2, Epoch: 8, Val MAE: 1.9226007401728813\n",
      "FOLD: 2, Epoch: 9, Val MAE: 2.8789879778518155\n",
      "FOLD: 2, Epoch: 10, Val MAE: 2.276187332097123\n",
      "FOLD: 2, Epoch: 11, Val MAE: 1.880499496028644\n",
      "FOLD: 2, Epoch: 12, Val MAE: 2.0246750896363483\n",
      "FOLD: 2, Epoch: 13, Val MAE: 1.9468487071745701\n",
      "FOLD: 2, Epoch: 14, Val MAE: 1.8000319177401023\n",
      "FOLD: 2, Epoch: 15, Val MAE: 1.9920012941414142\n",
      "FOLD: 2, Epoch: 16, Val MAE: 1.8293840719919332\n",
      "FOLD: 2, Epoch: 17, Val MAE: 2.0297801012786523\n",
      "FOLD: 2, Epoch: 18, Val MAE: 1.9994246991921687\n",
      "FOLD: 2, Epoch: 19, Val MAE: 1.8113063026713885\n",
      "4000 1000\n",
      "FOLD: 3, Epoch: 0, Val MAE: 4.194558536006186\n",
      "FOLD: 3, Epoch: 1, Val MAE: 3.2843330685822005\n",
      "FOLD: 3, Epoch: 2, Val MAE: 3.130468571841674\n",
      "FOLD: 3, Epoch: 3, Val MAE: 3.277861222861028\n",
      "FOLD: 3, Epoch: 4, Val MAE: 2.645757135321915\n",
      "FOLD: 3, Epoch: 5, Val MAE: 2.764864961449405\n",
      "FOLD: 3, Epoch: 6, Val MAE: 2.5329327186275687\n",
      "FOLD: 3, Epoch: 7, Val MAE: 2.4320000251159386\n",
      "FOLD: 3, Epoch: 8, Val MAE: 2.5457393619986437\n",
      "FOLD: 3, Epoch: 9, Val MAE: 2.1925598667779775\n",
      "FOLD: 3, Epoch: 10, Val MAE: 2.225234278037262\n",
      "FOLD: 3, Epoch: 11, Val MAE: 2.51096582306835\n",
      "FOLD: 3, Epoch: 12, Val MAE: 2.2235441994455787\n",
      "FOLD: 3, Epoch: 13, Val MAE: 2.5671679615582157\n",
      "FOLD: 3, Epoch: 14, Val MAE: 2.059617752996683\n",
      "FOLD: 3, Epoch: 15, Val MAE: 1.7724525489940204\n",
      "FOLD: 3, Epoch: 16, Val MAE: 1.986817182318677\n",
      "FOLD: 3, Epoch: 17, Val MAE: 1.9719574925842829\n",
      "FOLD: 3, Epoch: 18, Val MAE: 1.781551711268213\n",
      "FOLD: 3, Epoch: 19, Val MAE: 1.89691842267312\n",
      "4000 1000\n",
      "FOLD: 4, Epoch: 0, Val MAE: 4.032947987036737\n",
      "FOLD: 4, Epoch: 1, Val MAE: 3.2921905600560715\n",
      "FOLD: 4, Epoch: 2, Val MAE: 2.903195628126824\n",
      "FOLD: 4, Epoch: 3, Val MAE: 2.6904406732858708\n",
      "FOLD: 4, Epoch: 4, Val MAE: 2.4068586237685716\n",
      "FOLD: 4, Epoch: 5, Val MAE: 2.735069904528319\n",
      "FOLD: 4, Epoch: 6, Val MAE: 2.3470518980030968\n",
      "FOLD: 4, Epoch: 7, Val MAE: 2.2765484976865085\n",
      "FOLD: 4, Epoch: 8, Val MAE: 2.086086943499927\n",
      "FOLD: 4, Epoch: 9, Val MAE: 2.0869034672113145\n",
      "FOLD: 4, Epoch: 10, Val MAE: 2.2645718888607993\n",
      "FOLD: 4, Epoch: 11, Val MAE: 2.277970054369012\n",
      "FOLD: 4, Epoch: 12, Val MAE: 2.134341044347993\n",
      "FOLD: 4, Epoch: 13, Val MAE: 2.311980926216374\n",
      "FOLD: 4, Epoch: 14, Val MAE: 1.9734514051878609\n",
      "FOLD: 4, Epoch: 15, Val MAE: 2.1885062508350632\n",
      "FOLD: 4, Epoch: 16, Val MAE: 1.972516917551106\n",
      "FOLD: 4, Epoch: 17, Val MAE: 1.6801498227827416\n",
      "FOLD: 4, Epoch: 18, Val MAE: 2.0673143947347183\n",
      "FOLD: 4, Epoch: 19, Val MAE: 1.8142849381674604\n",
      "model_0.pt\n",
      "model_1.pt\n",
      "model_2.pt\n",
      "model_3.pt\n",
      "model_4.pt\n"
     ]
    }
   ],
   "source": [
    "train_loader = run_kfold(5)"
   ]
  },
  {
   "cell_type": "code",
   "execution_count": 140,
   "metadata": {
    "execution": {
     "iopub.execute_input": "2021-08-24T09:10:14.495608Z",
     "iopub.status.busy": "2021-08-24T09:10:14.495022Z",
     "iopub.status.idle": "2021-08-24T09:10:14.672366Z",
     "shell.execute_reply": "2021-08-24T09:10:14.670969Z",
     "shell.execute_reply.started": "2021-08-24T09:10:14.495560Z"
    }
   },
   "outputs": [],
   "source": [
    "# 备份一份临时结果，提交这个是1.36得分\n",
    "!cp submit.csv submit1.csv"
   ]
  },
  {
   "cell_type": "code",
   "execution_count": null,
   "metadata": {
    "execution": {
     "iopub.execute_input": "2021-08-24T09:10:16.362114Z",
     "iopub.status.busy": "2021-08-24T09:10:16.361502Z"
    },
    "tags": []
   },
   "outputs": [
    {
     "name": "stdout",
     "output_type": "stream",
     "text": [
      "开始伪标签！\n",
      "6167 882\n",
      "FOLD: 0, Epoch: 0, Val MAE: 3.5701558894283805\n",
      "FOLD: 0, Epoch: 1, Val MAE: 2.863587189053993\n",
      "FOLD: 0, Epoch: 2, Val MAE: 2.710825937434638\n",
      "FOLD: 0, Epoch: 3, Val MAE: 2.4546196571536543\n",
      "FOLD: 0, Epoch: 4, Val MAE: 2.184992664020717\n",
      "FOLD: 0, Epoch: 5, Val MAE: 2.1174531636163283\n",
      "FOLD: 0, Epoch: 6, Val MAE: 2.3241402249072864\n",
      "FOLD: 0, Epoch: 7, Val MAE: 2.320474472824639\n",
      "FOLD: 0, Epoch: 8, Val MAE: 2.1162108956192656\n",
      "FOLD: 0, Epoch: 9, Val MAE: 2.3087200100310863\n",
      "FOLD: 0, Epoch: 10, Val MAE: 2.304674695913043\n",
      "FOLD: 0, Epoch: 11, Val MAE: 2.271806517182358\n",
      "FOLD: 0, Epoch: 12, Val MAE: 1.8565682531181595\n",
      "FOLD: 0, Epoch: 13, Val MAE: 1.8924639399499368\n",
      "FOLD: 0, Epoch: 14, Val MAE: 1.7838219340688228\n",
      "FOLD: 0, Epoch: 15, Val MAE: 2.987755642896274\n",
      "FOLD: 0, Epoch: 16, Val MAE: 2.458419813455194\n",
      "FOLD: 0, Epoch: 17, Val MAE: 4.4290460556808\n",
      "FOLD: 0, Epoch: 18, Val MAE: 2.5309313781885394\n",
      "FOLD: 0, Epoch: 19, Val MAE: 3.453123693019293\n",
      "6168 881\n",
      "FOLD: 1, Epoch: 0, Val MAE: 74.82582118004558\n",
      "FOLD: 1, Epoch: 1, Val MAE: 46.52495754784499\n",
      "FOLD: 1, Epoch: 2, Val MAE: 13.36585832135215\n",
      "FOLD: 1, Epoch: 3, Val MAE: 2.0844672026200066\n"
     ]
    }
   ],
   "source": [
    "run_kfold(8)"
   ]
  },
  {
   "cell_type": "code",
   "execution_count": 52,
   "metadata": {
    "execution": {
     "iopub.execute_input": "2021-08-24T07:36:20.148967Z",
     "iopub.status.busy": "2021-08-24T07:36:20.148381Z",
     "iopub.status.idle": "2021-08-24T07:36:20.156680Z",
     "shell.execute_reply": "2021-08-24T07:36:20.156012Z",
     "shell.execute_reply.started": "2021-08-24T07:36:20.148921Z"
    },
    "tags": []
   },
   "outputs": [
    {
     "data": {
      "text/plain": [
       "array([1.])"
      ]
     },
     "execution_count": 52,
     "metadata": {},
     "output_type": "execute_result"
    }
   ],
   "source": [
    "# 备份一份临时结果，这个结果有可能更好\n",
    "!cp submit.csv submit2.csv"
   ]
  }
 ],
 "metadata": {
  "kernelspec": {
   "display_name": "Python 3",
   "language": "python",
   "name": "python3"
  },
  "language_info": {
   "codemirror_mode": {
    "name": "ipython",
    "version": 3
   },
   "file_extension": ".py",
   "mimetype": "text/x-python",
   "name": "python",
   "nbconvert_exporter": "python",
   "pygments_lexer": "ipython3",
   "version": "3.6.9"
  }
 },
 "nbformat": 4,
 "nbformat_minor": 4
}
