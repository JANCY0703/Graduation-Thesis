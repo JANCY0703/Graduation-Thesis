{
 "cells": [
  {
   "cell_type": "markdown",
   "metadata": {},
   "source": [
    "# 简介\n",
    "\n",
    "赛题链接：https://challenge.xfyun.cn/topic/info?type=Ad-click-through"
   ]
  },
  {
   "cell_type": "markdown",
   "metadata": {},
   "source": [
    "## 赛事背景\n",
    "\n",
    "广告点击率预估是在线广告交易的核心环节之一，如果说一家公司想知道 CTR（点击率），以确定将他们的钱花在数字广告上是否值得。点击率高表示对该特定广告系列更感兴趣，点击率低可能表明广告可能不那么相关。高点击率表明更多人点击了网站，这有利于在谷歌、必应等在线平台上以更少的钱获得更好的广告位置。\n",
    "\n",
    "近年来，各大有关广告点击率预估的比赛相拥而至，如腾讯广告算法大赛、科大讯飞营销算法大赛、阿里妈妈点击率预估大赛等。可以看出这是一个企业长期关注的问题，也是值得花时间探索的问题。\n",
    "\n",
    "## 赛事任务\n",
    "平台展示给用户特定的广告，用户存在点击与不点击两种行为。给定某平台实际广告业务中的用户行为数据，共包含13个用户相关的字段，其中isClick字段表明用户是否会点击广告。\n",
    "\n",
    "任务目标是通过训练集训练模型，来预测测试集中isClick字段的概率结果，即用户点击平台所推荐广告的概率，以此为依据，表示用户对特定广告感兴趣的程度。\n",
    "\n",
    "## 评审规则\n",
    "\n",
    "1. 数据说明\n",
    "\n",
    "赛题数据由训练集和测试集组成，包含13个特征字段，6天的数据。其中39万多条作为训练集（7月2-6日），7万多条作为测试集（7月7日），同时会对部分字段信息进行脱敏。\n",
    "\n",
    "\n",
    "<img src=\"./pic/data.png\" width = \"300\" height = \"150\" alt=\"data\" align=center />\n",
    " \n",
    "\n",
    "2. 评估指标\n",
    "\n",
    "本次竞赛的评价标准采用AUC指标，正样本为1，评估代码参考：\n"
   ]
  },
  {
   "cell_type": "code",
   "execution_count": null,
   "metadata": {},
   "outputs": [],
   "source": [
    "from sklearn.metrics import roc_auc_score\n",
    "y_true = [0, 1, 0, 1, 1, 1]\n",
    "y_pred = [0.5, 0.5, 0.5, 0.5, 0.5, 0.5]\n",
    "score = roc_auc_score(y_true, y_pred)"
   ]
  },
  {
   "cell_type": "markdown",
   "metadata": {},
   "source": [
    "\n",
    "3. 评测及排行\n",
    "\n",
    "1、赛事提供下载数据，选手在本地进行算法调试，在比赛页面提交结果。\n",
    "\n",
    "2、每支团队每天最多提交3次。\n",
    "\n",
    "3、排行按照得分从高到低排序，排行榜将选择团队的历史最优成绩进行排名。\n",
    "\n",
    "## 作品提交要求\n",
    "\n",
    "文件格式：预测结果文件按照csv格式提交\n",
    "\n",
    "文件大小：无要求\n",
    "\n",
    "提交次数限制：每支队伍每天最多3次\n",
    "\n",
    "预测结果文件详细说明：\n",
    "\n",
    "1) 以csv格式提交，编码为UTF-8，第一行为表头；\n",
    "\n",
    "2) 提交前请确保预测结果的格式与sample_submit.csv中的格式一致。具体格式如下：\n",
    "\n"
   ]
  },
  {
   "cell_type": "code",
   "execution_count": null,
   "metadata": {},
   "outputs": [],
   "source": [
    "id,isClick\n",
    "\n",
    "463291,0.5\n",
    "\n",
    "463292,0.5"
   ]
  },
  {
   "cell_type": "markdown",
   "metadata": {},
   "source": [
    "## 赛程规则\n",
    "\n",
    "正式赛\n",
    "\n",
    "8月9日——9月8日\n",
    "\n",
    "初赛截止成绩以团队在初赛时间段内最优成绩为准（不含测试排名）。\n",
    "\n",
    "初赛作品提交截止日期为9月8日17:00；正式赛名次公布日期为9月9日10:00。\n",
    "\n",
    "长期赛\n",
    "\n",
    "9月9日——10月24日\n",
    "\n",
    "因赛事以学习实践为主，正式赛将转变为长期赛，供开发者学习实践。本阶段提交后，系统会根据成绩持续更新榜单，但该阶段榜单不再进行公示和奖励。\n",
    "\n",
    "六、奖项设置\n",
    "本赛题设立一、二、三等奖各一名，具体详情如下：\n",
    "\n",
    "一等奖：1支队伍，周赛一等奖证书，奖金：1000元\n",
    "\n",
    "二等奖：1支队伍，周赛二等奖证书，奖金：800元\n",
    "\n",
    "三等奖：1支队伍，周赛三等奖证书，奖金：500元"
   ]
  },
  {
   "cell_type": "markdown",
   "metadata": {},
   "source": [
    "# 赛题Baseline\n",
    "\n",
    "## 导入常用工具包&读取数据\n",
    "\n",
    "### 常用工具包导入\n",
    "\n"
   ]
  },
  {
   "cell_type": "code",
   "execution_count": 1,
   "metadata": {
    "ExecuteTime": {
     "end_time": "2021-08-08T12:54:27.643226Z",
     "start_time": "2021-08-08T12:54:25.916825Z"
    }
   },
   "outputs": [],
   "source": [
    "import numpy as np\n",
    "import pandas as pd\n",
    "import matplotlib.pyplot as plt\n",
    "import os\n",
    "import glob\n",
    "from joblib import Parallel, delayed"
   ]
  },
  {
   "cell_type": "markdown",
   "metadata": {},
   "source": [
    "\n",
    "### 数据读取"
   ]
  },
  {
   "cell_type": "code",
   "execution_count": 2,
   "metadata": {
    "ExecuteTime": {
     "end_time": "2021-08-08T12:54:28.528061Z",
     "start_time": "2021-08-08T12:54:28.079308Z"
    }
   },
   "outputs": [],
   "source": [
    "data_path = './data/'\n",
    "\n",
    "df_tr    = pd.read_csv(data_path + 'train.csv')\n",
    "df_te    = pd.read_csv(data_path + 'test.csv')\n",
    "df_tr_te = pd.concat([df_tr,df_te],axis=0,ignore_index = True)\n",
    "df_tr_te['isClick'] = df_tr_te['isClick'].fillna(-1)\n",
    "df_sub   = pd.read_csv(data_path + 'sample_submit.csv') "
   ]
  },
  {
   "cell_type": "markdown",
   "metadata": {},
   "source": [
    "## 数据分析"
   ]
  },
  {
   "cell_type": "code",
   "execution_count": 3,
   "metadata": {
    "ExecuteTime": {
     "end_time": "2021-08-08T12:54:29.336275Z",
     "start_time": "2021-08-08T12:54:29.319522Z"
    }
   },
   "outputs": [
    {
     "data": {
      "text/html": [
       "<div>\n",
       "<style scoped>\n",
       "    .dataframe tbody tr th:only-of-type {\n",
       "        vertical-align: middle;\n",
       "    }\n",
       "\n",
       "    .dataframe tbody tr th {\n",
       "        vertical-align: top;\n",
       "    }\n",
       "\n",
       "    .dataframe thead th {\n",
       "        text-align: right;\n",
       "    }\n",
       "</style>\n",
       "<table border=\"1\" class=\"dataframe\">\n",
       "  <thead>\n",
       "    <tr style=\"text-align: right;\">\n",
       "      <th></th>\n",
       "      <th>id</th>\n",
       "      <th>date</th>\n",
       "      <th>user_id</th>\n",
       "      <th>product</th>\n",
       "      <th>campaign_id</th>\n",
       "      <th>webpage_id</th>\n",
       "      <th>product_category_id</th>\n",
       "      <th>user_group_id</th>\n",
       "      <th>gender</th>\n",
       "      <th>age_level</th>\n",
       "      <th>user_depth</th>\n",
       "      <th>var_1</th>\n",
       "      <th>isClick</th>\n",
       "    </tr>\n",
       "  </thead>\n",
       "  <tbody>\n",
       "    <tr>\n",
       "      <th>0</th>\n",
       "      <td>0</td>\n",
       "      <td>07-02 00:00</td>\n",
       "      <td>0</td>\n",
       "      <td>0</td>\n",
       "      <td>0</td>\n",
       "      <td>0</td>\n",
       "      <td>0</td>\n",
       "      <td>10.0</td>\n",
       "      <td>Female</td>\n",
       "      <td>4.0</td>\n",
       "      <td>3.0</td>\n",
       "      <td>0</td>\n",
       "      <td>0.0</td>\n",
       "    </tr>\n",
       "    <tr>\n",
       "      <th>1</th>\n",
       "      <td>1</td>\n",
       "      <td>07-02 00:00</td>\n",
       "      <td>1</td>\n",
       "      <td>0</td>\n",
       "      <td>1</td>\n",
       "      <td>1</td>\n",
       "      <td>1</td>\n",
       "      <td>8.0</td>\n",
       "      <td>Female</td>\n",
       "      <td>2.0</td>\n",
       "      <td>2.0</td>\n",
       "      <td>0</td>\n",
       "      <td>0.0</td>\n",
       "    </tr>\n",
       "    <tr>\n",
       "      <th>2</th>\n",
       "      <td>2</td>\n",
       "      <td>07-02 00:00</td>\n",
       "      <td>1</td>\n",
       "      <td>0</td>\n",
       "      <td>0</td>\n",
       "      <td>0</td>\n",
       "      <td>0</td>\n",
       "      <td>8.0</td>\n",
       "      <td>Female</td>\n",
       "      <td>2.0</td>\n",
       "      <td>2.0</td>\n",
       "      <td>0</td>\n",
       "      <td>0.0</td>\n",
       "    </tr>\n",
       "    <tr>\n",
       "      <th>3</th>\n",
       "      <td>3</td>\n",
       "      <td>07-02 00:00</td>\n",
       "      <td>2</td>\n",
       "      <td>1</td>\n",
       "      <td>0</td>\n",
       "      <td>0</td>\n",
       "      <td>2</td>\n",
       "      <td>3.0</td>\n",
       "      <td>Male</td>\n",
       "      <td>3.0</td>\n",
       "      <td>3.0</td>\n",
       "      <td>1</td>\n",
       "      <td>0.0</td>\n",
       "    </tr>\n",
       "    <tr>\n",
       "      <th>4</th>\n",
       "      <td>4</td>\n",
       "      <td>07-02 00:01</td>\n",
       "      <td>3</td>\n",
       "      <td>0</td>\n",
       "      <td>2</td>\n",
       "      <td>2</td>\n",
       "      <td>2</td>\n",
       "      <td>2.0</td>\n",
       "      <td>Male</td>\n",
       "      <td>2.0</td>\n",
       "      <td>3.0</td>\n",
       "      <td>1</td>\n",
       "      <td>0.0</td>\n",
       "    </tr>\n",
       "  </tbody>\n",
       "</table>\n",
       "</div>"
      ],
      "text/plain": [
       "   id         date  user_id  product  campaign_id  webpage_id  \\\n",
       "0   0  07-02 00:00        0        0            0           0   \n",
       "1   1  07-02 00:00        1        0            1           1   \n",
       "2   2  07-02 00:00        1        0            0           0   \n",
       "3   3  07-02 00:00        2        1            0           0   \n",
       "4   4  07-02 00:01        3        0            2           2   \n",
       "\n",
       "   product_category_id  user_group_id  gender  age_level  user_depth  var_1  \\\n",
       "0                    0           10.0  Female        4.0         3.0      0   \n",
       "1                    1            8.0  Female        2.0         2.0      0   \n",
       "2                    0            8.0  Female        2.0         2.0      0   \n",
       "3                    2            3.0    Male        3.0         3.0      1   \n",
       "4                    2            2.0    Male        2.0         3.0      1   \n",
       "\n",
       "   isClick  \n",
       "0      0.0  \n",
       "1      0.0  \n",
       "2      0.0  \n",
       "3      0.0  \n",
       "4      0.0  "
      ]
     },
     "execution_count": 3,
     "metadata": {},
     "output_type": "execute_result"
    }
   ],
   "source": [
    "df_tr_te.head()"
   ]
  },
  {
   "cell_type": "code",
   "execution_count": 5,
   "metadata": {
    "ExecuteTime": {
     "end_time": "2021-08-08T12:57:59.447438Z",
     "start_time": "2021-08-08T12:57:58.836036Z"
    }
   },
   "outputs": [],
   "source": [
    "df_tr_te['hour'] = df_tr_te['date'].apply(lambda x: int(x.split(' ')[-1].split(':')[0]))\n",
    "df_tr_te['day']= df_tr_te['date'].apply(lambda x: int(x.split(' ')[0].split('-')[1]))"
   ]
  },
  {
   "cell_type": "markdown",
   "metadata": {},
   "source": [
    "### userid\n",
    "\n",
    "- userid的分布是有偏的"
   ]
  },
  {
   "cell_type": "code",
   "execution_count": 12,
   "metadata": {
    "ExecuteTime": {
     "end_time": "2021-08-08T13:07:43.335106Z",
     "start_time": "2021-08-08T13:07:42.024116Z"
    }
   },
   "outputs": [
    {
     "name": "stderr",
     "output_type": "stream",
     "text": [
      "/Users/wangrong/opt/anaconda3/lib/python3.8/site-packages/seaborn/distributions.py:2557: FutureWarning: `distplot` is a deprecated function and will be removed in a future version. Please adapt your code to use either `displot` (a figure-level function with similar flexibility) or `histplot` (an axes-level function for histograms).\n",
      "  warnings.warn(msg, FutureWarning)\n"
     ]
    },
    {
     "data": {
      "text/plain": [
       "<AxesSubplot:xlabel='user_id', ylabel='Density'>"
      ]
     },
     "execution_count": 12,
     "metadata": {},
     "output_type": "execute_result"
    },
    {
     "data": {
      "image/png": "[encoded data removed]",
      "text/plain": [
       "<Figure size 432x288 with 1 Axes>"
      ]
     },
     "metadata": {
      "needs_background": "light"
     },
     "output_type": "display_data"
    }
   ],
   "source": [
    "import seaborn as sns\n",
    "from tqdm import tqdm\n",
    "from sklearn.model_selection import KFold \n",
    "import lightgbm as lgbm \n",
    "\n",
    "sns.distplot(df_tr_te['user_id'].value_counts())"
   ]
  },
  {
   "cell_type": "markdown",
   "metadata": {},
   "source": [
    "### user_group_id\n",
    "\n",
    "- user_group_i的分布主要集中在1，2，3，4，5。"
   ]
  },
  {
   "cell_type": "code",
   "execution_count": 16,
   "metadata": {
    "ExecuteTime": {
     "end_time": "2021-08-08T13:45:08.018489Z",
     "start_time": "2021-08-08T13:45:07.795966Z"
    }
   },
   "outputs": [
    {
     "data": {
      "text/plain": [
       "<AxesSubplot:>"
      ]
     },
     "execution_count": 16,
     "metadata": {},
     "output_type": "execute_result"
    },
    {
     "data": {
      "image/png": "[encoded data removed]",
      "text/plain": [
       "<Figure size 432x288 with 1 Axes>"
      ]
     },
     "metadata": {
      "needs_background": "light"
     },
     "output_type": "display_data"
    }
   ],
   "source": [
    "df_tr_te['user_group_id'].value_counts().plot(kind='bar')"
   ]
  },
  {
   "cell_type": "markdown",
   "metadata": {},
   "source": [
    "### day\n",
    "\n",
    "- 每天的数据是类似的"
   ]
  },
  {
   "cell_type": "code",
   "execution_count": 6,
   "metadata": {
    "ExecuteTime": {
     "end_time": "2021-08-08T12:58:15.568387Z",
     "start_time": "2021-08-08T12:58:15.344909Z"
    }
   },
   "outputs": [
    {
     "data": {
      "text/plain": [
       "<AxesSubplot:>"
      ]
     },
     "execution_count": 6,
     "metadata": {},
     "output_type": "execute_result"
    },
    {
     "data": {
      "image/png": "[encoded data removed]",
      "text/plain": [
       "<Figure size 432x288 with 1 Axes>"
      ]
     },
     "metadata": {
      "needs_background": "light"
     },
     "output_type": "display_data"
    }
   ],
   "source": [
    "df_tr_te['day'].value_counts().plot(kind = 'bar')"
   ]
  },
  {
   "cell_type": "markdown",
   "metadata": {},
   "source": [
    "### isClick\n",
    "\n",
    "- 标签分布有些不平衡；"
   ]
  },
  {
   "cell_type": "code",
   "execution_count": 15,
   "metadata": {
    "ExecuteTime": {
     "end_time": "2021-08-08T13:37:47.333082Z",
     "start_time": "2021-08-08T13:37:47.198960Z"
    }
   },
   "outputs": [
    {
     "data": {
      "text/plain": [
       "<AxesSubplot:>"
      ]
     },
     "execution_count": 15,
     "metadata": {},
     "output_type": "execute_result"
    },
    {
     "data": {
      "image/png": "[encoded data removed]",
      "text/plain": [
       "<Figure size 432x288 with 1 Axes>"
      ]
     },
     "metadata": {
      "needs_background": "light"
     },
     "output_type": "display_data"
    }
   ],
   "source": [
    "df_tr['isClick'].value_counts().plot(kind = 'bar')"
   ]
  },
  {
   "cell_type": "markdown",
   "metadata": {},
   "source": [
    "\n",
    "- 每一天用户的点击率会有些许差异，但大致都在0.06-0.075之间。"
   ]
  },
  {
   "cell_type": "code",
   "execution_count": 10,
   "metadata": {
    "ExecuteTime": {
     "end_time": "2021-08-08T13:01:37.954622Z",
     "start_time": "2021-08-08T13:01:37.580571Z"
    }
   },
   "outputs": [
    {
     "data": {
      "text/plain": [
       "<AxesSubplot:xlabel='day'>"
      ]
     },
     "execution_count": 10,
     "metadata": {},
     "output_type": "execute_result"
    },
    {
     "data": {
      "image/png": "[encoded data removed]",
      "text/plain": [
       "<Figure size 432x288 with 1 Axes>"
      ]
     },
     "metadata": {
      "needs_background": "light"
     },
     "output_type": "display_data"
    }
   ],
   "source": [
    "df_tr_te.loc[df_tr_te['isClick']!=-1].groupby('day')['isClick'].mean().plot()"
   ]
  },
  {
   "cell_type": "markdown",
   "metadata": {
    "ExecuteTime": {
     "end_time": "2021-08-08T13:01:16.716204Z",
     "start_time": "2021-08-08T13:01:16.697187Z"
    }
   },
   "source": [
    "### 小结\n",
    "\n",
    "从上面的基础分析来看，本次赛题的数据基本符合我们的直观理解。至于其它的细节，大家可以根据自己的需求进行分析。下面我们构建该赛题的Baseline。"
   ]
  },
  {
   "cell_type": "markdown",
   "metadata": {
    "ExecuteTime": {
     "end_time": "2021-08-08T12:19:43.122811Z",
     "start_time": "2021-08-08T12:19:43.093323Z"
    }
   },
   "source": [
    "## 模型构建\n",
    "### 特征工程\n",
    "\n",
    "#### 历史点击率"
   ]
  },
  {
   "cell_type": "code",
   "execution_count": 6,
   "metadata": {
    "ExecuteTime": {
     "end_time": "2021-08-08T12:20:08.583964Z",
     "start_time": "2021-08-08T12:20:08.566492Z"
    },
    "scrolled": true
   },
   "outputs": [],
   "source": [
    "\n",
    "def _his_click_rate(df, f1, window_size = 2): \n",
    "    fea_name = '{}_his_{}_clickrate'.format(f1,window_size )\n",
    "    df[fea_name] = 0\n",
    "    for i in tqdm(range(3,8)):\n",
    "        df_t = df.loc[((df['day'] >= i-window_size) & (df['day'] < i))]\n",
    "        inds = df['day'] == i\n",
    "        df.loc[inds,fea_name] = df.loc[inds,f1].map(df_t.groupby(f1)['isClick'].mean()) \n",
    "    return df"
   ]
  },
  {
   "cell_type": "code",
   "execution_count": 7,
   "metadata": {
    "ExecuteTime": {
     "end_time": "2021-08-08T12:20:09.592062Z",
     "start_time": "2021-08-08T12:20:09.149892Z"
    }
   },
   "outputs": [
    {
     "name": "stderr",
     "output_type": "stream",
     "text": [
      "100%|██████████| 5/5 [00:00<00:00, 13.85it/s]\n"
     ]
    }
   ],
   "source": [
    "df_tr_te = _his_click_rate(df = df_tr_te, f1 = 'user_id', window_size = 2)\n",
    "df_tr_te['gender'] = df_tr_te['gender'].fillna('NAN').map({'Female':1,'Male':0,'NAN':-1})"
   ]
  },
  {
   "cell_type": "markdown",
   "metadata": {
    "ExecuteTime": {
     "end_time": "2021-08-08T12:23:49.840993Z",
     "start_time": "2021-08-08T12:23:49.838892Z"
    }
   },
   "source": [
    "#### 历史count特征"
   ]
  },
  {
   "cell_type": "code",
   "execution_count": 12,
   "metadata": {
    "ExecuteTime": {
     "end_time": "2021-08-08T12:23:52.059678Z",
     "start_time": "2021-08-08T12:23:51.918878Z"
    }
   },
   "outputs": [],
   "source": [
    "dense_features = ['user_id_his_2_clickrate']\n",
    "for c in ['user_id','product','hour','campaign_id','webpage_id','user_group_id','age_level']:\n",
    "    df_tr_te[c + '_cnt'] = df_tr_te[c].map(df_tr_te[c].value_counts())\n",
    "    dense_features.append(c + '_cnt')"
   ]
  },
  {
   "cell_type": "markdown",
   "metadata": {
    "ExecuteTime": {
     "end_time": "2021-08-08T12:24:31.990819Z",
     "start_time": "2021-08-08T12:24:31.988238Z"
    }
   },
   "source": [
    "## 模型训练&预测\n",
    "\n",
    "### 五折LGB模型"
   ]
  },
  {
   "cell_type": "code",
   "execution_count": 13,
   "metadata": {
    "ExecuteTime": {
     "end_time": "2021-08-08T12:23:53.943770Z",
     "start_time": "2021-08-08T12:23:53.939694Z"
    }
   },
   "outputs": [],
   "source": [
    "cate_features  = ['user_id','product','hour','campaign_id','webpage_id','user_group_id','age_level']\n",
    "dense_features = dense_features + ['gender']\n",
    "label          = 'isClick'"
   ]
  },
  {
   "cell_type": "code",
   "execution_count": 35,
   "metadata": {
    "ExecuteTime": {
     "end_time": "2021-08-08T12:39:34.418296Z",
     "start_time": "2021-08-08T12:37:01.700267Z"
    },
    "scrolled": true
   },
   "outputs": [
    {
     "name": "stderr",
     "output_type": "stream",
     "text": [
      "/Users/wangrong/opt/anaconda3/lib/python3.8/site-packages/lightgbm/engine.py:153: UserWarning: Found `early_stopping_rounds` in params. Will use it instead of argument\n",
      "  _log_warning(\"Found `{}` in params. Will use it instead of argument\".format(alias))\n",
      "/Users/wangrong/opt/anaconda3/lib/python3.8/site-packages/lightgbm/basic.py:1705: UserWarning: categorical_feature in Dataset is overridden.\n",
      "New categorical_feature is ['age_level', 'campaign_id', 'hour', 'product', 'user_group_id', 'user_id', 'webpage_id']\n",
      "  _log_warning('categorical_feature in Dataset is overridden.\\n'\n"
     ]
    },
    {
     "name": "stdout",
     "output_type": "stream",
     "text": [
      "[LightGBM] [Info] Number of positive: 21190, number of negative: 292270\n",
      "[LightGBM] [Warning] Auto-choosing col-wise multi-threading, the overhead of testing was 0.019503 seconds.\n",
      "You can set `force_col_wise=true` to remove the overhead.\n",
      "[LightGBM] [Info] Total Bins 19300\n",
      "[LightGBM] [Info] Number of data points in the train set: 313460, number of used features: 16\n",
      "[LightGBM] [Info] [binary:BoostFromScore]: pavg=0.067600 -> initscore=-2.624149\n",
      "[LightGBM] [Info] Start training from score -2.624149\n",
      "Training until validation scores don't improve for 100 rounds\n"
     ]
    },
    {
     "name": "stderr",
     "output_type": "stream",
     "text": [
      "/Users/wangrong/opt/anaconda3/lib/python3.8/site-packages/lightgbm/basic.py:1433: UserWarning: Overriding the parameters from Reference Dataset.\n",
      "  _log_warning('Overriding the parameters from Reference Dataset.')\n",
      "/Users/wangrong/opt/anaconda3/lib/python3.8/site-packages/lightgbm/basic.py:1245: UserWarning: categorical_column in param dict is overridden.\n",
      "  _log_warning('{} in param dict is overridden.'.format(cat_alias))\n"
     ]
    },
    {
     "name": "stdout",
     "output_type": "stream",
     "text": [
      "[100]\ttraining's auc: 0.658613\tvalid_1's auc: 0.602978\n",
      "[200]\ttraining's auc: 0.668796\tvalid_1's auc: 0.605539\n",
      "[300]\ttraining's auc: 0.67614\tvalid_1's auc: 0.60634\n",
      "[400]\ttraining's auc: 0.681604\tvalid_1's auc: 0.606225\n",
      "Early stopping, best iteration is:\n",
      "[304]\ttraining's auc: 0.676372\tvalid_1's auc: 0.606431\n",
      "[LightGBM] [Info] Number of positive: 21074, number of negative: 292386\n",
      "[LightGBM] [Warning] Auto-choosing row-wise multi-threading, the overhead of testing was 0.004578 seconds.\n",
      "You can set `force_row_wise=true` to remove the overhead.\n",
      "And if memory is not enough, you can set `force_col_wise=true`.\n",
      "[LightGBM] [Info] Total Bins 19334\n",
      "[LightGBM] [Info] Number of data points in the train set: 313460, number of used features: 16\n",
      "[LightGBM] [Info] [binary:BoostFromScore]: pavg=0.067230 -> initscore=-2.630035\n",
      "[LightGBM] [Info] Start training from score -2.630035\n",
      "Training until validation scores don't improve for 100 rounds\n",
      "[100]\ttraining's auc: 0.65511\tvalid_1's auc: 0.6083\n",
      "[200]\ttraining's auc: 0.663173\tvalid_1's auc: 0.609098\n",
      "[300]\ttraining's auc: 0.669479\tvalid_1's auc: 0.609489\n",
      "[400]\ttraining's auc: 0.674937\tvalid_1's auc: 0.609987\n",
      "[500]\ttraining's auc: 0.679823\tvalid_1's auc: 0.610264\n",
      "[600]\ttraining's auc: 0.684235\tvalid_1's auc: 0.610657\n",
      "[700]\ttraining's auc: 0.690073\tvalid_1's auc: 0.610448\n",
      "Early stopping, best iteration is:\n",
      "[634]\ttraining's auc: 0.686012\tvalid_1's auc: 0.610664\n",
      "[LightGBM] [Info] Number of positive: 21222, number of negative: 292238\n",
      "[LightGBM] [Warning] Auto-choosing col-wise multi-threading, the overhead of testing was 0.018158 seconds.\n",
      "You can set `force_col_wise=true` to remove the overhead.\n",
      "[LightGBM] [Info] Total Bins 19461\n",
      "[LightGBM] [Info] Number of data points in the train set: 313460, number of used features: 16\n",
      "[LightGBM] [Info] [binary:BoostFromScore]: pavg=0.067702 -> initscore=-2.622530\n",
      "[LightGBM] [Info] Start training from score -2.622530\n",
      "Training until validation scores don't improve for 100 rounds\n",
      "[100]\ttraining's auc: 0.654584\tvalid_1's auc: 0.614179\n",
      "[200]\ttraining's auc: 0.663667\tvalid_1's auc: 0.616451\n",
      "[300]\ttraining's auc: 0.670593\tvalid_1's auc: 0.616915\n",
      "[400]\ttraining's auc: 0.67607\tvalid_1's auc: 0.617391\n",
      "[500]\ttraining's auc: 0.681162\tvalid_1's auc: 0.617944\n",
      "[600]\ttraining's auc: 0.685192\tvalid_1's auc: 0.618239\n",
      "[700]\ttraining's auc: 0.688914\tvalid_1's auc: 0.618267\n",
      "[800]\ttraining's auc: 0.692953\tvalid_1's auc: 0.618294\n",
      "Early stopping, best iteration is:\n",
      "[777]\ttraining's auc: 0.692339\tvalid_1's auc: 0.618385\n",
      "[LightGBM] [Info] Number of positive: 22166, number of negative: 291294\n",
      "[LightGBM] [Warning] Auto-choosing col-wise multi-threading, the overhead of testing was 0.021973 seconds.\n",
      "You can set `force_col_wise=true` to remove the overhead.\n",
      "[LightGBM] [Info] Total Bins 19571\n",
      "[LightGBM] [Info] Number of data points in the train set: 313460, number of used features: 16\n",
      "[LightGBM] [Info] [binary:BoostFromScore]: pavg=0.070714 -> initscore=-2.575773\n",
      "[LightGBM] [Info] Start training from score -2.575773\n",
      "Training until validation scores don't improve for 100 rounds\n",
      "[100]\ttraining's auc: 0.659786\tvalid_1's auc: 0.591016\n",
      "[200]\ttraining's auc: 0.669031\tvalid_1's auc: 0.592811\n",
      "[300]\ttraining's auc: 0.675552\tvalid_1's auc: 0.593582\n",
      "[400]\ttraining's auc: 0.680773\tvalid_1's auc: 0.593581\n",
      "Early stopping, best iteration is:\n",
      "[364]\ttraining's auc: 0.67894\tvalid_1's auc: 0.59363\n",
      "[LightGBM] [Info] Number of positive: 22068, number of negative: 291392\n",
      "[LightGBM] [Warning] Auto-choosing row-wise multi-threading, the overhead of testing was 0.005255 seconds.\n",
      "You can set `force_row_wise=true` to remove the overhead.\n",
      "And if memory is not enough, you can set `force_col_wise=true`.\n",
      "[LightGBM] [Info] Total Bins 19522\n",
      "[LightGBM] [Info] Number of data points in the train set: 313460, number of used features: 16\n",
      "[LightGBM] [Info] [binary:BoostFromScore]: pavg=0.070401 -> initscore=-2.580541\n",
      "[LightGBM] [Info] Start training from score -2.580541\n",
      "Training until validation scores don't improve for 100 rounds\n",
      "[100]\ttraining's auc: 0.658561\tvalid_1's auc: 0.582069\n",
      "[200]\ttraining's auc: 0.667721\tvalid_1's auc: 0.584812\n",
      "[300]\ttraining's auc: 0.675033\tvalid_1's auc: 0.585932\n",
      "[400]\ttraining's auc: 0.679941\tvalid_1's auc: 0.586605\n",
      "[500]\ttraining's auc: 0.684729\tvalid_1's auc: 0.587181\n",
      "[600]\ttraining's auc: 0.68876\tvalid_1's auc: 0.587857\n",
      "[700]\ttraining's auc: 0.691905\tvalid_1's auc: 0.588088\n",
      "[800]\ttraining's auc: 0.695499\tvalid_1's auc: 0.587947\n",
      "Early stopping, best iteration is:\n",
      "[700]\ttraining's auc: 0.691905\tvalid_1's auc: 0.588088\n"
     ]
    }
   ],
   "source": [
    "\n",
    "lgb_params = {\n",
    "      \"objective\": \"binary\", \n",
    "      \"metric\": \"auc\", \n",
    "      \"boosting_type\": \"gbdt\",\n",
    "      'early_stopping_rounds': 100,\n",
    "      'learning_rate': 0.01,  \n",
    "      'colsample_bytree':0.95, \n",
    "}\n",
    "features = cate_features + dense_features\n",
    "X_tr_val = df_tr_te.loc[df_tr_te['isClick']!=-1] \n",
    "X_te     = df_tr_te.loc[df_tr_te['isClick']==-1][features]\n",
    " \n",
    "kf = KFold(n_splits=5)\n",
    "lgb_models = []\n",
    "y_pred = 0\n",
    "for f,(tr_ind,val_ind) in enumerate(kf.split(X_tr_val)):\n",
    "    \n",
    "    X_train,X_valid = X_tr_val.iloc[tr_ind][features], X_tr_val.iloc[val_ind][features]\n",
    "    y_train,y_valid = X_tr_val.iloc[tr_ind][label], X_tr_val.iloc[val_ind][label]\n",
    "    \n",
    "    lgbm_train = lgbm.Dataset(X_train,y_train)  \n",
    "    lgbm_valid = lgbm.Dataset(X_valid,y_valid)\n",
    "\n",
    "    model_binary = lgbm.train(params=lgb_params, \n",
    "                  train_set=lgbm_train,\n",
    "                  valid_sets=[lgbm_train, lgbm_valid],\n",
    "                  num_boost_round=100000,   \n",
    "                  verbose_eval=100,\n",
    "                  categorical_feature = cate_features)\n",
    "    y_pred = model_binary.predict(X_te) / 5.0\n",
    "    lgb_models.append(model_binary)\n",
    "    "
   ]
  },
  {
   "cell_type": "markdown",
   "metadata": {},
   "source": [
    "### 模型提交"
   ]
  },
  {
   "cell_type": "code",
   "execution_count": 36,
   "metadata": {
    "ExecuteTime": {
     "end_time": "2021-08-08T12:42:57.262496Z",
     "start_time": "2021-08-08T12:42:57.218460Z"
    }
   },
   "outputs": [
    {
     "data": {
      "text/html": [
       "<div>\n",
       "<style scoped>\n",
       "    .dataframe tbody tr th:only-of-type {\n",
       "        vertical-align: middle;\n",
       "    }\n",
       "\n",
       "    .dataframe tbody tr th {\n",
       "        vertical-align: top;\n",
       "    }\n",
       "\n",
       "    .dataframe thead th {\n",
       "        text-align: right;\n",
       "    }\n",
       "</style>\n",
       "<table border=\"1\" class=\"dataframe\">\n",
       "  <thead>\n",
       "    <tr style=\"text-align: right;\">\n",
       "      <th></th>\n",
       "      <th>id</th>\n",
       "      <th>isClick</th>\n",
       "    </tr>\n",
       "  </thead>\n",
       "  <tbody>\n",
       "    <tr>\n",
       "      <th>0</th>\n",
       "      <td>391825</td>\n",
       "      <td>0.026866</td>\n",
       "    </tr>\n",
       "    <tr>\n",
       "      <th>1</th>\n",
       "      <td>391826</td>\n",
       "      <td>0.021046</td>\n",
       "    </tr>\n",
       "    <tr>\n",
       "      <th>2</th>\n",
       "      <td>391827</td>\n",
       "      <td>0.014573</td>\n",
       "    </tr>\n",
       "    <tr>\n",
       "      <th>3</th>\n",
       "      <td>391828</td>\n",
       "      <td>0.011582</td>\n",
       "    </tr>\n",
       "    <tr>\n",
       "      <th>4</th>\n",
       "      <td>391829</td>\n",
       "      <td>0.017713</td>\n",
       "    </tr>\n",
       "  </tbody>\n",
       "</table>\n",
       "</div>"
      ],
      "text/plain": [
       "       id   isClick\n",
       "0  391825  0.026866\n",
       "1  391826  0.021046\n",
       "2  391827  0.014573\n",
       "3  391828  0.011582\n",
       "4  391829  0.017713"
      ]
     },
     "execution_count": 36,
     "metadata": {},
     "output_type": "execute_result"
    }
   ],
   "source": [
    "sub = pd.DataFrame({'id':df_tr_te.loc[df_tr_te['isClick']==-1]['id'].values, 'isClick':y_pred})\n",
    "sub.head()"
   ]
  },
  {
   "cell_type": "code",
   "execution_count": 37,
   "metadata": {
    "ExecuteTime": {
     "end_time": "2021-08-08T12:43:18.064593Z",
     "start_time": "2021-08-08T12:43:17.866383Z"
    }
   },
   "outputs": [],
   "source": [
    "sub.to_csv('baseline_Fold5_lgb.csv',index = None)"
   ]
  },
  {
   "cell_type": "markdown",
   "metadata": {},
   "source": [
    "# 结论\n",
    "\n",
    "本文我们对数据进行了简单的分析，同时构建了count和历史点击率两大特征，最终使用5折的交叉LGB进行训练预测。当然本次比赛还有很多其它的提升点，例如：\n",
    " \n",
    "- 细化特征分析，构建其它的特征，包括交叉特征等等；\n",
    "- 构建现在常见的网络模型，尝试最新的神经网络；\n",
    "- 使用不同的模型进行融合等等；\n"
   ]
  }
 ],
 "metadata": {
  "kernelspec": {
   "display_name": "Python 3",
   "language": "python",
   "name": "python3"
  },
  "language_info": {
   "codemirror_mode": {
    "name": "ipython",
    "version": 3
   },
   "file_extension": ".py",
   "mimetype": "text/x-python",
   "name": "python",
   "nbconvert_exporter": "python",
   "pygments_lexer": "ipython3",
   "version": "3.8.5"
  },
  "toc": {
   "base_numbering": 1,
   "nav_menu": {},
   "number_sections": true,
   "sideBar": true,
   "skip_h1_title": false,
   "title_cell": "Table of Contents",
   "title_sidebar": "Contents",
   "toc_cell": false,
   "toc_position": {},
   "toc_section_display": true,
   "toc_window_display": true
  }
 },
 "nbformat": 4,
 "nbformat_minor": 4
}
