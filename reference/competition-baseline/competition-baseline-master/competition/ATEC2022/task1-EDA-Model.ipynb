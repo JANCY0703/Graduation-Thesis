{
 "cells": [
  {
   "cell_type": "code",
   "execution_count": 320,
   "id": "0b11532d",
   "metadata": {},
   "outputs": [
    {
     "name": "stdout",
     "output_type": "stream",
     "text": [
      "Defaulting to user installation because normal site-packages is not writeable\n",
      "Looking in indexes: http://mirrors.cloud.aliyuncs.com/pypi/simple/\n",
      "Requirement already satisfied: pandas in ./.local/lib/python3.6/site-packages (1.1.5)\n",
      "Requirement already satisfied: matplotlib in ./.local/lib/python3.6/site-packages (3.3.4)\n",
      "Requirement already satisfied: seaborn in ./.local/lib/python3.6/site-packages (0.11.2)\n",
      "Requirement already satisfied: sklearn in ./.local/lib/python3.6/site-packages (0.0.post1)\n",
      "Requirement already satisfied: xgboost in ./.local/lib/python3.6/site-packages (1.5.2)\n",
      "Requirement already satisfied: lightgbm in ./.local/lib/python3.6/site-packages (3.3.3)\n",
      "Collecting networkx\n",
      "  Downloading http://mirrors.cloud.aliyuncs.com/pypi/packages/f3/b7/c7f488101c0bb5e4178f3cde416004280fd40262433496830de8a8c21613/networkx-2.5.1-py3-none-any.whl (1.6 MB)\n",
      "\u001b[K     |████████████████████████████████| 1.6 MB 7.1 MB/s eta 0:00:01\n",
      "\u001b[?25hRequirement already satisfied: pytz>=2017.2 in ./.local/lib/python3.6/site-packages (from pandas) (2022.6)\n",
      "Requirement already satisfied: python-dateutil>=2.7.3 in /usr/local/lib/python3.6/site-packages (from pandas) (2.8.2)\n",
      "Requirement already satisfied: numpy>=1.15.4 in ./.local/lib/python3.6/site-packages (from pandas) (1.19.5)\n",
      "Requirement already satisfied: kiwisolver>=1.0.1 in ./.local/lib/python3.6/site-packages (from matplotlib) (1.3.1)\n",
      "Requirement already satisfied: pyparsing!=2.0.4,!=2.1.2,!=2.1.6,>=2.0.3 in /usr/local/lib/python3.6/site-packages (from matplotlib) (2.4.7)\n",
      "Requirement already satisfied: pillow>=6.2.0 in ./.local/lib/python3.6/site-packages (from matplotlib) (8.4.0)\n",
      "Requirement already satisfied: cycler>=0.10 in ./.local/lib/python3.6/site-packages (from matplotlib) (0.11.0)\n",
      "Requirement already satisfied: scipy>=1.0 in ./.local/lib/python3.6/site-packages (from seaborn) (1.5.4)\n",
      "Requirement already satisfied: wheel in ./.local/lib/python3.6/site-packages (from lightgbm) (0.37.1)\n",
      "Requirement already satisfied: scikit-learn!=0.22.0 in ./.local/lib/python3.6/site-packages (from lightgbm) (0.24.2)\n",
      "Collecting decorator<5,>=4.3\n",
      "  Downloading http://mirrors.cloud.aliyuncs.com/pypi/packages/ed/1b/72a1821152d07cf1d8b6fce298aeb06a7eb90f4d6d41acec9861e7cc6df0/decorator-4.4.2-py2.py3-none-any.whl (9.2 kB)\n",
      "Requirement already satisfied: six>=1.5 in /usr/local/lib/python3.6/site-packages (from python-dateutil>=2.7.3->pandas) (1.16.0)\n",
      "Requirement already satisfied: joblib>=0.11 in ./.local/lib/python3.6/site-packages (from scikit-learn!=0.22.0->lightgbm) (1.1.1)\n",
      "Requirement already satisfied: threadpoolctl>=2.0.0 in ./.local/lib/python3.6/site-packages (from scikit-learn!=0.22.0->lightgbm) (3.1.0)\n",
      "Installing collected packages: decorator, networkx\n",
      "Successfully installed decorator-4.4.2 networkx-2.5.1\n",
      "\u001b[33mWARNING: You are using pip version 21.2.4; however, version 21.3.1 is available.\n",
      "You should consider upgrading via the '/usr/bin/python3 -m pip install --upgrade pip' command.\u001b[0m\n"
     ]
    }
   ],
   "source": [
    "!pip3 install pandas matplotlib seaborn sklearn xgboost lightgbm networkx"
   ]
  },
  {
   "cell_type": "markdown",
   "id": "ded06a2b",
   "metadata": {},
   "source": [
    "## Part1 赛题背景\n",
    "\n",
    "提高中小商家的数字化经营能力，是我国数字经济做强做优做大的关键基础，也是推动数字技术与实体经济深度融合的关键路径之一。中小商家通过分发数字消费券，提升其数字化经营的收益率和效率，是其数字化经营能力的重要标志之一，但同时也面临着长尾客户及消费券数量多、非结构化数据异质性强等挑战。本赛道围绕中小商家数字消费券分发这一关键问题，考察选手如何利用多种非结构化数据，如用户历史行为序列、用户间关系图、消费券知识图谱等，来帮助提高数字消费券的分发精度，从而提高中小商家的数字化经营能力。\n",
    "\n",
    "\n",
    "## Part2 数据说明\n",
    "\n",
    "本赛题会向选手提供一段时间内消费券向用户展示和被用户领取的数据，并要求选手预测在这段时间以后用户对消费券的领取行为。为了尽可能还原真实的工业数据环境，本赛题还会向选手提供用户和消费券的基础特征、用户间关系以及消费券知识图谱等数据，同时确保这些数据的采集和构造都是发生在待预测时间段之前。详细的数据说明如下："
   ]
  },
  {
   "cell_type": "code",
   "execution_count": 205,
   "id": "ecb438fe",
   "metadata": {},
   "outputs": [],
   "source": [
    "import pandas as pd\n",
    "import numpy as np\n",
    "import matplotlib.pyplot as plt\n",
    "import seaborn as sns\n",
    "\n",
    "import lightgbm\n",
    "from lightgbm import LGBMClassifier "
   ]
  },
  {
   "cell_type": "code",
   "execution_count": 22,
   "id": "37fd57d0",
   "metadata": {},
   "outputs": [],
   "source": [
    "train = pd.read_json('/home/admin/workspace/job/input/train.jsonl', lines=True)\n",
    "user_feat = pd.read_csv('/home/admin/workspace/job/input/resources/user_feat.csv', )\n",
    "item_feat = pd.read_csv('/home/admin/workspace/job/input/resources/item_feat.csv', )\n",
    "uu_graph = pd.read_csv(\"/home/admin/workspace/job/input/resources/uu_graph.csv\")\n",
    "mkt_kg_graph = pd.read_csv('/home/admin/workspace/job/input/resources/mkt_kg_graph.csv', )\n",
    "test = pd.read_json('/home/admin/workspace/job/input/test.jsonl', lines=True)"
   ]
  },
  {
   "cell_type": "markdown",
   "id": "f68f5a0b",
   "metadata": {},
   "source": [
    "### 消费券展示/领取 (train)\n",
    "\n",
    "包含一段时间内消费券向用户展示和被用户领取的数据，每行表示一次展示。\n",
    "\n",
    "| **列名** | **涵义**                                                     |\n",
    "| -------- | ------------------------------------------------------------ |\n",
    "| id       | 仅作为数据的标识，内容为从 0 开始编号的索引值                |\n",
    "| log_time | 展示时间索引，按展示时间戳从早到晚排序后，从 0 开始编号的索引值 |\n",
    "| user_id  | 用户标识，从 0 开始编号的索引值                              |\n",
    "| item_id  | 消费券标识，从 0 开始编号的索引值                            |\n",
    "| label    | 本次展示的消费券被用户领取时为 1，否则为 0                   |\n",
    "| dt       | 本次展示对应日期的天级相对时间（如 0 代表第一天的数据）      |\n",
    "\n",
    "### 用户基础特征 (user_feat)\n",
    "\n",
    "包含所有用户的基础特征，每行表示一位用户。\n",
    "\n",
    "| **列名**   | **涵义**                                                     |\n",
    "| ---------- | ------------------------------------------------------------ |\n",
    "| user_id    | 用户标识，从 0 开始编号的索引值                              |\n",
    "| gender     | 性别（含性别未知）                                           |\n",
    "| age        | 年龄（已对实际年龄做分档处理）                               |\n",
    "| occupation | 用户职业的索引                                               |\n",
    "| entity_cnt | 用户历史行为的标签及频次，标签由业务专家产出，能反映用户的行为类型（例如喝咖啡、打车等）。标签经过脱敏处理为从 0 开始编号的索引值。 数据格式为 k1:v1,k2:v2,...,kn:vn，其中 ki 为标签标识, vi 为经过缩放处理的频次。 |\n",
    "\n",
    "### 消费券基础特征 (item_feat)\n",
    "\n",
    "包含所有消费券的基础特征，每行表示一张消费券。\n",
    "\n",
    "| **列名**                     | **涵义**                                                     |\n",
    "| ---------------------------- | ------------------------------------------------------------ |\n",
    "| item_id                      | 消费券标识，从 0 开始编号的索引值                            |\n",
    "| category_l1_name             | 消费券所属一级类目，从 0 开始编号的索引值                    |\n",
    "| category_l2_name             | 消费券所属二级类目，从 0 开始编号的索引值                    |\n",
    "| category_l3_name             | 消费券所属三级类目，从 0 开始编号的索引值                    |\n",
    "| voucher_benefit_floor_amount | 消费券使用门槛，即使用时原订单需要支付的最低金额（满减优惠券），或商品原价格（商品优惠券）（单位：分）。 |\n",
    "| voucher_benefit_amount       | 消费券优惠金额（单位：分）                                   |\n",
    "\n",
    "### 用户间关系 (uu_graph)\n",
    "\n",
    "包含上述用户间的社交关系，每行表示一个关系。\n",
    "\n",
    "| **列名**      | **涵义**                                                |\n",
    "| ------------- | ------------------------------------------------------- |\n",
    "| left_user_id  | 用户标识，从 0 开始编号的索引值（与用户基础特征表对齐） |\n",
    "| right_user_id | 用户标识，从 0 开始编号的索引值（与用户基础特征表对齐） |\n",
    "\n",
    "### 消费券图谱 (mkt_kg_graph)\n",
    "\n",
    "描述消费券与其他实体（小程序、商家、品牌）关联的知识图谱，每行表示图谱中的一条边。\n",
    "\n",
    "| **列名**           | **涵义**                                                     |\n",
    "| ------------------ | ------------------------------------------------------------ |\n",
    "| source_entity_id   | 起始实体标识，每种类型实体的标识都是从 0 开始编号的索引值。其中消费券标识与消费券基础特征中的券 ID 为统一 ID 体系。 |\n",
    "| target_entity_id   | 终止实体标识，每种类型实体的标识都是从 0 开始编号的索引值。其中消费券标识与消费券基础特征中的券 ID 为统一 ID 体系。 |\n",
    "| source_entity_type | 起始实体类型，包括消费券、小程序、商家、品牌共 4 种类型实体  |\n",
    "| target_entity_type | 终止实体类型，包括消费券、小程序、商家、品牌共 4 种类型实体  |\n",
    "\n",
    "*注：实体类型+实体标识是知识图谱中每个节点的唯一标识。*\n",
    "\n",
    "### A/B 榜测试数据 (test)\n",
    "\n",
    "A/B  榜使用的测试数据是“消费券展示/领取”数据表中时间段之后发生的消费券展示记录，每行包含一个用户标识和一个消费券标识，表示向该用户展示了该消费券（相同的记录已去重），选手需要对每行数据进行预测，即预测该用户是否会领取该消费券。其中 A 榜和 B 榜会分别从中随机选取部分数据计算对应榜单的指标。\n",
    "\n",
    "| **列名** | **涵义**                                      |\n",
    "| -------- | --------------------------------------------- |\n",
    "| id       | 仅作为数据的标识，内容为从 0 开始编号的索引值 |\n",
    "| user_id  | 用户标识，从 0 开始编号的索引值               |\n",
    "| item_id  | 消费券标识，从 0 开始编号的索引值             |"
   ]
  },
  {
   "cell_type": "code",
   "execution_count": 11,
   "id": "df1283aa",
   "metadata": {},
   "outputs": [
    {
     "data": {
      "text/html": [
       "<div>\n",
       "<style scoped>\n",
       "    .dataframe tbody tr th:only-of-type {\n",
       "        vertical-align: middle;\n",
       "    }\n",
       "\n",
       "    .dataframe tbody tr th {\n",
       "        vertical-align: top;\n",
       "    }\n",
       "\n",
       "    .dataframe thead th {\n",
       "        text-align: right;\n",
       "    }\n",
       "</style>\n",
       "<table border=\"1\" class=\"dataframe\">\n",
       "  <thead>\n",
       "    <tr style=\"text-align: right;\">\n",
       "      <th></th>\n",
       "      <th>id</th>\n",
       "      <th>user_id</th>\n",
       "      <th>item_id</th>\n",
       "      <th>log_time</th>\n",
       "      <th>label</th>\n",
       "      <th>dt</th>\n",
       "    </tr>\n",
       "  </thead>\n",
       "  <tbody>\n",
       "    <tr>\n",
       "      <th>0</th>\n",
       "      <td>0</td>\n",
       "      <td>41002</td>\n",
       "      <td>385</td>\n",
       "      <td>0</td>\n",
       "      <td>0</td>\n",
       "      <td>0</td>\n",
       "    </tr>\n",
       "    <tr>\n",
       "      <th>1</th>\n",
       "      <td>1</td>\n",
       "      <td>18880</td>\n",
       "      <td>18</td>\n",
       "      <td>1</td>\n",
       "      <td>0</td>\n",
       "      <td>0</td>\n",
       "    </tr>\n",
       "  </tbody>\n",
       "</table>\n",
       "</div>"
      ],
      "text/plain": [
       "   id  user_id  item_id  log_time  label  dt\n",
       "0   0    41002      385         0      0   0\n",
       "1   1    18880       18         1      0   0"
      ]
     },
     "execution_count": 11,
     "metadata": {},
     "output_type": "execute_result"
    }
   ],
   "source": [
    "train.head(2)"
   ]
  },
  {
   "cell_type": "code",
   "execution_count": 10,
   "id": "33f0486c",
   "metadata": {},
   "outputs": [
    {
     "data": {
      "text/html": [
       "<div>\n",
       "<style scoped>\n",
       "    .dataframe tbody tr th:only-of-type {\n",
       "        vertical-align: middle;\n",
       "    }\n",
       "\n",
       "    .dataframe tbody tr th {\n",
       "        vertical-align: top;\n",
       "    }\n",
       "\n",
       "    .dataframe thead th {\n",
       "        text-align: right;\n",
       "    }\n",
       "</style>\n",
       "<table border=\"1\" class=\"dataframe\">\n",
       "  <thead>\n",
       "    <tr style=\"text-align: right;\">\n",
       "      <th></th>\n",
       "      <th>id</th>\n",
       "      <th>user_id</th>\n",
       "      <th>item_id</th>\n",
       "      <th>log_time</th>\n",
       "      <th>label</th>\n",
       "      <th>dt</th>\n",
       "    </tr>\n",
       "  </thead>\n",
       "  <tbody>\n",
       "    <tr>\n",
       "      <th>count</th>\n",
       "      <td>1043215</td>\n",
       "      <td>1043215</td>\n",
       "      <td>1043215</td>\n",
       "      <td>1043215</td>\n",
       "      <td>1043215</td>\n",
       "      <td>1043215</td>\n",
       "    </tr>\n",
       "    <tr>\n",
       "      <th>mean</th>\n",
       "      <td>521607</td>\n",
       "      <td>89344</td>\n",
       "      <td>628</td>\n",
       "      <td>519943</td>\n",
       "      <td>0</td>\n",
       "      <td>2</td>\n",
       "    </tr>\n",
       "    <tr>\n",
       "      <th>std</th>\n",
       "      <td>301150</td>\n",
       "      <td>52257</td>\n",
       "      <td>467</td>\n",
       "      <td>300224</td>\n",
       "      <td>0</td>\n",
       "      <td>1</td>\n",
       "    </tr>\n",
       "    <tr>\n",
       "      <th>min</th>\n",
       "      <td>0</td>\n",
       "      <td>0</td>\n",
       "      <td>0</td>\n",
       "      <td>0</td>\n",
       "      <td>0</td>\n",
       "      <td>0</td>\n",
       "    </tr>\n",
       "    <tr>\n",
       "      <th>25%</th>\n",
       "      <td>260803</td>\n",
       "      <td>44002</td>\n",
       "      <td>246</td>\n",
       "      <td>260183</td>\n",
       "      <td>0</td>\n",
       "      <td>1</td>\n",
       "    </tr>\n",
       "    <tr>\n",
       "      <th>50%</th>\n",
       "      <td>521607</td>\n",
       "      <td>89448</td>\n",
       "      <td>511</td>\n",
       "      <td>519765</td>\n",
       "      <td>0</td>\n",
       "      <td>2</td>\n",
       "    </tr>\n",
       "    <tr>\n",
       "      <th>75%</th>\n",
       "      <td>782410</td>\n",
       "      <td>134543</td>\n",
       "      <td>998</td>\n",
       "      <td>779962</td>\n",
       "      <td>0</td>\n",
       "      <td>4</td>\n",
       "    </tr>\n",
       "    <tr>\n",
       "      <th>max</th>\n",
       "      <td>1043214</td>\n",
       "      <td>180610</td>\n",
       "      <td>1695</td>\n",
       "      <td>1040174</td>\n",
       "      <td>1</td>\n",
       "      <td>5</td>\n",
       "    </tr>\n",
       "  </tbody>\n",
       "</table>\n",
       "</div>"
      ],
      "text/plain": [
       "            id  user_id  item_id  log_time    label       dt\n",
       "count  1043215  1043215  1043215   1043215  1043215  1043215\n",
       "mean    521607    89344      628    519943        0        2\n",
       "std     301150    52257      467    300224        0        1\n",
       "min          0        0        0         0        0        0\n",
       "25%     260803    44002      246    260183        0        1\n",
       "50%     521607    89448      511    519765        0        2\n",
       "75%     782410   134543      998    779962        0        4\n",
       "max    1043214   180610     1695   1040174        1        5"
      ]
     },
     "execution_count": 10,
     "metadata": {},
     "output_type": "execute_result"
    }
   ],
   "source": [
    "train.describe().astype(int)"
   ]
  },
  {
   "cell_type": "code",
   "execution_count": 12,
   "id": "89398224",
   "metadata": {},
   "outputs": [
    {
     "data": {
      "text/html": [
       "<div>\n",
       "<style scoped>\n",
       "    .dataframe tbody tr th:only-of-type {\n",
       "        vertical-align: middle;\n",
       "    }\n",
       "\n",
       "    .dataframe tbody tr th {\n",
       "        vertical-align: top;\n",
       "    }\n",
       "\n",
       "    .dataframe thead th {\n",
       "        text-align: right;\n",
       "    }\n",
       "</style>\n",
       "<table border=\"1\" class=\"dataframe\">\n",
       "  <thead>\n",
       "    <tr style=\"text-align: right;\">\n",
       "      <th></th>\n",
       "      <th>user_id</th>\n",
       "      <th>gender</th>\n",
       "      <th>age</th>\n",
       "      <th>occupation</th>\n",
       "      <th>entity_cnt</th>\n",
       "    </tr>\n",
       "  </thead>\n",
       "  <tbody>\n",
       "    <tr>\n",
       "      <th>0</th>\n",
       "      <td>27948</td>\n",
       "      <td>1.0</td>\n",
       "      <td>2.0</td>\n",
       "      <td>19.0</td>\n",
       "      <td>228:0.0,1230:0.6931471805599453,2369:0.0,282:4...</td>\n",
       "    </tr>\n",
       "  </tbody>\n",
       "</table>\n",
       "</div>"
      ],
      "text/plain": [
       "   user_id  gender  age  occupation  \\\n",
       "0    27948     1.0  2.0        19.0   \n",
       "\n",
       "                                          entity_cnt  \n",
       "0  228:0.0,1230:0.6931471805599453,2369:0.0,282:4...  "
      ]
     },
     "execution_count": 12,
     "metadata": {},
     "output_type": "execute_result"
    }
   ],
   "source": [
    "user_feat.head(1)"
   ]
  },
  {
   "cell_type": "code",
   "execution_count": 15,
   "id": "c4d2c497",
   "metadata": {},
   "outputs": [
    {
     "data": {
      "text/html": [
       "<div>\n",
       "<style scoped>\n",
       "    .dataframe tbody tr th:only-of-type {\n",
       "        vertical-align: middle;\n",
       "    }\n",
       "\n",
       "    .dataframe tbody tr th {\n",
       "        vertical-align: top;\n",
       "    }\n",
       "\n",
       "    .dataframe thead th {\n",
       "        text-align: right;\n",
       "    }\n",
       "</style>\n",
       "<table border=\"1\" class=\"dataframe\">\n",
       "  <thead>\n",
       "    <tr style=\"text-align: right;\">\n",
       "      <th></th>\n",
       "      <th>user_id</th>\n",
       "      <th>gender</th>\n",
       "      <th>age</th>\n",
       "      <th>occupation</th>\n",
       "      <th>entity_cnt</th>\n",
       "    </tr>\n",
       "  </thead>\n",
       "  <tbody>\n",
       "    <tr>\n",
       "      <th>count</th>\n",
       "      <td>180611.000000</td>\n",
       "      <td>180335.000000</td>\n",
       "      <td>180201.000000</td>\n",
       "      <td>93714.000000</td>\n",
       "      <td>180179</td>\n",
       "    </tr>\n",
       "    <tr>\n",
       "      <th>unique</th>\n",
       "      <td>NaN</td>\n",
       "      <td>NaN</td>\n",
       "      <td>NaN</td>\n",
       "      <td>NaN</td>\n",
       "      <td>179940</td>\n",
       "    </tr>\n",
       "    <tr>\n",
       "      <th>top</th>\n",
       "      <td>NaN</td>\n",
       "      <td>NaN</td>\n",
       "      <td>NaN</td>\n",
       "      <td>NaN</td>\n",
       "      <td>1075:0.6931471805599453</td>\n",
       "    </tr>\n",
       "    <tr>\n",
       "      <th>freq</th>\n",
       "      <td>NaN</td>\n",
       "      <td>NaN</td>\n",
       "      <td>NaN</td>\n",
       "      <td>NaN</td>\n",
       "      <td>36</td>\n",
       "    </tr>\n",
       "    <tr>\n",
       "      <th>mean</th>\n",
       "      <td>90305.000000</td>\n",
       "      <td>1.633881</td>\n",
       "      <td>2.025505</td>\n",
       "      <td>16.452974</td>\n",
       "      <td>NaN</td>\n",
       "    </tr>\n",
       "    <tr>\n",
       "      <th>std</th>\n",
       "      <td>52138.049072</td>\n",
       "      <td>0.482066</td>\n",
       "      <td>0.946319</td>\n",
       "      <td>5.791035</td>\n",
       "      <td>NaN</td>\n",
       "    </tr>\n",
       "    <tr>\n",
       "      <th>min</th>\n",
       "      <td>0.000000</td>\n",
       "      <td>0.000000</td>\n",
       "      <td>0.000000</td>\n",
       "      <td>0.000000</td>\n",
       "      <td>NaN</td>\n",
       "    </tr>\n",
       "    <tr>\n",
       "      <th>25%</th>\n",
       "      <td>45152.500000</td>\n",
       "      <td>1.000000</td>\n",
       "      <td>1.000000</td>\n",
       "      <td>11.000000</td>\n",
       "      <td>NaN</td>\n",
       "    </tr>\n",
       "    <tr>\n",
       "      <th>50%</th>\n",
       "      <td>90305.000000</td>\n",
       "      <td>2.000000</td>\n",
       "      <td>2.000000</td>\n",
       "      <td>19.000000</td>\n",
       "      <td>NaN</td>\n",
       "    </tr>\n",
       "    <tr>\n",
       "      <th>75%</th>\n",
       "      <td>135457.500000</td>\n",
       "      <td>2.000000</td>\n",
       "      <td>3.000000</td>\n",
       "      <td>19.000000</td>\n",
       "      <td>NaN</td>\n",
       "    </tr>\n",
       "    <tr>\n",
       "      <th>max</th>\n",
       "      <td>180610.000000</td>\n",
       "      <td>2.000000</td>\n",
       "      <td>4.000000</td>\n",
       "      <td>25.000000</td>\n",
       "      <td>NaN</td>\n",
       "    </tr>\n",
       "  </tbody>\n",
       "</table>\n",
       "</div>"
      ],
      "text/plain": [
       "              user_id         gender            age    occupation  \\\n",
       "count   180611.000000  180335.000000  180201.000000  93714.000000   \n",
       "unique            NaN            NaN            NaN           NaN   \n",
       "top               NaN            NaN            NaN           NaN   \n",
       "freq              NaN            NaN            NaN           NaN   \n",
       "mean     90305.000000       1.633881       2.025505     16.452974   \n",
       "std      52138.049072       0.482066       0.946319      5.791035   \n",
       "min          0.000000       0.000000       0.000000      0.000000   \n",
       "25%      45152.500000       1.000000       1.000000     11.000000   \n",
       "50%      90305.000000       2.000000       2.000000     19.000000   \n",
       "75%     135457.500000       2.000000       3.000000     19.000000   \n",
       "max     180610.000000       2.000000       4.000000     25.000000   \n",
       "\n",
       "                     entity_cnt  \n",
       "count                    180179  \n",
       "unique                   179940  \n",
       "top     1075:0.6931471805599453  \n",
       "freq                         36  \n",
       "mean                        NaN  \n",
       "std                         NaN  \n",
       "min                         NaN  \n",
       "25%                         NaN  \n",
       "50%                         NaN  \n",
       "75%                         NaN  \n",
       "max                         NaN  "
      ]
     },
     "execution_count": 15,
     "metadata": {},
     "output_type": "execute_result"
    }
   ],
   "source": [
    "user_feat.describe(include='all')"
   ]
  },
  {
   "cell_type": "code",
   "execution_count": 16,
   "id": "6574429e",
   "metadata": {},
   "outputs": [
    {
     "data": {
      "text/html": [
       "<div>\n",
       "<style scoped>\n",
       "    .dataframe tbody tr th:only-of-type {\n",
       "        vertical-align: middle;\n",
       "    }\n",
       "\n",
       "    .dataframe tbody tr th {\n",
       "        vertical-align: top;\n",
       "    }\n",
       "\n",
       "    .dataframe thead th {\n",
       "        text-align: right;\n",
       "    }\n",
       "</style>\n",
       "<table border=\"1\" class=\"dataframe\">\n",
       "  <thead>\n",
       "    <tr style=\"text-align: right;\">\n",
       "      <th></th>\n",
       "      <th>item_id</th>\n",
       "      <th>category_l1_name</th>\n",
       "      <th>category_l2_name</th>\n",
       "      <th>category_l3_name</th>\n",
       "      <th>voucher_benefit_floor_amount</th>\n",
       "      <th>voucher_benefit_amount</th>\n",
       "    </tr>\n",
       "  </thead>\n",
       "  <tbody>\n",
       "    <tr>\n",
       "      <th>0</th>\n",
       "      <td>385</td>\n",
       "      <td>5.0</td>\n",
       "      <td>38.0</td>\n",
       "      <td>128.0</td>\n",
       "      <td>19000.0</td>\n",
       "      <td>500.0</td>\n",
       "    </tr>\n",
       "  </tbody>\n",
       "</table>\n",
       "</div>"
      ],
      "text/plain": [
       "   item_id  category_l1_name  category_l2_name  category_l3_name  \\\n",
       "0      385               5.0              38.0             128.0   \n",
       "\n",
       "   voucher_benefit_floor_amount  voucher_benefit_amount  \n",
       "0                       19000.0                   500.0  "
      ]
     },
     "execution_count": 16,
     "metadata": {},
     "output_type": "execute_result"
    }
   ],
   "source": [
    "item_feat.head(1)"
   ]
  },
  {
   "cell_type": "code",
   "execution_count": 20,
   "id": "65c1336f",
   "metadata": {},
   "outputs": [
    {
     "data": {
      "text/html": [
       "<div>\n",
       "<style scoped>\n",
       "    .dataframe tbody tr th:only-of-type {\n",
       "        vertical-align: middle;\n",
       "    }\n",
       "\n",
       "    .dataframe tbody tr th {\n",
       "        vertical-align: top;\n",
       "    }\n",
       "\n",
       "    .dataframe thead th {\n",
       "        text-align: right;\n",
       "    }\n",
       "</style>\n",
       "<table border=\"1\" class=\"dataframe\">\n",
       "  <thead>\n",
       "    <tr style=\"text-align: right;\">\n",
       "      <th></th>\n",
       "      <th>item_id</th>\n",
       "      <th>category_l1_name</th>\n",
       "      <th>category_l2_name</th>\n",
       "      <th>category_l3_name</th>\n",
       "      <th>voucher_benefit_floor_amount</th>\n",
       "      <th>voucher_benefit_amount</th>\n",
       "    </tr>\n",
       "  </thead>\n",
       "  <tbody>\n",
       "    <tr>\n",
       "      <th>count</th>\n",
       "      <td>1716.000000</td>\n",
       "      <td>1613.000000</td>\n",
       "      <td>1613.000000</td>\n",
       "      <td>1613.000000</td>\n",
       "      <td>1693.000000</td>\n",
       "      <td>1712.000000</td>\n",
       "    </tr>\n",
       "    <tr>\n",
       "      <th>mean</th>\n",
       "      <td>857.500000</td>\n",
       "      <td>7.137632</td>\n",
       "      <td>24.436454</td>\n",
       "      <td>87.818971</td>\n",
       "      <td>4748.106320</td>\n",
       "      <td>6777.648949</td>\n",
       "    </tr>\n",
       "    <tr>\n",
       "      <th>std</th>\n",
       "      <td>495.510848</td>\n",
       "      <td>2.471355</td>\n",
       "      <td>13.556900</td>\n",
       "      <td>41.487174</td>\n",
       "      <td>37284.411981</td>\n",
       "      <td>20789.136088</td>\n",
       "    </tr>\n",
       "    <tr>\n",
       "      <th>min</th>\n",
       "      <td>0.000000</td>\n",
       "      <td>0.000000</td>\n",
       "      <td>0.000000</td>\n",
       "      <td>0.000000</td>\n",
       "      <td>0.000000</td>\n",
       "      <td>0.000000</td>\n",
       "    </tr>\n",
       "    <tr>\n",
       "      <th>25%</th>\n",
       "      <td>428.750000</td>\n",
       "      <td>8.000000</td>\n",
       "      <td>14.000000</td>\n",
       "      <td>50.000000</td>\n",
       "      <td>10.000000</td>\n",
       "      <td>50.000000</td>\n",
       "    </tr>\n",
       "    <tr>\n",
       "      <th>50%</th>\n",
       "      <td>857.500000</td>\n",
       "      <td>8.000000</td>\n",
       "      <td>25.000000</td>\n",
       "      <td>103.000000</td>\n",
       "      <td>10.000000</td>\n",
       "      <td>990.000000</td>\n",
       "    </tr>\n",
       "    <tr>\n",
       "      <th>75%</th>\n",
       "      <td>1286.250000</td>\n",
       "      <td>8.000000</td>\n",
       "      <td>31.000000</td>\n",
       "      <td>125.000000</td>\n",
       "      <td>2500.000000</td>\n",
       "      <td>3000.000000</td>\n",
       "    </tr>\n",
       "    <tr>\n",
       "      <th>max</th>\n",
       "      <td>1715.000000</td>\n",
       "      <td>9.000000</td>\n",
       "      <td>51.000000</td>\n",
       "      <td>156.000000</td>\n",
       "      <td>1000000.000000</td>\n",
       "      <td>306058.000000</td>\n",
       "    </tr>\n",
       "  </tbody>\n",
       "</table>\n",
       "</div>"
      ],
      "text/plain": [
       "           item_id  category_l1_name  category_l2_name  category_l3_name  \\\n",
       "count  1716.000000       1613.000000       1613.000000       1613.000000   \n",
       "mean    857.500000          7.137632         24.436454         87.818971   \n",
       "std     495.510848          2.471355         13.556900         41.487174   \n",
       "min       0.000000          0.000000          0.000000          0.000000   \n",
       "25%     428.750000          8.000000         14.000000         50.000000   \n",
       "50%     857.500000          8.000000         25.000000        103.000000   \n",
       "75%    1286.250000          8.000000         31.000000        125.000000   \n",
       "max    1715.000000          9.000000         51.000000        156.000000   \n",
       "\n",
       "       voucher_benefit_floor_amount  voucher_benefit_amount  \n",
       "count                   1693.000000             1712.000000  \n",
       "mean                    4748.106320             6777.648949  \n",
       "std                    37284.411981            20789.136088  \n",
       "min                        0.000000                0.000000  \n",
       "25%                       10.000000               50.000000  \n",
       "50%                       10.000000              990.000000  \n",
       "75%                     2500.000000             3000.000000  \n",
       "max                  1000000.000000           306058.000000  "
      ]
     },
     "execution_count": 20,
     "metadata": {},
     "output_type": "execute_result"
    }
   ],
   "source": [
    "item_feat.describe(include='all')"
   ]
  },
  {
   "cell_type": "code",
   "execution_count": 24,
   "id": "ef439f9f",
   "metadata": {},
   "outputs": [
    {
     "data": {
      "text/html": [
       "<div>\n",
       "<style scoped>\n",
       "    .dataframe tbody tr th:only-of-type {\n",
       "        vertical-align: middle;\n",
       "    }\n",
       "\n",
       "    .dataframe tbody tr th {\n",
       "        vertical-align: top;\n",
       "    }\n",
       "\n",
       "    .dataframe thead th {\n",
       "        text-align: right;\n",
       "    }\n",
       "</style>\n",
       "<table border=\"1\" class=\"dataframe\">\n",
       "  <thead>\n",
       "    <tr style=\"text-align: right;\">\n",
       "      <th></th>\n",
       "      <th>left_user_id</th>\n",
       "      <th>right_user_id</th>\n",
       "    </tr>\n",
       "  </thead>\n",
       "  <tbody>\n",
       "    <tr>\n",
       "      <th>0</th>\n",
       "      <td>86219</td>\n",
       "      <td>172571</td>\n",
       "    </tr>\n",
       "  </tbody>\n",
       "</table>\n",
       "</div>"
      ],
      "text/plain": [
       "   left_user_id  right_user_id\n",
       "0         86219         172571"
      ]
     },
     "execution_count": 24,
     "metadata": {},
     "output_type": "execute_result"
    }
   ],
   "source": [
    "uu_graph.head(1)"
   ]
  },
  {
   "cell_type": "code",
   "execution_count": 25,
   "id": "880c6524",
   "metadata": {},
   "outputs": [
    {
     "data": {
      "text/html": [
       "<div>\n",
       "<style scoped>\n",
       "    .dataframe tbody tr th:only-of-type {\n",
       "        vertical-align: middle;\n",
       "    }\n",
       "\n",
       "    .dataframe tbody tr th {\n",
       "        vertical-align: top;\n",
       "    }\n",
       "\n",
       "    .dataframe thead th {\n",
       "        text-align: right;\n",
       "    }\n",
       "</style>\n",
       "<table border=\"1\" class=\"dataframe\">\n",
       "  <thead>\n",
       "    <tr style=\"text-align: right;\">\n",
       "      <th></th>\n",
       "      <th>source_entity_id</th>\n",
       "      <th>target_entity_id</th>\n",
       "      <th>source_entity_type</th>\n",
       "      <th>target_entity_type</th>\n",
       "    </tr>\n",
       "  </thead>\n",
       "  <tbody>\n",
       "    <tr>\n",
       "      <th>0</th>\n",
       "      <td>141</td>\n",
       "      <td>8579</td>\n",
       "      <td>app</td>\n",
       "      <td>shop</td>\n",
       "    </tr>\n",
       "  </tbody>\n",
       "</table>\n",
       "</div>"
      ],
      "text/plain": [
       "   source_entity_id  target_entity_id source_entity_type target_entity_type\n",
       "0               141              8579                app               shop"
      ]
     },
     "execution_count": 25,
     "metadata": {},
     "output_type": "execute_result"
    }
   ],
   "source": [
    "mkt_kg_graph.head(1)"
   ]
  },
  {
   "cell_type": "code",
   "execution_count": 26,
   "id": "9d0e8f81",
   "metadata": {},
   "outputs": [
    {
     "data": {
      "text/html": [
       "<div>\n",
       "<style scoped>\n",
       "    .dataframe tbody tr th:only-of-type {\n",
       "        vertical-align: middle;\n",
       "    }\n",
       "\n",
       "    .dataframe tbody tr th {\n",
       "        vertical-align: top;\n",
       "    }\n",
       "\n",
       "    .dataframe thead th {\n",
       "        text-align: right;\n",
       "    }\n",
       "</style>\n",
       "<table border=\"1\" class=\"dataframe\">\n",
       "  <thead>\n",
       "    <tr style=\"text-align: right;\">\n",
       "      <th></th>\n",
       "      <th>id</th>\n",
       "      <th>user_id</th>\n",
       "      <th>item_id</th>\n",
       "    </tr>\n",
       "  </thead>\n",
       "  <tbody>\n",
       "    <tr>\n",
       "      <th>0</th>\n",
       "      <td>0</td>\n",
       "      <td>24731</td>\n",
       "      <td>1099</td>\n",
       "    </tr>\n",
       "  </tbody>\n",
       "</table>\n",
       "</div>"
      ],
      "text/plain": [
       "   id  user_id  item_id\n",
       "0   0    24731     1099"
      ]
     },
     "execution_count": 26,
     "metadata": {},
     "output_type": "execute_result"
    }
   ],
   "source": [
    "test.head(1)"
   ]
  },
  {
   "cell_type": "markdown",
   "id": "8baad73d",
   "metadata": {},
   "source": [
    "## Part3 数据分析"
   ]
  },
  {
   "cell_type": "code",
   "execution_count": 32,
   "id": "1d1c5e37",
   "metadata": {},
   "outputs": [
    {
     "data": {
      "text/html": [
       "<div>\n",
       "<style scoped>\n",
       "    .dataframe tbody tr th:only-of-type {\n",
       "        vertical-align: middle;\n",
       "    }\n",
       "\n",
       "    .dataframe tbody tr th {\n",
       "        vertical-align: top;\n",
       "    }\n",
       "\n",
       "    .dataframe thead th {\n",
       "        text-align: right;\n",
       "    }\n",
       "</style>\n",
       "<table border=\"1\" class=\"dataframe\">\n",
       "  <thead>\n",
       "    <tr style=\"text-align: right;\">\n",
       "      <th></th>\n",
       "      <th>user_id</th>\n",
       "      <th>gender</th>\n",
       "      <th>age</th>\n",
       "      <th>occupation</th>\n",
       "      <th>entity_cnt</th>\n",
       "    </tr>\n",
       "  </thead>\n",
       "  <tbody>\n",
       "    <tr>\n",
       "      <th>0</th>\n",
       "      <td>27948</td>\n",
       "      <td>1.0</td>\n",
       "      <td>2.0</td>\n",
       "      <td>19.0</td>\n",
       "      <td>228:0.0,1230:0.6931471805599453,2369:0.0,282:4...</td>\n",
       "    </tr>\n",
       "    <tr>\n",
       "      <th>1</th>\n",
       "      <td>36424</td>\n",
       "      <td>1.0</td>\n",
       "      <td>1.0</td>\n",
       "      <td>19.0</td>\n",
       "      <td>231:1.0986122886681098,1075:1.6094379124341003...</td>\n",
       "    </tr>\n",
       "  </tbody>\n",
       "</table>\n",
       "</div>"
      ],
      "text/plain": [
       "   user_id  gender  age  occupation  \\\n",
       "0    27948     1.0  2.0        19.0   \n",
       "1    36424     1.0  1.0        19.0   \n",
       "\n",
       "                                          entity_cnt  \n",
       "0  228:0.0,1230:0.6931471805599453,2369:0.0,282:4...  \n",
       "1  231:1.0986122886681098,1075:1.6094379124341003...  "
      ]
     },
     "execution_count": 32,
     "metadata": {},
     "output_type": "execute_result"
    }
   ],
   "source": [
    "user_feat.head(2)"
   ]
  },
  {
   "cell_type": "code",
   "execution_count": 31,
   "id": "1bca025b",
   "metadata": {},
   "outputs": [
    {
     "data": {
      "text/plain": [
       "2.0    114339\n",
       "1.0     65968\n",
       "0.0        28\n",
       "Name: gender, dtype: int64"
      ]
     },
     "execution_count": 31,
     "metadata": {},
     "output_type": "execute_result"
    }
   ],
   "source": [
    "user_feat['gender'].value_counts()"
   ]
  },
  {
   "cell_type": "code",
   "execution_count": 33,
   "id": "a90b14fd",
   "metadata": {},
   "outputs": [
    {
     "data": {
      "text/plain": [
       "2.0    72510\n",
       "1.0    57180\n",
       "3.0    32578\n",
       "4.0    16266\n",
       "0.0     1667\n",
       "Name: age, dtype: int64"
      ]
     },
     "execution_count": 33,
     "metadata": {},
     "output_type": "execute_result"
    }
   ],
   "source": [
    "user_feat['age'].value_counts()"
   ]
  },
  {
   "cell_type": "code",
   "execution_count": 54,
   "id": "67de0301",
   "metadata": {},
   "outputs": [
    {
     "data": {
      "text/plain": [
       "gender  age\n",
       "1.0     0.0    0.011637\n",
       "        1.0    0.299656\n",
       "        2.0    0.403238\n",
       "        3.0    0.179095\n",
       "        4.0    0.106374\n",
       "2.0     0.0    0.007875\n",
       "        1.0    0.327494\n",
       "        2.0    0.401892\n",
       "        3.0    0.181763\n",
       "        4.0    0.080977\n",
       "Name: age, dtype: float64"
      ]
     },
     "execution_count": 54,
     "metadata": {},
     "output_type": "execute_result"
    }
   ],
   "source": [
    "user_feat.groupby('gender')['age'].value_counts(normalize=True).sort_index()"
   ]
  },
  {
   "cell_type": "code",
   "execution_count": 53,
   "id": "62846941",
   "metadata": {},
   "outputs": [
    {
     "data": {
      "text/plain": [
       "gender  occupation\n",
       "0.0     11.0          0.750000\n",
       "        19.0          0.250000\n",
       "1.0     0.0           0.003548\n",
       "        1.0           0.003775\n",
       "        2.0           0.004286\n",
       "        3.0           0.059777\n",
       "        4.0           0.008827\n",
       "        5.0           0.012574\n",
       "        6.0           0.002413\n",
       "        7.0           0.002299\n",
       "        8.0           0.007891\n",
       "        9.0           0.002640\n",
       "        10.0          0.003832\n",
       "        11.0          0.136414\n",
       "        12.0          0.000681\n",
       "        13.0          0.000823\n",
       "        14.0          0.001987\n",
       "        15.0          0.001930\n",
       "        16.0          0.002782\n",
       "        17.0          0.035452\n",
       "        18.0          0.015782\n",
       "        19.0          0.381567\n",
       "        20.0          0.005648\n",
       "        21.0          0.191053\n",
       "        22.0          0.098635\n",
       "        23.0          0.001221\n",
       "        24.0          0.000341\n",
       "        25.0          0.013823\n",
       "2.0     0.0           0.002480\n",
       "        1.0           0.002052\n",
       "        2.0           0.015749\n",
       "        3.0           0.032866\n",
       "        4.0           0.051831\n",
       "        5.0           0.003232\n",
       "        6.0           0.001761\n",
       "        7.0           0.000222\n",
       "        8.0           0.017425\n",
       "        9.0           0.001471\n",
       "        10.0          0.000547\n",
       "        11.0          0.159904\n",
       "        12.0          0.000171\n",
       "        13.0          0.000479\n",
       "        14.0          0.000205\n",
       "        15.0          0.000137\n",
       "        16.0          0.000154\n",
       "        17.0          0.070538\n",
       "        18.0          0.014997\n",
       "        19.0          0.429402\n",
       "        20.0          0.000359\n",
       "        21.0          0.038715\n",
       "        22.0          0.143009\n",
       "        23.0          0.002651\n",
       "        24.0          0.000547\n",
       "        25.0          0.009097\n",
       "Name: occupation, dtype: float64"
      ]
     },
     "execution_count": 53,
     "metadata": {},
     "output_type": "execute_result"
    }
   ],
   "source": [
    "user_feat.groupby('gender')['occupation'].value_counts(normalize=True).sort_index()"
   ]
  },
  {
   "cell_type": "code",
   "execution_count": 75,
   "id": "b2861258",
   "metadata": {},
   "outputs": [],
   "source": [
    "def user_feat_entity_cnt2json(x):\n",
    "    try:\n",
    "        x = x.split(',')\n",
    "        return {int(xx.split(':')[0]):float(xx.split(':')[1]) for xx in x}\n",
    "    except:\n",
    "        return {}"
   ]
  },
  {
   "cell_type": "code",
   "execution_count": 77,
   "id": "73224585",
   "metadata": {},
   "outputs": [],
   "source": [
    "user_feat['entity_cnt'] = user_feat['entity_cnt'].apply(user_feat_entity_cnt2json)"
   ]
  },
  {
   "cell_type": "code",
   "execution_count": 78,
   "id": "176d7666",
   "metadata": {},
   "outputs": [
    {
     "data": {
      "text/plain": [
       "0         {228: 0.0, 1230: 0.6931471805599453, 2369: 0.0...\n",
       "1         {231: 1.0986122886681098, 1075: 1.609437912434...\n",
       "2         {47: 0.6931471805599453, 63: 0.0, 134: 0.0, 57...\n",
       "3         {63: 0.0, 165: 0.0, 228: 0.6931471805599453, 6...\n",
       "4         {113: 0.0, 191: 0.6931471805599453, 245: 0.0, ...\n",
       "                                ...                        \n",
       "180606    {768: 0.0, 1230: 0.0, 1567: 0.6931471805599453...\n",
       "180607    {194: 1.3862943611198906, 1899: 0.0, 2259: 0.0...\n",
       "180608    {10: 0.0, 388: 1.6094379124341003, 907: 1.3862...\n",
       "180609    {2172: 0.0, 968: 0.0, 2124: 1.3862943611198906...\n",
       "180610    {228: 0.6931471805599453, 2369: 0.0, 2298: 3.1...\n",
       "Name: entity_cnt, Length: 180611, dtype: object"
      ]
     },
     "execution_count": 78,
     "metadata": {},
     "output_type": "execute_result"
    }
   ],
   "source": [
    "user_feat['entity_cnt']"
   ]
  },
  {
   "cell_type": "code",
   "execution_count": 85,
   "id": "9c8db19e",
   "metadata": {},
   "outputs": [
    {
     "data": {
      "text/plain": [
       "0    942230\n",
       "1    100985\n",
       "Name: label, dtype: int64"
      ]
     },
     "execution_count": 85,
     "metadata": {},
     "output_type": "execute_result"
    }
   ],
   "source": [
    "train['label'].value_counts()"
   ]
  },
  {
   "cell_type": "code",
   "execution_count": 88,
   "id": "05afd506",
   "metadata": {},
   "outputs": [],
   "source": [
    "train = train.sort_values(by=['user_id', 'log_time'])"
   ]
  },
  {
   "cell_type": "code",
   "execution_count": 101,
   "id": "05e689f1",
   "metadata": {},
   "outputs": [
    {
     "data": {
      "text/plain": [
       "(180611, 162706, 47911)"
      ]
     },
     "execution_count": 101,
     "metadata": {},
     "output_type": "execute_result"
    }
   ],
   "source": [
    "user_feat['user_id'].nunique(), train['user_id'].nunique(), test['user_id'].nunique()"
   ]
  },
  {
   "cell_type": "code",
   "execution_count": 95,
   "id": "7320490e",
   "metadata": {},
   "outputs": [
    {
     "data": {
      "text/plain": [
       "47911"
      ]
     },
     "execution_count": 95,
     "metadata": {},
     "output_type": "execute_result"
    }
   ],
   "source": [
    "test['user_id'].nunique()"
   ]
  },
  {
   "cell_type": "code",
   "execution_count": 104,
   "id": "81b518fe",
   "metadata": {},
   "outputs": [
    {
     "data": {
      "text/plain": [
       "1933"
      ]
     },
     "execution_count": 104,
     "metadata": {},
     "output_type": "execute_result"
    }
   ],
   "source": [
    "# 不在训练集出现的，测试集用户\n",
    "len(set(test['user_id'].unique()) - set(train['user_id'].unique()))"
   ]
  },
  {
   "cell_type": "code",
   "execution_count": 105,
   "id": "abd1e831",
   "metadata": {},
   "outputs": [
    {
     "data": {
      "text/plain": [
       "45978"
      ]
     },
     "execution_count": 105,
     "metadata": {},
     "output_type": "execute_result"
    }
   ],
   "source": [
    "# 在训练集出现的，测试集用户\n",
    "len(set(test['user_id'].unique()) & set(train['user_id'].unique()))"
   ]
  },
  {
   "cell_type": "code",
   "execution_count": 208,
   "id": "e763b78c",
   "metadata": {},
   "outputs": [
    {
     "data": {
      "text/plain": [
       "(3.438166600571894, 1)"
      ]
     },
     "execution_count": 208,
     "metadata": {},
     "output_type": "execute_result"
    }
   ],
   "source": [
    "# 测试集平均每个用户拥有item_id\n",
    "test.groupby('user_id')['item_id'].nunique().mean(), test.groupby('user_id')['item_id'].nunique().min()"
   ]
  },
  {
   "cell_type": "code",
   "execution_count": 233,
   "id": "d7b1fb8c",
   "metadata": {},
   "outputs": [
    {
     "data": {
      "text/plain": [
       "21950"
      ]
     },
     "execution_count": 233,
     "metadata": {},
     "output_type": "execute_result"
    }
   ],
   "source": [
    "sum(test.groupby('user_id')['item_id'].nunique() == 1)"
   ]
  },
  {
   "cell_type": "code",
   "execution_count": 154,
   "id": "ad80d18a",
   "metadata": {},
   "outputs": [
    {
     "data": {
      "text/plain": [
       "5.538738583703121"
      ]
     },
     "execution_count": 154,
     "metadata": {},
     "output_type": "execute_result"
    }
   ],
   "source": [
    "# 训练集平均每个用户拥有item_id\n",
    "train.groupby('user_id')['item_id'].nunique().mean()"
   ]
  },
  {
   "cell_type": "code",
   "execution_count": 165,
   "id": "cea1989c",
   "metadata": {},
   "outputs": [
    {
     "data": {
      "text/plain": [
       "58"
      ]
     },
     "execution_count": 165,
     "metadata": {},
     "output_type": "execute_result"
    }
   ],
   "source": [
    "len(set(test['item_id'].unique()) - set(train['item_id'].unique()))"
   ]
  },
  {
   "cell_type": "code",
   "execution_count": 108,
   "id": "894ed7e8",
   "metadata": {},
   "outputs": [],
   "source": [
    "train = pd.merge(train, user_feat, how='left')\n",
    "train = pd.merge(train, item_feat, how='left')"
   ]
  },
  {
   "cell_type": "code",
   "execution_count": 110,
   "id": "c4bfb19b",
   "metadata": {},
   "outputs": [],
   "source": [
    "test = pd.merge(test, user_feat, how='left')\n",
    "test = pd.merge(test, item_feat, how='left')"
   ]
  },
  {
   "cell_type": "code",
   "execution_count": 112,
   "id": "47a0ea24",
   "metadata": {},
   "outputs": [
    {
     "data": {
      "text/html": [
       "<div>\n",
       "<style scoped>\n",
       "    .dataframe tbody tr th:only-of-type {\n",
       "        vertical-align: middle;\n",
       "    }\n",
       "\n",
       "    .dataframe tbody tr th {\n",
       "        vertical-align: top;\n",
       "    }\n",
       "\n",
       "    .dataframe thead th {\n",
       "        text-align: right;\n",
       "    }\n",
       "</style>\n",
       "<table border=\"1\" class=\"dataframe\">\n",
       "  <thead>\n",
       "    <tr style=\"text-align: right;\">\n",
       "      <th></th>\n",
       "      <th>id</th>\n",
       "      <th>user_id</th>\n",
       "      <th>item_id</th>\n",
       "      <th>log_time</th>\n",
       "      <th>label</th>\n",
       "      <th>dt</th>\n",
       "      <th>gender</th>\n",
       "      <th>age</th>\n",
       "      <th>occupation</th>\n",
       "      <th>entity_cnt</th>\n",
       "      <th>category_l1_name</th>\n",
       "      <th>category_l2_name</th>\n",
       "      <th>category_l3_name</th>\n",
       "      <th>voucher_benefit_floor_amount</th>\n",
       "      <th>voucher_benefit_amount</th>\n",
       "    </tr>\n",
       "  </thead>\n",
       "  <tbody>\n",
       "    <tr>\n",
       "      <th>0</th>\n",
       "      <td>173397</td>\n",
       "      <td>0</td>\n",
       "      <td>543</td>\n",
       "      <td>173025</td>\n",
       "      <td>0</td>\n",
       "      <td>1</td>\n",
       "      <td>1.0</td>\n",
       "      <td>4.0</td>\n",
       "      <td>22.0</td>\n",
       "      <td>{165: 0.6931471805599453, 170: 3.4965075614664...</td>\n",
       "      <td>8.0</td>\n",
       "      <td>29.0</td>\n",
       "      <td>45.0</td>\n",
       "      <td>10.0</td>\n",
       "      <td>2000.0</td>\n",
       "    </tr>\n",
       "    <tr>\n",
       "      <th>1</th>\n",
       "      <td>429729</td>\n",
       "      <td>0</td>\n",
       "      <td>385</td>\n",
       "      <td>428164</td>\n",
       "      <td>0</td>\n",
       "      <td>2</td>\n",
       "      <td>1.0</td>\n",
       "      <td>4.0</td>\n",
       "      <td>22.0</td>\n",
       "      <td>{165: 0.6931471805599453, 170: 3.4965075614664...</td>\n",
       "      <td>5.0</td>\n",
       "      <td>38.0</td>\n",
       "      <td>128.0</td>\n",
       "      <td>19000.0</td>\n",
       "      <td>500.0</td>\n",
       "    </tr>\n",
       "  </tbody>\n",
       "</table>\n",
       "</div>"
      ],
      "text/plain": [
       "       id  user_id  item_id  log_time  label  dt  gender  age  occupation  \\\n",
       "0  173397        0      543    173025      0   1     1.0  4.0        22.0   \n",
       "1  429729        0      385    428164      0   2     1.0  4.0        22.0   \n",
       "\n",
       "                                          entity_cnt  category_l1_name  \\\n",
       "0  {165: 0.6931471805599453, 170: 3.4965075614664...               8.0   \n",
       "1  {165: 0.6931471805599453, 170: 3.4965075614664...               5.0   \n",
       "\n",
       "   category_l2_name  category_l3_name  voucher_benefit_floor_amount  \\\n",
       "0              29.0              45.0                          10.0   \n",
       "1              38.0             128.0                       19000.0   \n",
       "\n",
       "   voucher_benefit_amount  \n",
       "0                  2000.0  \n",
       "1                   500.0  "
      ]
     },
     "execution_count": 112,
     "metadata": {},
     "output_type": "execute_result"
    }
   ],
   "source": [
    "train.head(2)"
   ]
  },
  {
   "cell_type": "code",
   "execution_count": 113,
   "id": "9f29943a",
   "metadata": {},
   "outputs": [
    {
     "data": {
      "text/html": [
       "<div>\n",
       "<style scoped>\n",
       "    .dataframe tbody tr th:only-of-type {\n",
       "        vertical-align: middle;\n",
       "    }\n",
       "\n",
       "    .dataframe tbody tr th {\n",
       "        vertical-align: top;\n",
       "    }\n",
       "\n",
       "    .dataframe thead th {\n",
       "        text-align: right;\n",
       "    }\n",
       "</style>\n",
       "<table border=\"1\" class=\"dataframe\">\n",
       "  <thead>\n",
       "    <tr style=\"text-align: right;\">\n",
       "      <th></th>\n",
       "      <th>id</th>\n",
       "      <th>user_id</th>\n",
       "      <th>item_id</th>\n",
       "      <th>gender</th>\n",
       "      <th>age</th>\n",
       "      <th>occupation</th>\n",
       "      <th>entity_cnt</th>\n",
       "      <th>category_l1_name</th>\n",
       "      <th>category_l2_name</th>\n",
       "      <th>category_l3_name</th>\n",
       "      <th>voucher_benefit_floor_amount</th>\n",
       "      <th>voucher_benefit_amount</th>\n",
       "    </tr>\n",
       "  </thead>\n",
       "  <tbody>\n",
       "    <tr>\n",
       "      <th>0</th>\n",
       "      <td>0</td>\n",
       "      <td>24731</td>\n",
       "      <td>1099</td>\n",
       "      <td>2.0</td>\n",
       "      <td>2.0</td>\n",
       "      <td>NaN</td>\n",
       "      <td>{81: 0.0, 282: 1.3862943611198906, 287: 1.3862...</td>\n",
       "      <td>0.0</td>\n",
       "      <td>16.0</td>\n",
       "      <td>53.0</td>\n",
       "      <td>10.0</td>\n",
       "      <td>0.0</td>\n",
       "    </tr>\n",
       "    <tr>\n",
       "      <th>1</th>\n",
       "      <td>1</td>\n",
       "      <td>160029</td>\n",
       "      <td>1443</td>\n",
       "      <td>2.0</td>\n",
       "      <td>2.0</td>\n",
       "      <td>17.0</td>\n",
       "      <td>{131: 0.6931471805599453, 300: 0.0, 674: 0.0, ...</td>\n",
       "      <td>8.0</td>\n",
       "      <td>50.0</td>\n",
       "      <td>6.0</td>\n",
       "      <td>500.0</td>\n",
       "      <td>380.0</td>\n",
       "    </tr>\n",
       "  </tbody>\n",
       "</table>\n",
       "</div>"
      ],
      "text/plain": [
       "   id  user_id  item_id  gender  age  occupation  \\\n",
       "0   0    24731     1099     2.0  2.0         NaN   \n",
       "1   1   160029     1443     2.0  2.0        17.0   \n",
       "\n",
       "                                          entity_cnt  category_l1_name  \\\n",
       "0  {81: 0.0, 282: 1.3862943611198906, 287: 1.3862...               0.0   \n",
       "1  {131: 0.6931471805599453, 300: 0.0, 674: 0.0, ...               8.0   \n",
       "\n",
       "   category_l2_name  category_l3_name  voucher_benefit_floor_amount  \\\n",
       "0              16.0              53.0                          10.0   \n",
       "1              50.0               6.0                         500.0   \n",
       "\n",
       "   voucher_benefit_amount  \n",
       "0                     0.0  \n",
       "1                   380.0  "
      ]
     },
     "execution_count": 113,
     "metadata": {},
     "output_type": "execute_result"
    }
   ],
   "source": [
    "test.head(2)"
   ]
  },
  {
   "cell_type": "code",
   "execution_count": 114,
   "id": "7cfc0e29",
   "metadata": {},
   "outputs": [
    {
     "data": {
      "text/html": [
       "<div>\n",
       "<style scoped>\n",
       "    .dataframe tbody tr th:only-of-type {\n",
       "        vertical-align: middle;\n",
       "    }\n",
       "\n",
       "    .dataframe tbody tr th {\n",
       "        vertical-align: top;\n",
       "    }\n",
       "\n",
       "    .dataframe thead th {\n",
       "        text-align: right;\n",
       "    }\n",
       "</style>\n",
       "<table border=\"1\" class=\"dataframe\">\n",
       "  <thead>\n",
       "    <tr style=\"text-align: right;\">\n",
       "      <th></th>\n",
       "      <th>id</th>\n",
       "      <th>user_id</th>\n",
       "      <th>item_id</th>\n",
       "      <th>log_time</th>\n",
       "      <th>label</th>\n",
       "      <th>dt</th>\n",
       "      <th>gender</th>\n",
       "      <th>age</th>\n",
       "      <th>occupation</th>\n",
       "      <th>category_l1_name</th>\n",
       "      <th>category_l2_name</th>\n",
       "      <th>category_l3_name</th>\n",
       "      <th>voucher_benefit_floor_amount</th>\n",
       "      <th>voucher_benefit_amount</th>\n",
       "    </tr>\n",
       "  </thead>\n",
       "  <tbody>\n",
       "    <tr>\n",
       "      <th>id</th>\n",
       "      <td>1.000000</td>\n",
       "      <td>-0.005055</td>\n",
       "      <td>0.048528</td>\n",
       "      <td>1.000000</td>\n",
       "      <td>0.002724</td>\n",
       "      <td>0.979626</td>\n",
       "      <td>-0.009439</td>\n",
       "      <td>-0.004917</td>\n",
       "      <td>-0.009023</td>\n",
       "      <td>-0.006095</td>\n",
       "      <td>-0.009209</td>\n",
       "      <td>-0.007666</td>\n",
       "      <td>-0.013394</td>\n",
       "      <td>0.013376</td>\n",
       "    </tr>\n",
       "    <tr>\n",
       "      <th>user_id</th>\n",
       "      <td>-0.005055</td>\n",
       "      <td>1.000000</td>\n",
       "      <td>-0.001529</td>\n",
       "      <td>-0.005057</td>\n",
       "      <td>-0.004463</td>\n",
       "      <td>-0.005734</td>\n",
       "      <td>0.023430</td>\n",
       "      <td>-0.000029</td>\n",
       "      <td>0.012495</td>\n",
       "      <td>0.001272</td>\n",
       "      <td>0.002149</td>\n",
       "      <td>-0.002462</td>\n",
       "      <td>0.000594</td>\n",
       "      <td>-0.005593</td>\n",
       "    </tr>\n",
       "    <tr>\n",
       "      <th>item_id</th>\n",
       "      <td>0.048528</td>\n",
       "      <td>-0.001529</td>\n",
       "      <td>1.000000</td>\n",
       "      <td>0.048525</td>\n",
       "      <td>-0.038559</td>\n",
       "      <td>0.044557</td>\n",
       "      <td>0.047024</td>\n",
       "      <td>-0.017821</td>\n",
       "      <td>-0.005821</td>\n",
       "      <td>0.150367</td>\n",
       "      <td>-0.020196</td>\n",
       "      <td>0.061440</td>\n",
       "      <td>-0.072113</td>\n",
       "      <td>0.117924</td>\n",
       "    </tr>\n",
       "    <tr>\n",
       "      <th>log_time</th>\n",
       "      <td>1.000000</td>\n",
       "      <td>-0.005057</td>\n",
       "      <td>0.048525</td>\n",
       "      <td>1.000000</td>\n",
       "      <td>0.002722</td>\n",
       "      <td>0.979686</td>\n",
       "      <td>-0.009444</td>\n",
       "      <td>-0.004906</td>\n",
       "      <td>-0.009021</td>\n",
       "      <td>-0.006110</td>\n",
       "      <td>-0.009219</td>\n",
       "      <td>-0.007664</td>\n",
       "      <td>-0.013393</td>\n",
       "      <td>0.013380</td>\n",
       "    </tr>\n",
       "    <tr>\n",
       "      <th>label</th>\n",
       "      <td>0.002724</td>\n",
       "      <td>-0.004463</td>\n",
       "      <td>-0.038559</td>\n",
       "      <td>0.002722</td>\n",
       "      <td>1.000000</td>\n",
       "      <td>0.000533</td>\n",
       "      <td>0.015357</td>\n",
       "      <td>-0.005680</td>\n",
       "      <td>-0.009069</td>\n",
       "      <td>-0.022109</td>\n",
       "      <td>-0.002377</td>\n",
       "      <td>0.000380</td>\n",
       "      <td>0.004613</td>\n",
       "      <td>-0.037776</td>\n",
       "    </tr>\n",
       "    <tr>\n",
       "      <th>dt</th>\n",
       "      <td>0.979626</td>\n",
       "      <td>-0.005734</td>\n",
       "      <td>0.044557</td>\n",
       "      <td>0.979686</td>\n",
       "      <td>0.000533</td>\n",
       "      <td>1.000000</td>\n",
       "      <td>-0.010862</td>\n",
       "      <td>0.005448</td>\n",
       "      <td>-0.005778</td>\n",
       "      <td>-0.013691</td>\n",
       "      <td>-0.007694</td>\n",
       "      <td>-0.010731</td>\n",
       "      <td>-0.012092</td>\n",
       "      <td>0.015757</td>\n",
       "    </tr>\n",
       "    <tr>\n",
       "      <th>gender</th>\n",
       "      <td>-0.009439</td>\n",
       "      <td>0.023430</td>\n",
       "      <td>0.047024</td>\n",
       "      <td>-0.009444</td>\n",
       "      <td>0.015357</td>\n",
       "      <td>-0.010862</td>\n",
       "      <td>1.000000</td>\n",
       "      <td>-0.064898</td>\n",
       "      <td>-0.058379</td>\n",
       "      <td>0.165949</td>\n",
       "      <td>-0.035876</td>\n",
       "      <td>-0.009753</td>\n",
       "      <td>-0.048805</td>\n",
       "      <td>0.038586</td>\n",
       "    </tr>\n",
       "    <tr>\n",
       "      <th>age</th>\n",
       "      <td>-0.004917</td>\n",
       "      <td>-0.000029</td>\n",
       "      <td>-0.017821</td>\n",
       "      <td>-0.004906</td>\n",
       "      <td>-0.005680</td>\n",
       "      <td>0.005448</td>\n",
       "      <td>-0.064898</td>\n",
       "      <td>1.000000</td>\n",
       "      <td>0.364688</td>\n",
       "      <td>-0.009778</td>\n",
       "      <td>0.036512</td>\n",
       "      <td>0.045674</td>\n",
       "      <td>0.063366</td>\n",
       "      <td>-0.052035</td>\n",
       "    </tr>\n",
       "    <tr>\n",
       "      <th>occupation</th>\n",
       "      <td>-0.009023</td>\n",
       "      <td>0.012495</td>\n",
       "      <td>-0.005821</td>\n",
       "      <td>-0.009021</td>\n",
       "      <td>-0.009069</td>\n",
       "      <td>-0.005778</td>\n",
       "      <td>-0.058379</td>\n",
       "      <td>0.364688</td>\n",
       "      <td>1.000000</td>\n",
       "      <td>-0.008612</td>\n",
       "      <td>0.010074</td>\n",
       "      <td>0.010206</td>\n",
       "      <td>0.021806</td>\n",
       "      <td>-0.022032</td>\n",
       "    </tr>\n",
       "    <tr>\n",
       "      <th>category_l1_name</th>\n",
       "      <td>-0.006095</td>\n",
       "      <td>0.001272</td>\n",
       "      <td>0.150367</td>\n",
       "      <td>-0.006110</td>\n",
       "      <td>-0.022109</td>\n",
       "      <td>-0.013691</td>\n",
       "      <td>0.165949</td>\n",
       "      <td>-0.009778</td>\n",
       "      <td>-0.008612</td>\n",
       "      <td>1.000000</td>\n",
       "      <td>0.034236</td>\n",
       "      <td>0.245016</td>\n",
       "      <td>-0.121978</td>\n",
       "      <td>0.158479</td>\n",
       "    </tr>\n",
       "    <tr>\n",
       "      <th>category_l2_name</th>\n",
       "      <td>-0.009209</td>\n",
       "      <td>0.002149</td>\n",
       "      <td>-0.020196</td>\n",
       "      <td>-0.009219</td>\n",
       "      <td>-0.002377</td>\n",
       "      <td>-0.007694</td>\n",
       "      <td>-0.035876</td>\n",
       "      <td>0.036512</td>\n",
       "      <td>0.010074</td>\n",
       "      <td>0.034236</td>\n",
       "      <td>1.000000</td>\n",
       "      <td>0.140079</td>\n",
       "      <td>0.204908</td>\n",
       "      <td>0.077896</td>\n",
       "    </tr>\n",
       "    <tr>\n",
       "      <th>category_l3_name</th>\n",
       "      <td>-0.007666</td>\n",
       "      <td>-0.002462</td>\n",
       "      <td>0.061440</td>\n",
       "      <td>-0.007664</td>\n",
       "      <td>0.000380</td>\n",
       "      <td>-0.010731</td>\n",
       "      <td>-0.009753</td>\n",
       "      <td>0.045674</td>\n",
       "      <td>0.010206</td>\n",
       "      <td>0.245016</td>\n",
       "      <td>0.140079</td>\n",
       "      <td>1.000000</td>\n",
       "      <td>0.166174</td>\n",
       "      <td>-0.073063</td>\n",
       "    </tr>\n",
       "    <tr>\n",
       "      <th>voucher_benefit_floor_amount</th>\n",
       "      <td>-0.013394</td>\n",
       "      <td>0.000594</td>\n",
       "      <td>-0.072113</td>\n",
       "      <td>-0.013393</td>\n",
       "      <td>0.004613</td>\n",
       "      <td>-0.012092</td>\n",
       "      <td>-0.048805</td>\n",
       "      <td>0.063366</td>\n",
       "      <td>0.021806</td>\n",
       "      <td>-0.121978</td>\n",
       "      <td>0.204908</td>\n",
       "      <td>0.166174</td>\n",
       "      <td>1.000000</td>\n",
       "      <td>0.022064</td>\n",
       "    </tr>\n",
       "    <tr>\n",
       "      <th>voucher_benefit_amount</th>\n",
       "      <td>0.013376</td>\n",
       "      <td>-0.005593</td>\n",
       "      <td>0.117924</td>\n",
       "      <td>0.013380</td>\n",
       "      <td>-0.037776</td>\n",
       "      <td>0.015757</td>\n",
       "      <td>0.038586</td>\n",
       "      <td>-0.052035</td>\n",
       "      <td>-0.022032</td>\n",
       "      <td>0.158479</td>\n",
       "      <td>0.077896</td>\n",
       "      <td>-0.073063</td>\n",
       "      <td>0.022064</td>\n",
       "      <td>1.000000</td>\n",
       "    </tr>\n",
       "  </tbody>\n",
       "</table>\n",
       "</div>"
      ],
      "text/plain": [
       "                                    id   user_id   item_id  log_time  \\\n",
       "id                            1.000000 -0.005055  0.048528  1.000000   \n",
       "user_id                      -0.005055  1.000000 -0.001529 -0.005057   \n",
       "item_id                       0.048528 -0.001529  1.000000  0.048525   \n",
       "log_time                      1.000000 -0.005057  0.048525  1.000000   \n",
       "label                         0.002724 -0.004463 -0.038559  0.002722   \n",
       "dt                            0.979626 -0.005734  0.044557  0.979686   \n",
       "gender                       -0.009439  0.023430  0.047024 -0.009444   \n",
       "age                          -0.004917 -0.000029 -0.017821 -0.004906   \n",
       "occupation                   -0.009023  0.012495 -0.005821 -0.009021   \n",
       "category_l1_name             -0.006095  0.001272  0.150367 -0.006110   \n",
       "category_l2_name             -0.009209  0.002149 -0.020196 -0.009219   \n",
       "category_l3_name             -0.007666 -0.002462  0.061440 -0.007664   \n",
       "voucher_benefit_floor_amount -0.013394  0.000594 -0.072113 -0.013393   \n",
       "voucher_benefit_amount        0.013376 -0.005593  0.117924  0.013380   \n",
       "\n",
       "                                 label        dt    gender       age  \\\n",
       "id                            0.002724  0.979626 -0.009439 -0.004917   \n",
       "user_id                      -0.004463 -0.005734  0.023430 -0.000029   \n",
       "item_id                      -0.038559  0.044557  0.047024 -0.017821   \n",
       "log_time                      0.002722  0.979686 -0.009444 -0.004906   \n",
       "label                         1.000000  0.000533  0.015357 -0.005680   \n",
       "dt                            0.000533  1.000000 -0.010862  0.005448   \n",
       "gender                        0.015357 -0.010862  1.000000 -0.064898   \n",
       "age                          -0.005680  0.005448 -0.064898  1.000000   \n",
       "occupation                   -0.009069 -0.005778 -0.058379  0.364688   \n",
       "category_l1_name             -0.022109 -0.013691  0.165949 -0.009778   \n",
       "category_l2_name             -0.002377 -0.007694 -0.035876  0.036512   \n",
       "category_l3_name              0.000380 -0.010731 -0.009753  0.045674   \n",
       "voucher_benefit_floor_amount  0.004613 -0.012092 -0.048805  0.063366   \n",
       "voucher_benefit_amount       -0.037776  0.015757  0.038586 -0.052035   \n",
       "\n",
       "                              occupation  category_l1_name  category_l2_name  \\\n",
       "id                             -0.009023         -0.006095         -0.009209   \n",
       "user_id                         0.012495          0.001272          0.002149   \n",
       "item_id                        -0.005821          0.150367         -0.020196   \n",
       "log_time                       -0.009021         -0.006110         -0.009219   \n",
       "label                          -0.009069         -0.022109         -0.002377   \n",
       "dt                             -0.005778         -0.013691         -0.007694   \n",
       "gender                         -0.058379          0.165949         -0.035876   \n",
       "age                             0.364688         -0.009778          0.036512   \n",
       "occupation                      1.000000         -0.008612          0.010074   \n",
       "category_l1_name               -0.008612          1.000000          0.034236   \n",
       "category_l2_name                0.010074          0.034236          1.000000   \n",
       "category_l3_name                0.010206          0.245016          0.140079   \n",
       "voucher_benefit_floor_amount    0.021806         -0.121978          0.204908   \n",
       "voucher_benefit_amount         -0.022032          0.158479          0.077896   \n",
       "\n",
       "                              category_l3_name  voucher_benefit_floor_amount  \\\n",
       "id                                   -0.007666                     -0.013394   \n",
       "user_id                              -0.002462                      0.000594   \n",
       "item_id                               0.061440                     -0.072113   \n",
       "log_time                             -0.007664                     -0.013393   \n",
       "label                                 0.000380                      0.004613   \n",
       "dt                                   -0.010731                     -0.012092   \n",
       "gender                               -0.009753                     -0.048805   \n",
       "age                                   0.045674                      0.063366   \n",
       "occupation                            0.010206                      0.021806   \n",
       "category_l1_name                      0.245016                     -0.121978   \n",
       "category_l2_name                      0.140079                      0.204908   \n",
       "category_l3_name                      1.000000                      0.166174   \n",
       "voucher_benefit_floor_amount          0.166174                      1.000000   \n",
       "voucher_benefit_amount               -0.073063                      0.022064   \n",
       "\n",
       "                              voucher_benefit_amount  \n",
       "id                                          0.013376  \n",
       "user_id                                    -0.005593  \n",
       "item_id                                     0.117924  \n",
       "log_time                                    0.013380  \n",
       "label                                      -0.037776  \n",
       "dt                                          0.015757  \n",
       "gender                                      0.038586  \n",
       "age                                        -0.052035  \n",
       "occupation                                 -0.022032  \n",
       "category_l1_name                            0.158479  \n",
       "category_l2_name                            0.077896  \n",
       "category_l3_name                           -0.073063  \n",
       "voucher_benefit_floor_amount                0.022064  \n",
       "voucher_benefit_amount                      1.000000  "
      ]
     },
     "execution_count": 114,
     "metadata": {},
     "output_type": "execute_result"
    }
   ],
   "source": [
    "train.corr()"
   ]
  },
  {
   "cell_type": "code",
   "execution_count": 149,
   "id": "e3a50e65",
   "metadata": {},
   "outputs": [
    {
     "data": {
      "text/plain": [
       "category_l3_name                0.000380\n",
       "dt                              0.000533\n",
       "category_l2_name                0.002377\n",
       "log_time                        0.002722\n",
       "id                              0.002724\n",
       "user_id                         0.004463\n",
       "voucher_benefit_floor_amount    0.004613\n",
       "age                             0.005680\n",
       "occupation                      0.009069\n",
       "gender                          0.015357\n",
       "category_l1_name                0.022109\n",
       "voucher_benefit_amount          0.037776\n",
       "item_id                         0.038559\n",
       "label                           1.000000\n",
       "Name: label, dtype: float64"
      ]
     },
     "execution_count": 149,
     "metadata": {},
     "output_type": "execute_result"
    }
   ],
   "source": [
    "train.corr().loc['label'].abs().sort_values()"
   ]
  },
  {
   "cell_type": "code",
   "execution_count": 129,
   "id": "6df7cfdc",
   "metadata": {},
   "outputs": [
    {
     "data": {
      "text/plain": [
       "<AxesSubplot:>"
      ]
     },
     "execution_count": 129,
     "metadata": {},
     "output_type": "execute_result"
    },
    {
     "data": {
      "image/png": "[encoded data removed]",
      "text/plain": [
       "<Figure size 432x288 with 1 Axes>"
      ]
     },
     "metadata": {
      "needs_background": "light"
     },
     "output_type": "display_data"
    }
   ],
   "source": [
    "most_freq = train['item_id'].value_counts()[train['item_id'].value_counts() > 10]\n",
    "label_mean = train.groupby(['item_id'])['label'].mean().loc[most_freq.index]\n",
    "\n",
    "sns.regplot(x=most_freq.values, y=label_mean.values)\n",
    "# 热门的item更加容易被下单"
   ]
  },
  {
   "cell_type": "code",
   "execution_count": 140,
   "id": "1612a5be",
   "metadata": {},
   "outputs": [
    {
     "data": {
      "image/png": "[encoded data removed]",
      "text/plain": [
       "<Figure size 720x360 with 3 Axes>"
      ]
     },
     "metadata": {
      "needs_background": "light"
     },
     "output_type": "display_data"
    }
   ],
   "source": [
    "plt.figure(figsize=(10, 5))\n",
    "most_freq = train['category_l1_name'].value_counts()[train['category_l1_name'].value_counts() > 10]\n",
    "label_mean = train.groupby(['category_l1_name'])['label'].mean().loc[most_freq.index]\n",
    "plt.subplot(131)\n",
    "sns.regplot(x=most_freq.values, y=label_mean.values)\n",
    "\n",
    "most_freq = train['category_l2_name'].value_counts()[train['category_l2_name'].value_counts() > 10]\n",
    "label_mean = train.groupby(['category_l2_name'])['label'].mean().loc[most_freq.index]\n",
    "plt.subplot(132)\n",
    "sns.regplot(x=most_freq.values, y=label_mean.values)\n",
    "\n",
    "most_freq = train['category_l3_name'].value_counts()[train['category_l3_name'].value_counts() > 10]\n",
    "label_mean = train.groupby(['category_l3_name'])['label'].mean().loc[most_freq.index]\n",
    "plt.subplot(133)\n",
    "sns.regplot(x=most_freq.values, y=label_mean.values)\n",
    "\n",
    "plt.tight_layout()\n",
    "\n",
    "# 热门的category更加容易被下单"
   ]
  },
  {
   "cell_type": "code",
   "execution_count": 141,
   "id": "71598645",
   "metadata": {},
   "outputs": [
    {
     "data": {
      "text/plain": [
       "<AxesSubplot:>"
      ]
     },
     "execution_count": 141,
     "metadata": {},
     "output_type": "execute_result"
    },
    {
     "data": {
      "image/png": "[encoded data removed]",
      "text/plain": [
       "<Figure size 432x288 with 1 Axes>"
      ]
     },
     "metadata": {
      "needs_background": "light"
     },
     "output_type": "display_data"
    }
   ],
   "source": [
    "most_freq = train['voucher_benefit_amount'].value_counts()[train['voucher_benefit_amount'].value_counts() > 10]\n",
    "label_mean = train.groupby(['voucher_benefit_amount'])['label'].mean().loc[most_freq.index]\n",
    "\n",
    "sns.regplot(x=most_freq.values, y=label_mean.values)\n",
    "# voucher_benefit_amount越大，更加容易被下单"
   ]
  },
  {
   "cell_type": "code",
   "execution_count": 147,
   "id": "cd08f152",
   "metadata": {},
   "outputs": [
    {
     "data": {
      "text/plain": [
       "<AxesSubplot:>"
      ]
     },
     "execution_count": 147,
     "metadata": {},
     "output_type": "execute_result"
    },
    {
     "data": {
      "image/png": "[encoded data removed]",
      "text/plain": [
       "<Figure size 432x288 with 1 Axes>"
      ]
     },
     "metadata": {
      "needs_background": "light"
     },
     "output_type": "display_data"
    }
   ],
   "source": [
    "most_freq = train['gender'].value_counts()[train['gender'].value_counts() > 10]\n",
    "label_mean = train.groupby(['gender'])['label'].mean().loc[most_freq.index]\n",
    "\n",
    "sns.barplot(x=most_freq.index, y=label_mean.values)\n",
    "# gender 与 下单概率存在一定关系"
   ]
  },
  {
   "cell_type": "code",
   "execution_count": 342,
   "id": "22775686",
   "metadata": {},
   "outputs": [
    {
     "data": {
      "image/png": "[encoded data removed]",
      "text/plain": [
       "<Figure size 432x288 with 1 Axes>"
      ]
     },
     "metadata": {},
     "output_type": "display_data"
    }
   ],
   "source": [
    "import networkx as nx\n",
    "G = nx.Graph()\n",
    "\n",
    "for idx in range(500):\n",
    "    G.add_edge(uu_graph['left_user_id'].iloc[idx], uu_graph['right_user_id'].iloc[idx])\n",
    "nx.draw(G, with_labels=False, font_weight='bold', node_size=20)"
   ]
  },
  {
   "cell_type": "code",
   "execution_count": 355,
   "id": "eb160f62",
   "metadata": {},
   "outputs": [
    {
     "data": {
      "image/png": "[encoded data removed]",
      "text/plain": [
       "<Figure size 432x288 with 1 Axes>"
      ]
     },
     "metadata": {},
     "output_type": "display_data"
    }
   ],
   "source": [
    "import networkx as nx\n",
    "G = nx.Graph()\n",
    "\n",
    "for idx in range(100):\n",
    "    G.add_node(mkt_kg_graph['source_entity_id'].iloc[idx], \n",
    "               entity_type = mkt_kg_graph['source_entity_type'].iloc[idx])\n",
    "    G.add_edge(mkt_kg_graph['source_entity_id'].iloc[idx], mkt_kg_graph['target_entity_id'].iloc[idx])\n",
    "\n",
    "    \n",
    "nx.draw(G, font_weight='bold', node_size=20,)"
   ]
  },
  {
   "cell_type": "markdown",
   "id": "aae7602b",
   "metadata": {},
   "source": [
    "## Part4 特征工程"
   ]
  },
  {
   "cell_type": "code",
   "execution_count": 311,
   "id": "feae09bc",
   "metadata": {},
   "outputs": [],
   "source": [
    "## \n",
    "train['item_id_freq'] = train['item_id'].map(train['item_id'].value_counts())\n",
    "test['item_id_freq'] = test['item_id'].map(train['item_id'].value_counts())\n",
    "\n",
    "train['item_id_target'] = train['item_id'].map(train.groupby(['item_id'])['label'].mean())\n",
    "test['item_id_target'] = test['item_id'].map(train.groupby(['item_id'])['label'].mean())\n",
    "\n",
    "## \n",
    "train['category_l1_freq'] = train['category_l1_name'].map(train['category_l1_name'].value_counts())\n",
    "test['category_l1_freq'] = test['category_l1_name'].map(train['category_l1_name'].value_counts())\n",
    "\n",
    "train['category_l1_target'] = train['category_l1_name'].map(train.groupby(['category_l1_name'])['label'].mean())\n",
    "test['category_l1_target'] = test['category_l1_name'].map(train.groupby(['category_l1_name'])['label'].mean())\n",
    "\n",
    "##\n",
    "train['category_l2_freq'] = train['category_l2_name'].map(train['category_l2_name'].value_counts())\n",
    "test['category_l2_freq'] = test['category_l2_name'].map(train['category_l2_name'].value_counts())\n",
    "\n",
    "train['category_l2_target'] = train['category_l2_name'].map(train.groupby(['category_l2_name'])['label'].mean())\n",
    "test['category_l2_target'] = test['category_l2_name'].map(train.groupby(['category_l2_name'])['label'].mean())\n",
    "\n",
    "##\n",
    "train['category_l3_freq'] = train['category_l3_name'].map(train['category_l3_name'].value_counts())\n",
    "test['category_l3_freq'] = test['category_l3_name'].map(train['category_l3_name'].value_counts())\n",
    "\n",
    "train['category_l3_target'] = train['category_l3_name'].map(train.groupby(['category_l3_name'])['label'].mean())\n",
    "test['category_l3_target'] = test['category_l3_name'].map(train.groupby(['category_l3_name'])['label'].mean())"
   ]
  },
  {
   "cell_type": "code",
   "execution_count": 305,
   "id": "87266a9b",
   "metadata": {},
   "outputs": [
    {
     "data": {
      "text/plain": [
       "0          0.075005\n",
       "1          0.116020\n",
       "2          0.090562\n",
       "3          0.116020\n",
       "4          0.110092\n",
       "             ...   \n",
       "1043210    0.123769\n",
       "1043211    0.110240\n",
       "1043212    0.082492\n",
       "1043213    0.078318\n",
       "1043214    0.116020\n",
       "Name: item_id, Length: 1043215, dtype: float64"
      ]
     },
     "execution_count": 305,
     "metadata": {},
     "output_type": "execute_result"
    }
   ],
   "source": [
    "train['item_id'].map(train.groupby(['item_id'])['label'].mean())"
   ]
  },
  {
   "cell_type": "markdown",
   "id": "980555d0",
   "metadata": {},
   "source": [
    "## Part5 训练与验证\n",
    "\n",
    "- GAUC评价指标的定义\n",
    "- 数据划分方法，需要考虑用户、时间、和记录"
   ]
  },
  {
   "cell_type": "code",
   "execution_count": 306,
   "id": "427a61a4",
   "metadata": {},
   "outputs": [],
   "source": [
    "def gauc(val_pred):\n",
    "    '''\n",
    "    val_pred: 'user_id', 'item_id', 'label', 'pred'\n",
    "    '''\n",
    "    \n",
    "    user_auc = []\n",
    "    for df in val_pred.groupby('user_id'):\n",
    "        try:\n",
    "            score = roc_auc_score(df[1]['label'], df[1]['proba'])\n",
    "            user_auc.append([score, df[1].shape[0]])\n",
    "        except:\n",
    "            pass\n",
    "\n",
    "    user_auc = pd.DataFrame(user_auc)\n",
    "    user_auc = (user_auc[0] * user_auc[1]).sum() / user_auc[1].sum()\n",
    "\n",
    "    item_auc = []\n",
    "    for df in val_pred.groupby('item_id'):\n",
    "        try:\n",
    "            score = roc_auc_score(df[1]['label'], df[1]['proba'])\n",
    "            item_auc.append([score, df[1].shape[0]])\n",
    "        except:\n",
    "            pass\n",
    "\n",
    "    item_auc = pd.DataFrame(item_auc)\n",
    "    item_auc = (item_auc[0] * item_auc[1]).sum() / item_auc[1].sum()\n",
    "    \n",
    "    return user_auc, item_auc, (user_auc + item_auc) / 2"
   ]
  },
  {
   "cell_type": "code",
   "execution_count": 312,
   "id": "9544d8f9",
   "metadata": {},
   "outputs": [
    {
     "name": "stdout",
     "output_type": "stream",
     "text": [
      "(1005761, 23) (37454, 23)\n"
     ]
    }
   ],
   "source": [
    "from sklearn.model_selection import KFold\n",
    "from sklearn.metrics import roc_auc_score\n",
    "\n",
    "user_kf = KFold(n_splits=10, shuffle=True, random_state=123)\n",
    "train_unique_users = train['user_id'].unique()\n",
    "\n",
    "feature_name = [\n",
    "    'gender', 'age', 'occupation', \n",
    "    'category_l1_name', 'category_l2_name', 'category_l3_name', \n",
    "    'voucher_benefit_floor_amount', 'voucher_benefit_amount',\n",
    "    \n",
    "    'item_id_freq', 'item_id_target',\n",
    "    'category_l1_freq', 'category_l1_target',\n",
    "    'category_l2_freq', 'category_l2_target',\n",
    "    'category_l3_freq', 'category_l3_target'\n",
    "]\n",
    "\n",
    "for user_train_idx, user_val_idx in user_kf.split(train_unique_users, train_unique_users):\n",
    "    user_train = train_unique_users[user_train_idx]\n",
    "    user_val = train_unique_users[user_val_idx]\n",
    "    \n",
    "    # 验证集选择用户最后的3条记录\n",
    "    val_idx = train[train['user_id'].isin(user_val)].groupby('user_id').tail(3).index\n",
    "    train_idx = [x for x in train.index if x not in train_val_idx]\n",
    "    \n",
    "    print(train.iloc[train_idx].shape, train.iloc[val_idx].shape)\n",
    "    break"
   ]
  },
  {
   "cell_type": "code",
   "execution_count": 313,
   "id": "69a0dad3",
   "metadata": {},
   "outputs": [
    {
     "name": "stderr",
     "output_type": "stream",
     "text": [
      "/home/f17g5vivd4/.local/lib/python3.6/site-packages/lightgbm/basic.py:2065: UserWarning: Using categorical_feature in Dataset.\n",
      "  _log_warning('Using categorical_feature in Dataset.')\n"
     ]
    },
    {
     "data": {
      "text/plain": [
       "LGBMClassifier(max_depth=5)"
      ]
     },
     "execution_count": 313,
     "metadata": {},
     "output_type": "execute_result"
    }
   ],
   "source": [
    "model = LGBMClassifier(max_depth=5)\n",
    "model.fit(train.iloc[train_idx][feature_name], train.iloc[train_idx]['label'],\n",
    "         categorical_feature=['occupation', 'category_l1_name'])"
   ]
  },
  {
   "cell_type": "code",
   "execution_count": 314,
   "id": "a8afe222",
   "metadata": {},
   "outputs": [],
   "source": [
    "val_pred = train.iloc[train_val_idx][['user_id', 'item_id', 'label']].copy()\n",
    "val_pred['proba'] = model.predict_proba(train.iloc[val_idx][feature_name])[:, 1]"
   ]
  },
  {
   "cell_type": "code",
   "execution_count": 315,
   "id": "d862995c",
   "metadata": {},
   "outputs": [
    {
     "data": {
      "text/plain": [
       "(0.5912132352941176, 0.5357119305002072, 0.5634625828971624)"
      ]
     },
     "execution_count": 315,
     "metadata": {},
     "output_type": "execute_result"
    }
   ],
   "source": [
    "gauc(val_pred)"
   ]
  }
 ],
 "metadata": {
  "kernelspec": {
   "display_name": "Python 3",
   "language": "python",
   "name": "python3"
  },
  "language_info": {
   "codemirror_mode": {
    "name": "ipython",
    "version": 3
   },
   "file_extension": ".py",
   "mimetype": "text/x-python",
   "name": "python",
   "nbconvert_exporter": "python",
   "pygments_lexer": "ipython3",
   "version": "3.6.8"
  }
 },
 "nbformat": 4,
 "nbformat_minor": 5
}
