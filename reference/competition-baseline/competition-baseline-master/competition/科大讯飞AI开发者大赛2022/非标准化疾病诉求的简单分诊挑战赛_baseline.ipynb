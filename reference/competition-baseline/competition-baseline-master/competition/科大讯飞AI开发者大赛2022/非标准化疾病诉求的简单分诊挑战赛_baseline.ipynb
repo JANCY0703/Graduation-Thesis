{
 "cells": [
  {
   "cell_type": "markdown",
   "id": "d6d61b17-2254-4fba-9491-3a5f2b426711",
   "metadata": {},
   "source": [
    "# 赛事背景\n",
    "\n",
    "人民对于医疗健康的需求在不断增长，但社会现阶段医疗资源紧缺，往往排队一上午看病十分钟，时间和精神成本巨大。如何更好地优化医疗资源配置，找到合适的方向，进行分级诊疗，是当前社会的重要课题。\n",
    "\n",
    "大众自觉身体状态异常，有时不能准确判断自己是否患有疾病，需要寻求有专业知识的人进行判断，但是主诉者一般进行口语化表述，不容易进行精准高效的指引。\n",
    "\n",
    "# 赛事任务\n",
    "\n",
    "进行简单分诊需要一定的数据和经验知识进行支撑。本次比赛提供了部分好大夫在线的真实问诊数据，经过严格脱敏，提供给参赛者进行单分类任务。具体为：通过处理文字诉求，给出20个常见的就诊方向之一和61个疾病方向之一。\n",
    "\n",
    "# 评审规则\n",
    "\n",
    "1. 数据说明\n",
    "\n",
    "比赛共提供约22800条训练数据，约7600条测试数据。单条数据包含年龄段age、主诉diseaseName、标题title、希望获得的帮助hopeHelp和其他描述字段文本conditionDesc，以及就诊方向标签label_i∈int [0,19]，疾病方向标签label_j∈int [0,60] (训练数据中疾病方向标签存在缺失，以-1标记，测试数据中没有)。\n",
    "\n",
    "其中具体含义如下表：\n",
    "\n",
    "| label_i | 就诊方向         |\n",
    "| ------- | ---------------- |\n",
    "| 0       | 乳腺外科         |\n",
    "| 1       | 产前检查         |\n",
    "| 2       | 内科             |\n",
    "| 3       | 呼吸内科         |\n",
    "| 4       | 咽喉疾病         |\n",
    "| 5       | 妇产科           |\n",
    "| 6       | 小儿保健         |\n",
    "| 7       | 小儿呼吸系统疾病 |\n",
    "| 8       | 小儿消化疾病     |\n",
    "| 9       | 小儿耳鼻喉       |\n",
    "| 10      | 心内科           |\n",
    "| 11      | 消化内科         |\n",
    "| 12      | 甲状腺疾病       |\n",
    "| 13      | 皮肤科           |\n",
    "| 14      | 直肠肛管疾病     |\n",
    "| 15      | 眼科             |\n",
    "| 16      | 神经内科         |\n",
    "| 17      | 脊柱退行性变     |\n",
    "| 18      | 运动医学         |\n",
    "| 19      | 骨科             |\n",
    "\n",
    "| label_j | 疾病方向         | label_j | 疾病方向       | label_j | 疾病方向         |\n",
    "| ------- | ---------------- | ------- | -------------- | ------- | ---------------- |\n",
    "| 0       | 乳房囊肿         | 21      | 小儿支气管肺炎 | 42      | 皮肤瘙痒         |\n",
    "| 1       | 乳腺增生         | 22      | 小儿消化不良   | 43      | 皮肤科其他       |\n",
    "| 2       | 乳腺疾病         | 23      | 小儿消化疾病   | 44      | 直肠肛管疾病     |\n",
    "| 3       | 乳腺肿瘤         | 24      | 小儿耳鼻喉其他 | 45      | 眼部疾病         |\n",
    "| 4       | 产前检查         | 25      | 小儿肺炎       | 46      | 神经内科其他     |\n",
    "| 5       | 儿童保健         | 26      | 心内科其他     | 47      | 微量元素缺乏     |\n",
    "| 6       | 先兆流产         | 27      | 心脏病         | 48      | 羊水异常         |\n",
    "| 7       | 内科其他         | 28      | 扁桃体炎       | 49      | 肺部疾病         |\n",
    "| 8       | 剖腹产           | 29      | 早孕反应       | 50      | 胃病             |\n",
    "| 9       | 发育迟缓         | 30      | 月经失调       | 51      | 脊柱退行性变     |\n",
    "| 10      | 呼吸内科其他     | 31      | 桥本甲状腺炎   | 52      | 腰椎间盘突出     |\n",
    "| 11      | 咽喉疾病         | 32      | 消化不良       | 53      | 腹泻             |\n",
    "| 12      | 喉疾病           | 33      | 消化内科其他   | 54      | 腹痛             |\n",
    "| 13      | 围产保健         | 34      | 消化道出血     | 55      | 膝关节半月板损伤 |\n",
    "| 14      | 外阴疾病         | 35      | 甲减           | 56      | 膝关节损伤       |\n",
    "| 15      | 妇科病           | 36      | 甲状腺功能异常 | 57      | 膝关节韧带损伤   |\n",
    "| 16      | 宫腔镜           | 37      | 甲状腺疾病     | 58      | 运动医学         |\n",
    "| 17      | 小儿呼吸系统疾病 | 38      | 甲状腺瘤       | 59      | 韧带损伤         |\n",
    "| 18      | 小儿咳嗽         | 39      | 甲状腺结节     | 60      | 骨科其他         |\n",
    "| 19      | 小儿感冒         | 40      | 痔疮           |         |                  |\n",
    "| 20      | 小儿支气管炎     | 41      | 皮肤病         |         |                  |\n",
    "\n",
    "| id   | age  | diseaseName                     | conditionDesc                                                | title                        | hopeHelp                                                   | label_i | label_j |\n",
    "| ---- | ---- | ------------------------------- | ------------------------------------------------------------ | ---------------------------- | ---------------------------------------------------------- | ------- | ------- |\n",
    "| 1    | 30+  | 小红点是什么？                  | 四肢上部张图片中这样的小红疙瘩是怎么回事呢？特别痒。         | 小红点是什么？               | 请医生给我一些治疗上的建议                                 | 13      | 42      |\n",
    "| 2    | 30+  | 乳腺结节                        | 体检发现左侧乳腺有结节，13mm×8mm,自己没有任何症状            | 左侧乳腺结节                 | 请医生给我一些治疗上的建议,目前病情是否需要手术？          | 0       | 1       |\n",
    "| 3    | 20+  | 身体麻 身体坐左半面肢体有麻木感 | 年初患有带状疱疹 在左腿脚踝上方 之后疱疹好了 但是左脚开始麻 随后左手麻 然后左腿和左胳膊陆续开始麻 直到左边脸也略有麻木感 同时右脚也麻 | 左侧身体麻木                 | 什么原因导致的麻木以及如何治疗                             | 16      | 47      |\n",
    "| 4    | 10+  | 生长缓慢，想再增长10厘米        | 今年8月满15岁，身高165厘米，近半年生长缓慢，能否打生长激素再增高10厘米。 | 想增高10厘米                 | 是否可打生长激素                                           | 6       | 9       |\n",
    "| 5    | 30+  | 眼睛看东西突然变小，变远        | 从小记事时就有此病，发病时看任何东西都变小，距离也判断不太好了，没有就过医。 | 眼睛看东西突然变小，从小就有 | 希望医生诊断这是什么病？需要就医吗？有什么注意事项？谢谢。 | 15      | 46      |\n",
    "| 6    | 20+  | 甲状腺                          | 嗓子疼，说话感觉里面有回音，先是由感冒引起，后来大量运动后天气变化着凉，疼痛加剧 | 甲状腺肿大                   | 如何控制病情，是否还需做下一步检查                         | 12      | 36      |\n",
    "| 7    | 0+   | 晚上磨牙，缺钙                  | 女,5岁4个月。骨密度测试部缺钙，验血又显示缺钙，不知道到底怎么回事 | 孩子是否缺钙？               | 希望医生解答一下孩子是否缺钙                               | 6       | 48      |\n",
    "| 8    | 50+  | 手指麻木                        | 一月前出现十个手指指尖麻木，现症状加重。                     | 手指麻木                     | 会是什么病？需要做什么检查？                               | 16      | 47      |\n",
    "| 9    | 20+  | 便血，鲜红色的                  | 便血，鲜红色的，大便时还有点疼，就持续两天                   | 要不要做检查                 | 要不要做检查                                               | 11      | 34      |\n",
    "\n",
    "另提供14000条相关知识文本，每条包含主体/（属性）/客体，供选手随意选用。\n",
    "\n",
    "## 评估指标\n",
    "\n",
    "本模型依据提交的结果文件，采用两种标签类别求和评价，就诊方向label_i用F1-macro score进行评价，疾病方向label_j用F1-micro score进行评价, 最终结果取两者之和。\n",
    "\n",
    "## 评测及排行\n",
    "\n",
    "1、比赛提供下载数据，选手在本地进行算法调试，在比赛页面提交结果。\n",
    "\n",
    "2、每支团队每天最多提交3次。\n",
    "\n",
    "3、排行按照得分从高到低排序，排行榜将选择团队的历史最优成绩进行排名。\n",
    "\n",
    "4、要求最终预测两种标签使用的模型参数总量小于4e8(含模型融合)，前十名需提交代码和相关说明以备核验。\n",
    "\n",
    "# 作品提交要求\n",
    "\n",
    "1、文件格式：按照csv格式提交\n",
    "\n",
    "2、文件大小：无要求\n",
    "\n",
    "3、提交次数限制：每支队伍每天最多3次\n",
    "\n",
    "4、文件详细说明：\n",
    "\n",
    "\\1) 编码为UTF-8，第一行为表头，包含id、就诊方向label_i和疾病方向label_j\n",
    "\n",
    "\\2) 提交格式见样例\n",
    "\n",
    "# 赛程规划\n",
    "\n",
    "本赛题实行一轮赛制\n",
    "\n",
    "## 赛程周期 6月9日-7月9日\n",
    "\n",
    "1、截止成绩以团队在比赛时间段内最优成绩为准\n",
    "\n",
    "2、比赛作品提交截止日期为7月9日17:00\n",
    "\n",
    "## 现场答辩\n",
    "\n",
    "1、最终前三名团队将受邀参加科大讯飞全球1024开发者节并于现场进行答辩\n",
    "\n",
    "2、答辩以（10mins陈述+5mins问答）的形式进行\n",
    "\n",
    "3、根据作品成绩和答辩成绩综合评分（作品成绩占比70％，现场答辩分数占比30％）"
   ]
  },
  {
   "cell_type": "markdown",
   "id": "43e82628-0e0e-4e14-9451-8b60c535b1ca",
   "metadata": {},
   "source": [
    "# 数据读取"
   ]
  },
  {
   "cell_type": "code",
   "execution_count": 1,
   "id": "4ab9e31c-a981-495c-8b99-5992bd6bae53",
   "metadata": {
    "execution": {
     "iopub.execute_input": "2022-06-14T09:59:17.327415Z",
     "iopub.status.busy": "2022-06-14T09:59:17.326905Z",
     "iopub.status.idle": "2022-06-14T09:59:17.930472Z",
     "shell.execute_reply": "2022-06-14T09:59:17.929959Z",
     "shell.execute_reply.started": "2022-06-14T09:59:17.327356Z"
    },
    "tags": []
   },
   "outputs": [
    {
     "name": "stdout",
     "output_type": "stream",
     "text": [
      "Populating the interactive namespace from numpy and matplotlib\n"
     ]
    }
   ],
   "source": [
    "import pandas as pd\n",
    "import numpy as np\n",
    "import seaborn as sns\n",
    "\n",
    "%pylab inline"
   ]
  },
  {
   "cell_type": "code",
   "execution_count": 2,
   "id": "adcba03d-71a7-45bc-a746-700ad3ce2132",
   "metadata": {
    "execution": {
     "iopub.execute_input": "2022-06-14T09:59:17.931690Z",
     "iopub.status.busy": "2022-06-14T09:59:17.931482Z",
     "iopub.status.idle": "2022-06-14T09:59:20.295622Z",
     "shell.execute_reply": "2022-06-14T09:59:20.294704Z",
     "shell.execute_reply.started": "2022-06-14T09:59:17.931673Z"
    },
    "tags": []
   },
   "outputs": [],
   "source": [
    "train_df = pd.read_excel('好大夫-非标准化疾病诉求的简单分诊挑战赛2.0公开数据/data_train.xlsx')\n",
    "test_df = pd.read_excel('好大夫-非标准化疾病诉求的简单分诊挑战赛2.0公开数据/data_test.xlsx')"
   ]
  },
  {
   "cell_type": "code",
   "execution_count": 3,
   "id": "8cd234df-b6eb-404a-8601-01db90f4ae55",
   "metadata": {
    "execution": {
     "iopub.execute_input": "2022-06-14T09:59:20.298395Z",
     "iopub.status.busy": "2022-06-14T09:59:20.298235Z",
     "iopub.status.idle": "2022-06-14T09:59:20.302622Z",
     "shell.execute_reply": "2022-06-14T09:59:20.302188Z",
     "shell.execute_reply.started": "2022-06-14T09:59:20.298380Z"
    },
    "tags": []
   },
   "outputs": [],
   "source": [
    "test_submit = pd.read_csv('好大夫-非标准化疾病诉求的简单分诊挑战赛2.0公开数据/提交示例.csv')"
   ]
  },
  {
   "cell_type": "code",
   "execution_count": 4,
   "id": "2d11fb25-6aa5-4811-b85b-a2741a2a209e",
   "metadata": {
    "execution": {
     "iopub.execute_input": "2022-06-14T09:59:20.307436Z",
     "iopub.status.busy": "2022-06-14T09:59:20.307278Z",
     "iopub.status.idle": "2022-06-14T09:59:20.375291Z",
     "shell.execute_reply": "2022-06-14T09:59:20.374850Z",
     "shell.execute_reply.started": "2022-06-14T09:59:20.307421Z"
    },
    "tags": []
   },
   "outputs": [
    {
     "data": {
      "text/html": [
       "<div>\n",
       "<style scoped>\n",
       "    .dataframe tbody tr th:only-of-type {\n",
       "        vertical-align: middle;\n",
       "    }\n",
       "\n",
       "    .dataframe tbody tr th {\n",
       "        vertical-align: top;\n",
       "    }\n",
       "\n",
       "    .dataframe thead th {\n",
       "        text-align: right;\n",
       "    }\n",
       "</style>\n",
       "<table border=\"1\" class=\"dataframe\">\n",
       "  <thead>\n",
       "    <tr style=\"text-align: right;\">\n",
       "      <th></th>\n",
       "      <th>id</th>\n",
       "      <th>age</th>\n",
       "      <th>diseaseName</th>\n",
       "      <th>conditionDesc</th>\n",
       "      <th>title</th>\n",
       "      <th>hopeHelp</th>\n",
       "      <th>label_i</th>\n",
       "      <th>label_j</th>\n",
       "    </tr>\n",
       "  </thead>\n",
       "  <tbody>\n",
       "    <tr>\n",
       "      <th>0</th>\n",
       "      <td>0</td>\n",
       "      <td>20+</td>\n",
       "      <td>刨腹产可以养三胎吗？</td>\n",
       "      <td>刨腹产可以养三胎吗？希望医生能帮我看看，谢谢！</td>\n",
       "      <td>刨腹产可以养三胎吗？</td>\n",
       "      <td>前两个都是刨腹产，时间已经隔了有6年了，前两个都很顺利，想问问医生现在可以养三胎吗？</td>\n",
       "      <td>1</td>\n",
       "      <td>8</td>\n",
       "    </tr>\n",
       "    <tr>\n",
       "      <th>1</th>\n",
       "      <td>1</td>\n",
       "      <td>20+</td>\n",
       "      <td>右膝前交叉韧带断裂，半月板三度重度损伤</td>\n",
       "      <td>右膝受力小腿骨和大腿骨就会滑开，走路会有隐隐作痛</td>\n",
       "      <td>大概做韧带重建手术需要多少费用？</td>\n",
       "      <td>大概做韧带重建手术需要多少费用？</td>\n",
       "      <td>18</td>\n",
       "      <td>57</td>\n",
       "    </tr>\n",
       "    <tr>\n",
       "      <th>2</th>\n",
       "      <td>2</td>\n",
       "      <td>30+</td>\n",
       "      <td>没有不适，就是左眼球有红色充血</td>\n",
       "      <td>昨天我朋友跟我说，我的左眼睛有红色的问我怎么啦，我自己都不知道，所以现在问医生看需要去医院吗...</td>\n",
       "      <td>需要怎么治疗</td>\n",
       "      <td>需要怎么治疗</td>\n",
       "      <td>15</td>\n",
       "      <td>45</td>\n",
       "    </tr>\n",
       "    <tr>\n",
       "      <th>3</th>\n",
       "      <td>3</td>\n",
       "      <td>30+</td>\n",
       "      <td>腿摔了</td>\n",
       "      <td>一个月前从摩托上摔下来了，拍了片子和核磁共振，打的石膏，腿直不了</td>\n",
       "      <td>腿可能这辈子就瘸了</td>\n",
       "      <td>请医生给我一些治疗上的建议，目前病情是否需要手术？，是否需要就诊？就诊前做哪些准备？</td>\n",
       "      <td>18</td>\n",
       "      <td>58</td>\n",
       "    </tr>\n",
       "    <tr>\n",
       "      <th>4</th>\n",
       "      <td>4</td>\n",
       "      <td>30+</td>\n",
       "      <td>体检单问题</td>\n",
       "      <td>偶尔会拉肚子或便秘 胃肠偶尔不舒服 没有疼痛感</td>\n",
       "      <td>体检单问题咨询 需要治疗吗</td>\n",
       "      <td>单位体检遇到的问题</td>\n",
       "      <td>2</td>\n",
       "      <td>-1</td>\n",
       "    </tr>\n",
       "  </tbody>\n",
       "</table>\n",
       "</div>"
      ],
      "text/plain": [
       "   id  age          diseaseName  \\\n",
       "0   0  20+           刨腹产可以养三胎吗？   \n",
       "1   1  20+  右膝前交叉韧带断裂，半月板三度重度损伤   \n",
       "2   2  30+      没有不适，就是左眼球有红色充血   \n",
       "3   3  30+                  腿摔了   \n",
       "4   4  30+                体检单问题   \n",
       "\n",
       "                                       conditionDesc             title  \\\n",
       "0                            刨腹产可以养三胎吗？希望医生能帮我看看，谢谢！        刨腹产可以养三胎吗？   \n",
       "1                           右膝受力小腿骨和大腿骨就会滑开，走路会有隐隐作痛  大概做韧带重建手术需要多少费用？   \n",
       "2  昨天我朋友跟我说，我的左眼睛有红色的问我怎么啦，我自己都不知道，所以现在问医生看需要去医院吗...           需要怎么治疗　   \n",
       "3                   一个月前从摩托上摔下来了，拍了片子和核磁共振，打的石膏，腿直不了         腿可能这辈子就瘸了   \n",
       "4                            偶尔会拉肚子或便秘 胃肠偶尔不舒服 没有疼痛感     体检单问题咨询 需要治疗吗   \n",
       "\n",
       "                                     hopeHelp  label_i  label_j  \n",
       "0  前两个都是刨腹产，时间已经隔了有6年了，前两个都很顺利，想问问医生现在可以养三胎吗？        1        8  \n",
       "1                            大概做韧带重建手术需要多少费用？       18       57  \n",
       "2                                      需要怎么治疗       15       45  \n",
       "3  请医生给我一些治疗上的建议，目前病情是否需要手术？，是否需要就诊？就诊前做哪些准备？       18       58  \n",
       "4                                   单位体检遇到的问题        2       -1  "
      ]
     },
     "execution_count": 4,
     "metadata": {},
     "output_type": "execute_result"
    }
   ],
   "source": [
    "train_df.head()"
   ]
  },
  {
   "cell_type": "markdown",
   "id": "c9f77909-9b49-4451-9e98-0044d9a4cbd5",
   "metadata": {},
   "source": [
    "# 数据分析"
   ]
  },
  {
   "cell_type": "markdown",
   "id": "41b49366-9b3a-4856-bac5-61c76b540516",
   "metadata": {},
   "source": [
    "## 类别分布"
   ]
  },
  {
   "cell_type": "code",
   "execution_count": 5,
   "id": "1b46c0e3-5060-4096-8f4b-9ad4673db8a3",
   "metadata": {
    "execution": {
     "iopub.execute_input": "2022-06-14T09:59:20.376203Z",
     "iopub.status.busy": "2022-06-14T09:59:20.375981Z",
     "iopub.status.idle": "2022-06-14T09:59:20.603833Z",
     "shell.execute_reply": "2022-06-14T09:59:20.603368Z",
     "shell.execute_reply.started": "2022-06-14T09:59:20.376188Z"
    },
    "tags": []
   },
   "outputs": [
    {
     "data": {
      "text/plain": [
       "<AxesSubplot:>"
      ]
     },
     "execution_count": 5,
     "metadata": {},
     "output_type": "execute_result"
    },
    {
     "data": {
      "image/png": "[encoded data removed]",
      "text/plain": [
       "<Figure size 432x288 with 1 Axes>"
      ]
     },
     "metadata": {
      "needs_background": "light"
     },
     "output_type": "display_data"
    }
   ],
   "source": [
    "train_df['label_i'].value_counts().plot(kind='barh')"
   ]
  },
  {
   "cell_type": "code",
   "execution_count": 6,
   "id": "d8f201f7-9a52-4856-a133-6642ce4f84ab",
   "metadata": {
    "execution": {
     "iopub.execute_input": "2022-06-14T09:59:20.604711Z",
     "iopub.status.busy": "2022-06-14T09:59:20.604534Z",
     "iopub.status.idle": "2022-06-14T09:59:21.134881Z",
     "shell.execute_reply": "2022-06-14T09:59:21.134250Z",
     "shell.execute_reply.started": "2022-06-14T09:59:20.604695Z"
    },
    "tags": []
   },
   "outputs": [
    {
     "data": {
      "text/plain": [
       "<AxesSubplot:>"
      ]
     },
     "execution_count": 6,
     "metadata": {},
     "output_type": "execute_result"
    },
    {
     "data": {
      "image/png": "[encoded data removed]",
      "text/plain": [
       "<Figure size 432x288 with 1 Axes>"
      ]
     },
     "metadata": {
      "needs_background": "light"
     },
     "output_type": "display_data"
    }
   ],
   "source": [
    "train_df['label_j'].value_counts().plot(kind='barh')"
   ]
  },
  {
   "cell_type": "markdown",
   "id": "8b1e7e0e-a8f9-4104-aea2-4cf596e3b869",
   "metadata": {
    "execution": {
     "iopub.execute_input": "2022-06-14T08:12:29.252779Z",
     "iopub.status.busy": "2022-06-14T08:12:29.252169Z",
     "iopub.status.idle": "2022-06-14T08:12:29.269084Z",
     "shell.execute_reply": "2022-06-14T08:12:29.268165Z",
     "shell.execute_reply.started": "2022-06-14T08:12:29.252728Z"
    },
    "tags": []
   },
   "source": [
    "## 文本长度"
   ]
  },
  {
   "cell_type": "code",
   "execution_count": 7,
   "id": "a3a10bcf-919d-455e-a1ef-1dbed1a12a3a",
   "metadata": {
    "execution": {
     "iopub.execute_input": "2022-06-14T09:59:21.135943Z",
     "iopub.status.busy": "2022-06-14T09:59:21.135714Z",
     "iopub.status.idle": "2022-06-14T09:59:21.527900Z",
     "shell.execute_reply": "2022-06-14T09:59:21.527392Z",
     "shell.execute_reply.started": "2022-06-14T09:59:21.135926Z"
    },
    "tags": []
   },
   "outputs": [
    {
     "data": {
      "text/plain": [
       "<seaborn.axisgrid.FacetGrid at 0x7fc9f1526cc0>"
      ]
     },
     "execution_count": 7,
     "metadata": {},
     "output_type": "execute_result"
    },
    {
     "data": {
      "image/png": "[encoded data removed]",
      "text/plain": [
       "<Figure size 360x360 with 1 Axes>"
      ]
     },
     "metadata": {
      "needs_background": "light"
     },
     "output_type": "display_data"
    }
   ],
   "source": [
    "sns.displot(train_df['diseaseName'].apply(len))"
   ]
  },
  {
   "cell_type": "code",
   "execution_count": 8,
   "id": "2acae79e-b3c5-43c1-9a6a-c865b03c899d",
   "metadata": {
    "execution": {
     "iopub.execute_input": "2022-06-14T09:59:21.530323Z",
     "iopub.status.busy": "2022-06-14T09:59:21.530160Z",
     "iopub.status.idle": "2022-06-14T09:59:21.851996Z",
     "shell.execute_reply": "2022-06-14T09:59:21.851508Z",
     "shell.execute_reply.started": "2022-06-14T09:59:21.530308Z"
    },
    "tags": []
   },
   "outputs": [
    {
     "data": {
      "text/plain": [
       "<seaborn.axisgrid.FacetGrid at 0x7fc9e22c1b00>"
      ]
     },
     "execution_count": 8,
     "metadata": {},
     "output_type": "execute_result"
    },
    {
     "data": {
      "image/png": "[encoded data removed]",
      "text/plain": [
       "<Figure size 360x360 with 1 Axes>"
      ]
     },
     "metadata": {
      "needs_background": "light"
     },
     "output_type": "display_data"
    }
   ],
   "source": [
    "sns.displot(train_df['conditionDesc'].apply(len))"
   ]
  },
  {
   "cell_type": "markdown",
   "id": "cd4be3ce-6004-43cb-9696-8dbbe21db47f",
   "metadata": {},
   "source": [
    "# 模型1：TFIDF"
   ]
  },
  {
   "cell_type": "code",
   "execution_count": 30,
   "id": "8fc7bcd3-bb65-4089-9780-6e4eb103397d",
   "metadata": {
    "execution": {
     "iopub.execute_input": "2022-06-14T08:15:48.654635Z",
     "iopub.status.busy": "2022-06-14T08:15:48.654049Z",
     "iopub.status.idle": "2022-06-14T08:15:48.708922Z",
     "shell.execute_reply": "2022-06-14T08:15:48.707853Z",
     "shell.execute_reply.started": "2022-06-14T08:15:48.654588Z"
    },
    "tags": []
   },
   "outputs": [],
   "source": [
    "train_text = train_df['diseaseName'] + ' ' + train_df['conditionDesc'] + ' ' + train_df['title'] + ' ' + train_df['hopeHelp']\n",
    "test_text = test_df['diseaseName'] + ' ' + test_df['conditionDesc'] + ' ' + test_df['title'] + ' ' + test_df['hopeHelp']"
   ]
  },
  {
   "cell_type": "code",
   "execution_count": 33,
   "id": "6f4fa84b-3f23-4b66-ad1d-a8ffb9a2ff5e",
   "metadata": {
    "execution": {
     "iopub.execute_input": "2022-06-14T08:16:46.780251Z",
     "iopub.status.busy": "2022-06-14T08:16:46.779667Z",
     "iopub.status.idle": "2022-06-14T08:16:46.790599Z",
     "shell.execute_reply": "2022-06-14T08:16:46.789876Z",
     "shell.execute_reply.started": "2022-06-14T08:16:46.780202Z"
    }
   },
   "outputs": [],
   "source": [
    "train_text = train_text.fillna('')\n",
    "test_text = test_text.fillna('')"
   ]
  },
  {
   "cell_type": "code",
   "execution_count": 34,
   "id": "40632239-3e4e-429e-a024-60a8b4c5608a",
   "metadata": {
    "execution": {
     "iopub.execute_input": "2022-06-14T08:16:47.590318Z",
     "iopub.status.busy": "2022-06-14T08:16:47.589739Z",
     "iopub.status.idle": "2022-06-14T08:16:47.595338Z",
     "shell.execute_reply": "2022-06-14T08:16:47.594169Z",
     "shell.execute_reply.started": "2022-06-14T08:16:47.590272Z"
    },
    "tags": []
   },
   "outputs": [],
   "source": [
    "import jieba"
   ]
  },
  {
   "cell_type": "code",
   "execution_count": 35,
   "id": "1e07a543-adac-4646-8d4b-9faf65ad90a8",
   "metadata": {
    "execution": {
     "iopub.execute_input": "2022-06-14T08:16:48.216242Z",
     "iopub.status.busy": "2022-06-14T08:16:48.215687Z",
     "iopub.status.idle": "2022-06-14T08:16:54.907736Z",
     "shell.execute_reply": "2022-06-14T08:16:54.907168Z",
     "shell.execute_reply.started": "2022-06-14T08:16:48.216196Z"
    },
    "tags": []
   },
   "outputs": [],
   "source": [
    "train_text = [' '.join(jieba.cut(x)) for x in train_text]\n",
    "test_text = [' '.join(jieba.cut(x)) for x in test_text]"
   ]
  },
  {
   "cell_type": "code",
   "execution_count": 45,
   "id": "cd9d372b-4303-498a-bac3-16b861c4afa3",
   "metadata": {
    "execution": {
     "iopub.execute_input": "2022-06-14T08:23:14.903709Z",
     "iopub.status.busy": "2022-06-14T08:23:14.903154Z",
     "iopub.status.idle": "2022-06-14T08:23:15.806014Z",
     "shell.execute_reply": "2022-06-14T08:23:15.804948Z",
     "shell.execute_reply.started": "2022-06-14T08:23:14.903663Z"
    },
    "tags": []
   },
   "outputs": [],
   "source": [
    "from sklearn.feature_extraction.text import TfidfVectorizer\n",
    "from sklearn.linear_model import LogisticRegression\n",
    "\n",
    "tfidf = TfidfVectorizer().fit(train_text)\n",
    "train_tfidf = tfidf.fit_transform(train_text)\n",
    "test_tfidf = tfidf.transform(test_text)"
   ]
  },
  {
   "cell_type": "code",
   "execution_count": 47,
   "id": "c824640c-c1ce-487f-bcb6-15e0f8444314",
   "metadata": {
    "execution": {
     "iopub.execute_input": "2022-06-14T08:23:45.547848Z",
     "iopub.status.busy": "2022-06-14T08:23:45.547247Z",
     "iopub.status.idle": "2022-06-14T08:23:45.577146Z",
     "shell.execute_reply": "2022-06-14T08:23:45.576584Z",
     "shell.execute_reply.started": "2022-06-14T08:23:45.547799Z"
    },
    "tags": []
   },
   "outputs": [],
   "source": [
    "clf_i = LogisticRegression()\n",
    "clf_i.fit(train_tfidf, train_df['label_i'])\n",
    "\n",
    "clf_j = LogisticRegression()\n",
    "clf_j.fit(train_tfidf, train_df['label_j'])"
   ]
  },
  {
   "cell_type": "code",
   "execution_count": 58,
   "id": "4e8c1790-8012-422f-9ee5-825e3dc9a2ff",
   "metadata": {
    "execution": {
     "iopub.execute_input": "2022-06-14T08:27:51.938948Z",
     "iopub.status.busy": "2022-06-14T08:27:51.938635Z",
     "iopub.status.idle": "2022-06-14T08:27:51.978717Z",
     "shell.execute_reply": "2022-06-14T08:27:51.978160Z",
     "shell.execute_reply.started": "2022-06-14T08:27:51.938924Z"
    },
    "tags": []
   },
   "outputs": [],
   "source": [
    "test_submit['label_i'] = clf_i.predict(test_tfidf)\n",
    "test_submit['label_j'] = clf_j.predict(test_tfidf)\n",
    "\n",
    "test_submit.to_csv('tfidf_submit.csv', index=None)"
   ]
  },
  {
   "cell_type": "markdown",
   "id": "b06fd32d-3a60-4f0f-8a3d-7f78b7f37903",
   "metadata": {},
   "source": [
    "# 模型2：BERT"
   ]
  },
  {
   "cell_type": "code",
   "execution_count": 9,
   "id": "921eb168-ef26-40cc-bd28-7f1c954fe285",
   "metadata": {
    "execution": {
     "iopub.execute_input": "2022-06-14T09:59:23.949987Z",
     "iopub.status.busy": "2022-06-14T09:59:23.949338Z",
     "iopub.status.idle": "2022-06-14T09:59:24.584845Z",
     "shell.execute_reply": "2022-06-14T09:59:24.584248Z",
     "shell.execute_reply.started": "2022-06-14T09:59:23.949938Z"
    },
    "tags": []
   },
   "outputs": [],
   "source": [
    "import torch\n",
    "from torch import nn\n",
    "from transformers import BertPreTrainedModel\n",
    "from transformers import AutoTokenizer, AutoModelForMaskedLM, AutoConfig, BertModel, AutoModel"
   ]
  },
  {
   "cell_type": "code",
   "execution_count": 10,
   "id": "7713ffe3-9f85-4cd4-b67b-fbc4b5e0bdd7",
   "metadata": {
    "execution": {
     "iopub.execute_input": "2022-06-14T09:59:24.714213Z",
     "iopub.status.busy": "2022-06-14T09:59:24.713676Z",
     "iopub.status.idle": "2022-06-14T09:59:34.192309Z",
     "shell.execute_reply": "2022-06-14T09:59:34.191288Z",
     "shell.execute_reply.started": "2022-06-14T09:59:24.714165Z"
    },
    "tags": []
   },
   "outputs": [],
   "source": [
    "tokenizer = AutoTokenizer.from_pretrained(\"hfl/chinese-roberta-wwm-ext\")\n",
    "config = AutoConfig.from_pretrained(\"hfl/chinese-roberta-wwm-ext\")"
   ]
  },
  {
   "cell_type": "code",
   "execution_count": 11,
   "id": "5566e344-f09d-4ff3-a979-3a63888c5df6",
   "metadata": {
    "execution": {
     "iopub.execute_input": "2022-06-14T09:59:37.918043Z",
     "iopub.status.busy": "2022-06-14T09:59:37.917432Z",
     "iopub.status.idle": "2022-06-14T09:59:37.924845Z",
     "shell.execute_reply": "2022-06-14T09:59:37.924140Z",
     "shell.execute_reply.started": "2022-06-14T09:59:37.917995Z"
    },
    "tags": []
   },
   "outputs": [],
   "source": [
    "class XunFeiModel(nn.Module):\n",
    "    def __init__(self, num_labels_i, num_labels_j): \n",
    "        super(XunFeiModel,self).__init__() \n",
    "\n",
    "        #Load Model with given checkpoint and extract its body\n",
    "        self.model = model = AutoModel.from_pretrained(\"hfl/chinese-roberta-wwm-ext\")\n",
    "        self.dropout = nn.Dropout(0.1) \n",
    "        self.classifier_i = nn.Linear(768, num_labels_i)\n",
    "        self.classifier_j = nn.Linear(768, num_labels_j)\n",
    "\n",
    "    def forward(self, input_ids=None, attention_mask=None,labels=None):\n",
    "        outputs = self.model(input_ids=input_ids, attention_mask=attention_mask)\n",
    "        sequence_output = self.dropout(outputs[0]) #outputs[0]=last hidden state\n",
    "    \n",
    "        logits_i = self.classifier_i(sequence_output[:,0,:].view(-1,768))\n",
    "        logits_j = self.classifier_j(sequence_output[:,0,:].view(-1,768))\n",
    "        \n",
    "        return logits_i, logits_j"
   ]
  },
  {
   "cell_type": "code",
   "execution_count": 12,
   "id": "df2c96ff-ff25-4c9b-99c8-e47264f1330f",
   "metadata": {
    "execution": {
     "iopub.execute_input": "2022-06-14T09:59:38.831502Z",
     "iopub.status.busy": "2022-06-14T09:59:38.830916Z",
     "iopub.status.idle": "2022-06-14T09:59:40.368828Z",
     "shell.execute_reply": "2022-06-14T09:59:40.368268Z",
     "shell.execute_reply.started": "2022-06-14T09:59:38.831448Z"
    },
    "tags": []
   },
   "outputs": [],
   "source": [
    "train_text = train_df['diseaseName'] + ' ' + train_df['conditionDesc'] + ' ' + train_df['title'] + ' ' + train_df['hopeHelp']\n",
    "test_text = test_df['diseaseName'] + ' ' + test_df['conditionDesc'] + ' ' + test_df['title'] + ' ' + test_df['hopeHelp']\n",
    "train_text = train_text.fillna('')\n",
    "test_text = test_text.fillna('')\n",
    "\n",
    "train_encoding = tokenizer(train_text.tolist()[:-1000], truncation=True, padding=True, max_length=200)\n",
    "val_encoding = tokenizer(train_text.tolist()[-1000:], truncation=True, padding=True, max_length=200)\n",
    "test_encoding = tokenizer(test_text.tolist(), truncation=True, padding=True, max_length=200)"
   ]
  },
  {
   "cell_type": "code",
   "execution_count": 13,
   "id": "345a8281-df40-49c5-9111-d77a78179ff6",
   "metadata": {
    "execution": {
     "iopub.execute_input": "2022-06-14T09:59:47.760993Z",
     "iopub.status.busy": "2022-06-14T09:59:47.760404Z",
     "iopub.status.idle": "2022-06-14T09:59:47.770786Z",
     "shell.execute_reply": "2022-06-14T09:59:47.769869Z",
     "shell.execute_reply.started": "2022-06-14T09:59:47.760943Z"
    },
    "tags": []
   },
   "outputs": [],
   "source": [
    "from torch.utils.data import Dataset, DataLoader, TensorDataset\n",
    "\n",
    "# 数据集读取\n",
    "class XunFeiDataset(Dataset):\n",
    "    def __init__(self, encodings, label_i, label_j):\n",
    "        self.encodings = encodings\n",
    "        self.label_i = label_i\n",
    "        self.label_j = label_j\n",
    "    \n",
    "    # 读取单个样本\n",
    "    def __getitem__(self, idx):\n",
    "        item = {key: torch.tensor(val[idx]) for key, val in self.encodings.items()}\n",
    "        item['label_i'] = torch.tensor(int(self.label_i[idx]))\n",
    "        item['label_j'] = torch.tensor(int(self.label_j[idx]))\n",
    "        return item\n",
    "    \n",
    "    def __len__(self):\n",
    "        return len(self.label_i)\n",
    "\n",
    "train_dataset = XunFeiDataset(train_encoding, \n",
    "                              train_df['label_i'].values[:-1000], \n",
    "                              train_df['label_j'].values[:-1000])\n",
    "val_dataset = XunFeiDataset(val_encoding, \n",
    "                              train_df['label_i'].values[-1000:], \n",
    "                              train_df['label_j'].values[-1000:])\n",
    "test_dataset = XunFeiDataset(test_encoding, [0] * len(test_df), [0] * len(test_df))"
   ]
  },
  {
   "cell_type": "code",
   "execution_count": 14,
   "id": "7457818c-5f37-4404-988a-1f9c1f9fe56c",
   "metadata": {
    "execution": {
     "iopub.execute_input": "2022-06-14T09:59:53.711662Z",
     "iopub.status.busy": "2022-06-14T09:59:53.711288Z",
     "iopub.status.idle": "2022-06-14T09:59:53.716860Z",
     "shell.execute_reply": "2022-06-14T09:59:53.715704Z",
     "shell.execute_reply.started": "2022-06-14T09:59:53.711630Z"
    },
    "tags": []
   },
   "outputs": [],
   "source": [
    "# 单个读取到批量读取\n",
    "train_loader = DataLoader(train_dataset, batch_size=16, shuffle=False)\n",
    "val_dataloader = DataLoader(val_dataset, batch_size=16, shuffle=False)\n",
    "test_dataloader = DataLoader(test_dataset, batch_size=16, shuffle=False)"
   ]
  },
  {
   "cell_type": "code",
   "execution_count": 15,
   "id": "a36facf7-fb9f-4fc6-ab02-385f36ad0017",
   "metadata": {
    "execution": {
     "iopub.execute_input": "2022-06-14T09:59:55.410672Z",
     "iopub.status.busy": "2022-06-14T09:59:55.410263Z",
     "iopub.status.idle": "2022-06-14T10:00:00.120548Z",
     "shell.execute_reply": "2022-06-14T10:00:00.119498Z",
     "shell.execute_reply.started": "2022-06-14T09:59:55.410639Z"
    },
    "tags": []
   },
   "outputs": [
    {
     "name": "stderr",
     "output_type": "stream",
     "text": [
      "Some weights of the model checkpoint at hfl/chinese-roberta-wwm-ext were not used when initializing BertModel: ['cls.predictions.transform.dense.bias', 'cls.predictions.transform.LayerNorm.weight', 'cls.predictions.bias', 'cls.predictions.transform.LayerNorm.bias', 'cls.predictions.transform.dense.weight', 'cls.predictions.decoder.weight', 'cls.seq_relationship.weight', 'cls.seq_relationship.bias']\n",
      "- This IS expected if you are initializing BertModel from the checkpoint of a model trained on another task or with another architecture (e.g. initializing a BertForSequenceClassification model from a BertForPreTraining model).\n",
      "- This IS NOT expected if you are initializing BertModel from the checkpoint of a model that you expect to be exactly identical (initializing a BertForSequenceClassification model from a BertForSequenceClassification model).\n"
     ]
    }
   ],
   "source": [
    "model = XunFeiModel(20, 61)\n",
    "device = torch.device(\"cuda\" if torch.cuda.is_available() else \"cpu\")\n",
    "# device = 'cpu'\n",
    "model = model.to(device)"
   ]
  },
  {
   "cell_type": "code",
   "execution_count": 16,
   "id": "6e09ac6d-1230-49f1-a7a0-43a0cad6ab62",
   "metadata": {
    "execution": {
     "iopub.execute_input": "2022-06-14T10:00:02.671370Z",
     "iopub.status.busy": "2022-06-14T10:00:02.670780Z",
     "iopub.status.idle": "2022-06-14T10:00:02.677703Z",
     "shell.execute_reply": "2022-06-14T10:00:02.676923Z",
     "shell.execute_reply.started": "2022-06-14T10:00:02.671323Z"
    },
    "tags": []
   },
   "outputs": [],
   "source": [
    "from torch.nn import CrossEntropyLoss\n",
    "from torch.optim import AdamW\n",
    "\n",
    "loss_fn = CrossEntropyLoss()\n",
    "optim = AdamW(model.parameters(), lr=5e-5)"
   ]
  },
  {
   "cell_type": "code",
   "execution_count": 17,
   "id": "27bb9435-f9e4-470f-9df5-77a685dd5ecb",
   "metadata": {
    "execution": {
     "iopub.execute_input": "2022-06-14T10:00:04.551775Z",
     "iopub.status.busy": "2022-06-14T10:00:04.551200Z",
     "iopub.status.idle": "2022-06-14T10:00:04.570826Z",
     "shell.execute_reply": "2022-06-14T10:00:04.570117Z",
     "shell.execute_reply.started": "2022-06-14T10:00:04.551745Z"
    },
    "tags": []
   },
   "outputs": [],
   "source": [
    "def train():\n",
    "    model.train()\n",
    "    total_train_loss = 0\n",
    "    iter_num = 0\n",
    "    total_iter = len(train_loader)\n",
    "    for batch in train_loader:\n",
    "        # 正向传播\n",
    "        optim.zero_grad()\n",
    "        \n",
    "        input_ids = batch['input_ids'].to(device)\n",
    "        attention_mask = batch['attention_mask'].to(device)\n",
    "        label_i = batch['label_i'].to(device)\n",
    "        label_j = batch['label_j'].to(device)\n",
    "\n",
    "        pred_i, pred_j = model(\n",
    "            input_ids, \n",
    "            attention_mask\n",
    "        )\n",
    "        \n",
    "        valid = label_j != -1\n",
    "        loss = loss_fn(pred_i, label_i)  + loss_fn(pred_j[valid], label_j[valid])\n",
    "        # 反向梯度信息\n",
    "        loss.backward()\n",
    "        torch.nn.utils.clip_grad_norm_(model.parameters(), 1.0)\n",
    "        \n",
    "        # 参数更新\n",
    "        optim.step()\n",
    "\n",
    "        iter_num += 1\n",
    "        \n",
    "        if(iter_num % 100 == 0):\n",
    "            print(\"iter_num: %d, loss: %.4f, %.2f%% %.4f / %.4f\" % (\n",
    "                iter_num, loss.item(), iter_num/total_iter*100, \n",
    "                (pred_i.argmax(1) == label_i).float().data.cpu().numpy().mean(),\n",
    "                (pred_j[valid].argmax(1) == label_j[valid]).float().data.cpu().numpy().mean()\n",
    "            ))\n",
    "\n",
    "def validation():\n",
    "    model.eval()\n",
    "    label_i_acc, label_j_acc = 0, 0\n",
    "    for batch in val_dataloader:\n",
    "        with torch.no_grad():\n",
    "            input_ids = batch['input_ids'].to(device)\n",
    "            attention_mask = batch['attention_mask'].to(device)\n",
    "            label_i = batch['label_i'].to(device)\n",
    "            label_j = batch['label_j'].to(device)\n",
    "\n",
    "            pred_i, pred_j = model(\n",
    "                input_ids, \n",
    "                attention_mask\n",
    "            )\n",
    "    \n",
    "            valid = label_j != -1\n",
    "            label_i_acc += (pred_i.argmax(1) == label_i).float().sum().item()\n",
    "            label_j_acc += (pred_j[valid].argmax(1) == label_j[valid]).float().sum().item()\n",
    "    \n",
    "    label_i_acc = label_i_acc / len(val_dataloader.dataset)\n",
    "    label_j_acc = label_j_acc / len(val_dataloader.dataset)\n",
    "\n",
    "    print(\"-------------------------------\")\n",
    "    print(\"Accuracy: %.4f / %.4f\" % (label_i_acc, label_j_acc))\n",
    "    print(\"-------------------------------\")"
   ]
  },
  {
   "cell_type": "code",
   "execution_count": 19,
   "id": "15cbae55-44e6-442e-b10c-f3ce77444873",
   "metadata": {
    "execution": {
     "iopub.execute_input": "2022-06-14T10:00:42.318298Z",
     "iopub.status.busy": "2022-06-14T10:00:42.317709Z",
     "iopub.status.idle": "2022-06-14T10:00:42.327209Z",
     "shell.execute_reply": "2022-06-14T10:00:42.326545Z",
     "shell.execute_reply.started": "2022-06-14T10:00:42.318248Z"
    },
    "tags": []
   },
   "outputs": [],
   "source": [
    "def prediction():\n",
    "    model.eval()\n",
    "    test_label_i = []\n",
    "    test_label_j = []\n",
    "    for batch in test_dataloader:\n",
    "        with torch.no_grad():\n",
    "            input_ids = batch['input_ids'].to(device)\n",
    "            attention_mask = batch['attention_mask'].to(device)\n",
    "            label_i = batch['label_i'].to(device)\n",
    "            label_j = batch['label_j'].to(device)\n",
    "\n",
    "            pred_i, pred_j = model(input_ids, attention_mask)\n",
    "            test_label_i += list(pred_i.argmax(1).data.cpu().numpy())\n",
    "            test_label_j += list(pred_j.argmax(1).data.cpu().numpy())\n",
    "    return test_label_i, test_label_j"
   ]
  },
  {
   "cell_type": "code",
   "execution_count": 20,
   "id": "25f447b8-8e12-4b32-b641-bae018d00d50",
   "metadata": {
    "execution": {
     "iopub.execute_input": "2022-06-14T10:00:45.359830Z",
     "iopub.status.busy": "2022-06-14T10:00:45.359242Z",
     "iopub.status.idle": "2022-06-14T10:16:57.657378Z",
     "shell.execute_reply": "2022-06-14T10:16:57.656081Z",
     "shell.execute_reply.started": "2022-06-14T10:00:45.359779Z"
    },
    "tags": []
   },
   "outputs": [
    {
     "name": "stdout",
     "output_type": "stream",
     "text": [
      "iter_num: 100, loss: 3.6886, 7.32% 0.6875 / 0.2000\n",
      "iter_num: 200, loss: 2.2102, 14.63% 0.6875 / 0.6250\n",
      "iter_num: 300, loss: 1.3897, 21.95% 0.8750 / 0.8000\n",
      "iter_num: 400, loss: 1.8933, 29.26% 0.8750 / 0.6364\n",
      "iter_num: 500, loss: 4.0554, 36.58% 0.7500 / 0.1429\n",
      "iter_num: 700, loss: 1.2060, 51.21% 1.0000 / 0.5000\n",
      "iter_num: 800, loss: 2.3983, 58.52% 0.8125 / 0.6000\n",
      "iter_num: 900, loss: 2.0160, 65.84% 0.7500 / 0.5714\n",
      "iter_num: 1000, loss: 1.2156, 73.15% 0.8125 / 0.8750\n",
      "iter_num: 1100, loss: 2.0317, 80.47% 0.6250 / 0.6250\n",
      "iter_num: 1200, loss: 1.5509, 87.78% 0.8125 / 0.7143\n",
      "iter_num: 1300, loss: 1.1967, 95.10% 0.8750 / 0.7000\n",
      "-------------------------------\n",
      "Accuracy: 0.8190 / 0.4010\n",
      "-------------------------------\n",
      "iter_num: 100, loss: 1.0110, 7.32% 0.9375 / 0.8000\n",
      "iter_num: 200, loss: 2.0781, 14.63% 0.7500 / 0.6250\n",
      "iter_num: 300, loss: 0.3355, 21.95% 1.0000 / 1.0000\n",
      "iter_num: 400, loss: 0.4487, 29.26% 0.9375 / 0.9091\n",
      "iter_num: 500, loss: 2.8435, 36.58% 0.8125 / 0.4286\n",
      "iter_num: 600, loss: 1.0412, 43.89% 0.8750 / 0.7273\n",
      "iter_num: 700, loss: 0.6170, 51.21% 1.0000 / 0.6667\n",
      "iter_num: 800, loss: 2.3933, 58.52% 0.8125 / 0.6000\n",
      "iter_num: 900, loss: 0.9306, 65.84% 0.8125 / 0.8571\n",
      "iter_num: 1000, loss: 0.4666, 73.15% 0.8750 / 1.0000\n",
      "iter_num: 1100, loss: 2.0093, 80.47% 0.7500 / 0.7500\n",
      "iter_num: 1200, loss: 1.2239, 87.78% 0.8750 / 0.7143\n",
      "iter_num: 1300, loss: 0.6690, 95.10% 0.8750 / 1.0000\n",
      "-------------------------------\n",
      "Accuracy: 0.8170 / 0.4120\n",
      "-------------------------------\n",
      "iter_num: 100, loss: 1.4034, 7.32% 0.8125 / 0.7000\n",
      "iter_num: 200, loss: 1.1768, 14.63% 0.8125 / 0.8750\n",
      "iter_num: 300, loss: 0.3112, 21.95% 0.9375 / 1.0000\n",
      "iter_num: 400, loss: 0.2014, 29.26% 1.0000 / 1.0000\n"
     ]
    },
    {
     "ename": "KeyboardInterrupt",
     "evalue": "",
     "output_type": "error",
     "traceback": [
      "\u001b[0;31m---------------------------------------------------------------------------\u001b[0m",
      "\u001b[0;31mKeyboardInterrupt\u001b[0m                         Traceback (most recent call last)",
      "\u001b[0;32m<ipython-input-20-82473913e410>\u001b[0m in \u001b[0;36m<module>\u001b[0;34m\u001b[0m\n\u001b[1;32m      1\u001b[0m \u001b[0;32mfor\u001b[0m \u001b[0mepoch\u001b[0m \u001b[0;32min\u001b[0m \u001b[0mrange\u001b[0m\u001b[0;34m(\u001b[0m\u001b[0;36m10\u001b[0m\u001b[0;34m)\u001b[0m\u001b[0;34m:\u001b[0m\u001b[0;34m\u001b[0m\u001b[0;34m\u001b[0m\u001b[0m\n\u001b[0;32m----> 2\u001b[0;31m     \u001b[0mtrain\u001b[0m\u001b[0;34m(\u001b[0m\u001b[0;34m)\u001b[0m\u001b[0;34m\u001b[0m\u001b[0;34m\u001b[0m\u001b[0m\n\u001b[0m\u001b[1;32m      3\u001b[0m     \u001b[0mvalidation\u001b[0m\u001b[0;34m(\u001b[0m\u001b[0;34m)\u001b[0m\u001b[0;34m\u001b[0m\u001b[0;34m\u001b[0m\u001b[0m\n\u001b[1;32m      4\u001b[0m \u001b[0;34m\u001b[0m\u001b[0m\n\u001b[1;32m      5\u001b[0m \u001b[0mtest_pred_i\u001b[0m\u001b[0;34m,\u001b[0m \u001b[0mtest_pred_j\u001b[0m \u001b[0;34m=\u001b[0m \u001b[0mprediction\u001b[0m\u001b[0;34m(\u001b[0m\u001b[0;34m)\u001b[0m\u001b[0;34m\u001b[0m\u001b[0;34m\u001b[0m\u001b[0m\n",
      "\u001b[0;32m<ipython-input-17-7f0ec38fcfe5>\u001b[0m in \u001b[0;36mtrain\u001b[0;34m()\u001b[0m\n\u001b[1;32m     21\u001b[0m         \u001b[0mloss\u001b[0m \u001b[0;34m=\u001b[0m \u001b[0mloss_fn\u001b[0m\u001b[0;34m(\u001b[0m\u001b[0mpred_i\u001b[0m\u001b[0;34m,\u001b[0m \u001b[0mlabel_i\u001b[0m\u001b[0;34m)\u001b[0m  \u001b[0;34m+\u001b[0m \u001b[0mloss_fn\u001b[0m\u001b[0;34m(\u001b[0m\u001b[0mpred_j\u001b[0m\u001b[0;34m[\u001b[0m\u001b[0mvalid\u001b[0m\u001b[0;34m]\u001b[0m\u001b[0;34m,\u001b[0m \u001b[0mlabel_j\u001b[0m\u001b[0;34m[\u001b[0m\u001b[0mvalid\u001b[0m\u001b[0;34m]\u001b[0m\u001b[0;34m)\u001b[0m\u001b[0;34m\u001b[0m\u001b[0;34m\u001b[0m\u001b[0m\n\u001b[1;32m     22\u001b[0m         \u001b[0;31m# 反向梯度信息\u001b[0m\u001b[0;34m\u001b[0m\u001b[0;34m\u001b[0m\u001b[0;34m\u001b[0m\u001b[0m\n\u001b[0;32m---> 23\u001b[0;31m         \u001b[0mloss\u001b[0m\u001b[0;34m.\u001b[0m\u001b[0mbackward\u001b[0m\u001b[0;34m(\u001b[0m\u001b[0;34m)\u001b[0m\u001b[0;34m\u001b[0m\u001b[0;34m\u001b[0m\u001b[0m\n\u001b[0m\u001b[1;32m     24\u001b[0m         \u001b[0mtorch\u001b[0m\u001b[0;34m.\u001b[0m\u001b[0mnn\u001b[0m\u001b[0;34m.\u001b[0m\u001b[0mutils\u001b[0m\u001b[0;34m.\u001b[0m\u001b[0mclip_grad_norm_\u001b[0m\u001b[0;34m(\u001b[0m\u001b[0mmodel\u001b[0m\u001b[0;34m.\u001b[0m\u001b[0mparameters\u001b[0m\u001b[0;34m(\u001b[0m\u001b[0;34m)\u001b[0m\u001b[0;34m,\u001b[0m \u001b[0;36m1.0\u001b[0m\u001b[0;34m)\u001b[0m\u001b[0;34m\u001b[0m\u001b[0;34m\u001b[0m\u001b[0m\n\u001b[1;32m     25\u001b[0m \u001b[0;34m\u001b[0m\u001b[0m\n",
      "\u001b[0;32m~/.local/lib/python3.6/site-packages/torch/tensor.py\u001b[0m in \u001b[0;36mbackward\u001b[0;34m(self, gradient, retain_graph, create_graph)\u001b[0m\n\u001b[1;32m    219\u001b[0m                 \u001b[0mretain_graph\u001b[0m\u001b[0;34m=\u001b[0m\u001b[0mretain_graph\u001b[0m\u001b[0;34m,\u001b[0m\u001b[0;34m\u001b[0m\u001b[0;34m\u001b[0m\u001b[0m\n\u001b[1;32m    220\u001b[0m                 create_graph=create_graph)\n\u001b[0;32m--> 221\u001b[0;31m         \u001b[0mtorch\u001b[0m\u001b[0;34m.\u001b[0m\u001b[0mautograd\u001b[0m\u001b[0;34m.\u001b[0m\u001b[0mbackward\u001b[0m\u001b[0;34m(\u001b[0m\u001b[0mself\u001b[0m\u001b[0;34m,\u001b[0m \u001b[0mgradient\u001b[0m\u001b[0;34m,\u001b[0m \u001b[0mretain_graph\u001b[0m\u001b[0;34m,\u001b[0m \u001b[0mcreate_graph\u001b[0m\u001b[0;34m)\u001b[0m\u001b[0;34m\u001b[0m\u001b[0;34m\u001b[0m\u001b[0m\n\u001b[0m\u001b[1;32m    222\u001b[0m \u001b[0;34m\u001b[0m\u001b[0m\n\u001b[1;32m    223\u001b[0m     \u001b[0;32mdef\u001b[0m \u001b[0mregister_hook\u001b[0m\u001b[0;34m(\u001b[0m\u001b[0mself\u001b[0m\u001b[0;34m,\u001b[0m \u001b[0mhook\u001b[0m\u001b[0;34m)\u001b[0m\u001b[0;34m:\u001b[0m\u001b[0;34m\u001b[0m\u001b[0;34m\u001b[0m\u001b[0m\n",
      "\u001b[0;32m~/.local/lib/python3.6/site-packages/torch/autograd/__init__.py\u001b[0m in \u001b[0;36mbackward\u001b[0;34m(tensors, grad_tensors, retain_graph, create_graph, grad_variables)\u001b[0m\n\u001b[1;32m    130\u001b[0m     Variable._execution_engine.run_backward(\n\u001b[1;32m    131\u001b[0m         \u001b[0mtensors\u001b[0m\u001b[0;34m,\u001b[0m \u001b[0mgrad_tensors_\u001b[0m\u001b[0;34m,\u001b[0m \u001b[0mretain_graph\u001b[0m\u001b[0;34m,\u001b[0m \u001b[0mcreate_graph\u001b[0m\u001b[0;34m,\u001b[0m\u001b[0;34m\u001b[0m\u001b[0;34m\u001b[0m\u001b[0m\n\u001b[0;32m--> 132\u001b[0;31m         allow_unreachable=True)  # allow_unreachable flag\n\u001b[0m\u001b[1;32m    133\u001b[0m \u001b[0;34m\u001b[0m\u001b[0m\n\u001b[1;32m    134\u001b[0m \u001b[0;34m\u001b[0m\u001b[0m\n",
      "\u001b[0;31mKeyboardInterrupt\u001b[0m: "
     ]
    }
   ],
   "source": [
    "for epoch in range(2):\n",
    "    train()\n",
    "    validation()\n",
    "    \n",
    "test_pred_i, test_pred_j = prediction()"
   ]
  },
  {
   "cell_type": "code",
   "execution_count": 21,
   "id": "c0c2433c-689d-40d3-8eb6-3850c27da50b",
   "metadata": {
    "execution": {
     "iopub.execute_input": "2022-06-14T10:17:02.919979Z",
     "iopub.status.busy": "2022-06-14T10:17:02.919391Z",
     "iopub.status.idle": "2022-06-14T10:17:48.475116Z",
     "shell.execute_reply": "2022-06-14T10:17:48.474206Z",
     "shell.execute_reply.started": "2022-06-14T10:17:02.919928Z"
    },
    "tags": []
   },
   "outputs": [],
   "source": [
    "test_pred_i, test_pred_j = prediction()\n",
    "\n",
    "test_submit['label_i'] = test_pred_i\n",
    "test_submit['label_j'] = test_pred_j\n",
    "\n",
    "test_submit.to_csv('bert_submit.csv', index=None)"
   ]
  },
  {
   "cell_type": "code",
   "execution_count": null,
   "id": "ddf3ee10-993d-4eaa-9336-db8c3a478b96",
   "metadata": {},
   "outputs": [],
   "source": []
  }
 ],
 "metadata": {
  "kernelspec": {
   "display_name": "Python 3.6 (ipykernel)",
   "language": "python",
   "name": "python3"
  },
  "language_info": {
   "codemirror_mode": {
    "name": "ipython",
    "version": 3
   },
   "file_extension": ".py",
   "mimetype": "text/x-python",
   "name": "python",
   "nbconvert_exporter": "python",
   "pygments_lexer": "ipython3",
   "version": "3.6.9"
  },
  "toc-autonumbering": true,
  "toc-showmarkdowntxt": false
 },
 "nbformat": 4,
 "nbformat_minor": 5
}
