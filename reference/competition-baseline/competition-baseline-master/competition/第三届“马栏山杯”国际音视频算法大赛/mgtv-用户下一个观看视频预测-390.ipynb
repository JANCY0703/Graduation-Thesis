{
 "cells": [
  {
   "cell_type": "markdown",
   "id": "9549c364-20c5-4adb-8a57-5bd08ffd1d3c",
   "metadata": {},
   "source": [
    "# 赛题介绍\n",
    "\n",
    "设法提高用户观看体验，是芒果TV平台的核心技术挑战之一，我们不断为此而努力！及时发现用户的兴趣和调整内容展示对于实现这一目标非常重要，在给定用户观影历史和上下文的行为的条件下，进行序列预测是一项非常重要且困难的推荐任务，本赛题将以此为背景，希望选手在真实样本数据集下建立出最优的序列预测模型。\n",
    "\n",
    "## 赛题任务\n",
    "\n",
    "根据大赛组织方提供的用户在芒果TV产生的行为，视频特征，标签特征等数据，构建模型，预测用户在芒果TV下一个时刻观看的视频。\n",
    "\n",
    "## 数据说明\n",
    "\n",
    "### 用户视频观看行为\n",
    "\n",
    "\n",
    "## 评估指标\n",
    "\n",
    "1. 评估指标是[MRR](https://en.wikipedia.org/wiki/Mean_reciprocal_rank)，将用户实际观看的视频排在更靠前的位置，将得到更高的分数。 \n",
    "2. 算力要求 \n",
    "    - 物理内存不超过256G，显存使用不超过11G。 \n",
    "    - 代码运行时间不超过24小时。未满足以上算力限制的参赛队伍，大赛官方有权将最终总成绩判定无效，排名由后一名依次递补。\n",
    "\n",
    "## 结果提交\n",
    "\n",
    "每个did提交用户最有可能观看的6个视频，从高到低进行排序 \n",
    "选手提交答案样例\n",
    "\n",
    "| did  | vid   | rank |\n",
    "| ---- | ----- | ---- |\n",
    "| Did1 | Vid1  | 1    |\n",
    "| Did1 | Vid3  | 2    |\n",
    "| Did1 | Vid4  | 3    |\n",
    "| Did1 | Vid7  | 4    |\n",
    "| Did1 | Vid2  | 5    |\n",
    "| Did1 | Vid5  | 6    |\n",
    "| Did2 | Vid6  | 1    |\n",
    "| Did2 | Vid7  | 2    |\n",
    "| Did2 | Vid10 | 3    |\n",
    "| Did2 | Vid32 | 4    |\n",
    "| Did2 | Vid8  | 5    |\n",
    "| Did2 | Vid9  | 6    |\n",
    "\n",
    "请选手将测试集的预测结果按照上述文件样式进行提交上传，文件格式为csv，did列表示为用户，vid列表示用户下一个时刻观看的视频, rank是排序位置\n",
    "\n",
    "## 比赛规则\n",
    "\n",
    "1. 每支队伍每天限提交3次结果； \n",
    "2. 比赛排行按照B榜最终得分从高到低排序（如出现相同分数，按照推理耗时从低到高排序）； \n",
    "3. B榜赛程结束后，排名前10的队伍需要提交方案设计说明书、算法源代码。大赛官方组织专家进行审核和必要的沟通询问。 \n",
    "4. 为防止作弊行为，主办方保留了部分未公开数据用于校验方案，如遇作弊行为，将取消选手成绩。\n",
    "\n",
    "## 奖项设置\n",
    "\n",
    "- 冠军：人民币240,000元\n",
    "- 亚军：人民币60,000元\n",
    "- 季军：人民币27,000元\n",
    "- 排名第4至10名：人民币5,000元\n",
    "\n"
   ]
  },
  {
   "cell_type": "markdown",
   "id": "9eb83efb-294c-411f-b265-3f3901815bea",
   "metadata": {},
   "source": [
    "# 数据读取"
   ]
  },
  {
   "cell_type": "code",
   "execution_count": 7,
   "id": "ee0db519-0883-4bfd-93aa-4f1d43d0584a",
   "metadata": {
    "execution": {
     "iopub.execute_input": "2022-07-02T01:20:06.441537Z",
     "iopub.status.busy": "2022-07-02T01:20:06.440960Z",
     "iopub.status.idle": "2022-07-02T01:20:06.573095Z",
     "shell.execute_reply": "2022-07-02T01:20:06.571594Z",
     "shell.execute_reply.started": "2022-07-02T01:20:06.441488Z"
    }
   },
   "outputs": [
    {
     "name": "stdout",
     "output_type": "stream",
     "text": [
      "总用量 552M\n",
      "-rw-r--r-- 1 lyz lyz 433K 6月  20 11:21 candidate_items_A.csv\n",
      "-rw-r--r-- 1 lyz lyz 507M 6月  20 11:19 main_vv_seq_train.csv\n",
      "-rw-r--r-- 1 lyz lyz  44M 6月  20 11:18 vid_info.csv\n"
     ]
    }
   ],
   "source": [
    "!ls ./data_v2/ -lh"
   ]
  },
  {
   "cell_type": "code",
   "execution_count": 3,
   "id": "8930f9e1-b454-4fc7-852d-483af2d401b4",
   "metadata": {
    "execution": {
     "iopub.execute_input": "2022-07-15T11:11:18.306034Z",
     "iopub.status.busy": "2022-07-15T11:11:18.305457Z",
     "iopub.status.idle": "2022-07-15T11:11:31.586579Z",
     "shell.execute_reply": "2022-07-15T11:11:31.586079Z",
     "shell.execute_reply.started": "2022-07-15T11:11:18.305985Z"
    },
    "tags": []
   },
   "outputs": [
    {
     "name": "stdout",
     "output_type": "stream",
     "text": [
      "Populating the interactive namespace from numpy and matplotlib\n"
     ]
    }
   ],
   "source": [
    "%pylab inline\n",
    "\n",
    "import os\n",
    "import sys\n",
    "import codecs\n",
    "import pandas as pd\n",
    "import numpy as np\n",
    "from tqdm import tqdm\n",
    "\n",
    "\n",
    "def read_data(path='data_v2/'):\n",
    "    vid_info = pd.read_csv(os.path.join(path, 'vid_info.csv'))\n",
    "    vid_info['stars'] = vid_info['stars'].apply(eval)\n",
    "    vid_info['tags'] = vid_info['tags'].apply(eval)\n",
    "    vid_info['key_word'] = vid_info['key_word'].apply(eval)\n",
    "    vid_info.sort_values(by=['cid', 'serialno'], inplace=True)\n",
    "    # vid_info.set_index('vid', inplace=True)\n",
    "\n",
    "    seq_train = pd.read_csv(os.path.join(path, 'main_vv_seq_train.csv'))\n",
    "    seq_train = seq_train.sort_values(by=['did', 'seq_no'])\n",
    "    seq_train.reset_index(inplace=True)\n",
    "\n",
    "    candidate_items = pd.read_csv(os.path.join(path, 'candidate_items_A.csv'))\n",
    "    return vid_info, seq_train, candidate_items\n",
    "\n",
    "\n",
    "vid_info, seq_train, candidate_items = read_data()\n",
    "\n",
    "seq_vid_train = pd.merge(seq_train, vid_info, on='vid', how='left')\n",
    "seq_vid_train['vts'] /= seq_vid_train['duration']\n",
    "seq_vid_train['hb'] /= seq_vid_train['duration']"
   ]
  },
  {
   "cell_type": "code",
   "execution_count": 2,
   "id": "30ba6807-0337-4fbe-b619-0d33a3e3efc9",
   "metadata": {
    "execution": {
     "iopub.execute_input": "2022-07-13T08:08:19.210091Z",
     "iopub.status.busy": "2022-07-13T08:08:19.209866Z",
     "iopub.status.idle": "2022-07-13T08:08:19.221494Z",
     "shell.execute_reply": "2022-07-13T08:08:19.221089Z",
     "shell.execute_reply.started": "2022-07-13T08:08:19.210075Z"
    },
    "tags": []
   },
   "outputs": [
    {
     "data": {
      "text/html": [
       "<div>\n",
       "<style scoped>\n",
       "    .dataframe tbody tr th:only-of-type {\n",
       "        vertical-align: middle;\n",
       "    }\n",
       "\n",
       "    .dataframe tbody tr th {\n",
       "        vertical-align: top;\n",
       "    }\n",
       "\n",
       "    .dataframe thead th {\n",
       "        text-align: right;\n",
       "    }\n",
       "</style>\n",
       "<table border=\"1\" class=\"dataframe\">\n",
       "  <thead>\n",
       "    <tr style=\"text-align: right;\">\n",
       "      <th></th>\n",
       "      <th>vid</th>\n",
       "      <th>cid</th>\n",
       "      <th>is_intact</th>\n",
       "      <th>serialno</th>\n",
       "      <th>classify_id</th>\n",
       "      <th>series_id</th>\n",
       "      <th>duration</th>\n",
       "      <th>title_length</th>\n",
       "      <th>upgc_flag</th>\n",
       "      <th>stars</th>\n",
       "      <th>tags</th>\n",
       "      <th>key_word</th>\n",
       "    </tr>\n",
       "  </thead>\n",
       "  <tbody>\n",
       "    <tr>\n",
       "      <th>30044</th>\n",
       "      <td>49ce55753d994b17146098553a787982</td>\n",
       "      <td>00049722020c746dbc9164e52a7833b4</td>\n",
       "      <td>1</td>\n",
       "      <td>1</td>\n",
       "      <td>50</td>\n",
       "      <td>0</td>\n",
       "      <td>345</td>\n",
       "      <td>38</td>\n",
       "      <td>0</td>\n",
       "      <td>[101031605, 101031603]</td>\n",
       "      <td>[105013965]</td>\n",
       "      <td>[189165, 369343, 747602, 407197, 865416, 24194...</td>\n",
       "    </tr>\n",
       "    <tr>\n",
       "      <th>30045</th>\n",
       "      <td>2773a834f086b3ce6eca919f27211752</td>\n",
       "      <td>00049722020c746dbc9164e52a7833b4</td>\n",
       "      <td>1</td>\n",
       "      <td>2</td>\n",
       "      <td>50</td>\n",
       "      <td>0</td>\n",
       "      <td>214</td>\n",
       "      <td>38</td>\n",
       "      <td>0</td>\n",
       "      <td>[101031605, 101031603]</td>\n",
       "      <td>[105013965]</td>\n",
       "      <td>[189165, 369343, 747602, 407197, 865416, 24194...</td>\n",
       "    </tr>\n",
       "  </tbody>\n",
       "</table>\n",
       "</div>"
      ],
      "text/plain": [
       "                                    vid                               cid  \\\n",
       "30044  49ce55753d994b17146098553a787982  00049722020c746dbc9164e52a7833b4   \n",
       "30045  2773a834f086b3ce6eca919f27211752  00049722020c746dbc9164e52a7833b4   \n",
       "\n",
       "       is_intact  serialno  classify_id  series_id  duration  title_length  \\\n",
       "30044          1         1           50          0       345            38   \n",
       "30045          1         2           50          0       214            38   \n",
       "\n",
       "       upgc_flag                   stars         tags  \\\n",
       "30044          0  [101031605, 101031603]  [105013965]   \n",
       "30045          0  [101031605, 101031603]  [105013965]   \n",
       "\n",
       "                                                key_word  \n",
       "30044  [189165, 369343, 747602, 407197, 865416, 24194...  \n",
       "30045  [189165, 369343, 747602, 407197, 865416, 24194...  "
      ]
     },
     "execution_count": 2,
     "metadata": {},
     "output_type": "execute_result"
    }
   ],
   "source": [
    "vid_info.head(2)"
   ]
  },
  {
   "cell_type": "code",
   "execution_count": 3,
   "id": "5d901468-775e-4530-8f1b-ec7e69453393",
   "metadata": {
    "execution": {
     "iopub.execute_input": "2022-07-13T08:08:19.222467Z",
     "iopub.status.busy": "2022-07-13T08:08:19.222301Z",
     "iopub.status.idle": "2022-07-13T08:08:19.293402Z",
     "shell.execute_reply": "2022-07-13T08:08:19.292926Z",
     "shell.execute_reply.started": "2022-07-13T08:08:19.222452Z"
    },
    "tags": []
   },
   "outputs": [
    {
     "data": {
      "text/html": [
       "<div>\n",
       "<style scoped>\n",
       "    .dataframe tbody tr th:only-of-type {\n",
       "        vertical-align: middle;\n",
       "    }\n",
       "\n",
       "    .dataframe tbody tr th {\n",
       "        vertical-align: top;\n",
       "    }\n",
       "\n",
       "    .dataframe thead th {\n",
       "        text-align: right;\n",
       "    }\n",
       "</style>\n",
       "<table border=\"1\" class=\"dataframe\">\n",
       "  <thead>\n",
       "    <tr style=\"text-align: right;\">\n",
       "      <th></th>\n",
       "      <th>index</th>\n",
       "      <th>did</th>\n",
       "      <th>vid</th>\n",
       "      <th>vts</th>\n",
       "      <th>hb</th>\n",
       "      <th>seq_no</th>\n",
       "      <th>cpn</th>\n",
       "      <th>fpn</th>\n",
       "      <th>time_gap</th>\n",
       "    </tr>\n",
       "  </thead>\n",
       "  <tbody>\n",
       "    <tr>\n",
       "      <th>0</th>\n",
       "      <td>2696560</td>\n",
       "      <td>0000d0aabe8c188f88c756ce0f7f9639</td>\n",
       "      <td>f87cf2ad695b4bb5dd830ae40bf29475</td>\n",
       "      <td>44.0</td>\n",
       "      <td>3286.0</td>\n",
       "      <td>1.0</td>\n",
       "      <td>1</td>\n",
       "      <td>130</td>\n",
       "      <td>NaN</td>\n",
       "    </tr>\n",
       "    <tr>\n",
       "      <th>1</th>\n",
       "      <td>2696559</td>\n",
       "      <td>0000d0aabe8c188f88c756ce0f7f9639</td>\n",
       "      <td>fde2b2a62fb6061e4a958fb0b78c0293</td>\n",
       "      <td>1260.0</td>\n",
       "      <td>3698.0</td>\n",
       "      <td>2.0</td>\n",
       "      <td>1</td>\n",
       "      <td>130</td>\n",
       "      <td>108.0</td>\n",
       "    </tr>\n",
       "  </tbody>\n",
       "</table>\n",
       "</div>"
      ],
      "text/plain": [
       "     index                               did  \\\n",
       "0  2696560  0000d0aabe8c188f88c756ce0f7f9639   \n",
       "1  2696559  0000d0aabe8c188f88c756ce0f7f9639   \n",
       "\n",
       "                                vid     vts      hb  seq_no  cpn  fpn  \\\n",
       "0  f87cf2ad695b4bb5dd830ae40bf29475    44.0  3286.0     1.0    1  130   \n",
       "1  fde2b2a62fb6061e4a958fb0b78c0293  1260.0  3698.0     2.0    1  130   \n",
       "\n",
       "   time_gap  \n",
       "0       NaN  \n",
       "1     108.0  "
      ]
     },
     "execution_count": 3,
     "metadata": {},
     "output_type": "execute_result"
    }
   ],
   "source": [
    "seq_train.head(2)"
   ]
  },
  {
   "cell_type": "code",
   "execution_count": 4,
   "id": "cee62a4e-df4e-4276-abdb-f94cd2b35d25",
   "metadata": {
    "execution": {
     "iopub.execute_input": "2022-07-13T08:08:19.294575Z",
     "iopub.status.busy": "2022-07-13T08:08:19.294321Z",
     "iopub.status.idle": "2022-07-13T08:08:19.364725Z",
     "shell.execute_reply": "2022-07-13T08:08:19.364006Z",
     "shell.execute_reply.started": "2022-07-13T08:08:19.294557Z"
    },
    "tags": []
   },
   "outputs": [
    {
     "data": {
      "text/html": [
       "<div>\n",
       "<style scoped>\n",
       "    .dataframe tbody tr th:only-of-type {\n",
       "        vertical-align: middle;\n",
       "    }\n",
       "\n",
       "    .dataframe tbody tr th {\n",
       "        vertical-align: top;\n",
       "    }\n",
       "\n",
       "    .dataframe thead th {\n",
       "        text-align: right;\n",
       "    }\n",
       "</style>\n",
       "<table border=\"1\" class=\"dataframe\">\n",
       "  <thead>\n",
       "    <tr style=\"text-align: right;\">\n",
       "      <th></th>\n",
       "      <th>vid</th>\n",
       "    </tr>\n",
       "  </thead>\n",
       "  <tbody>\n",
       "    <tr>\n",
       "      <th>0</th>\n",
       "      <td>5bc78a50602b520bb3f6c87e3c542f1c</td>\n",
       "    </tr>\n",
       "    <tr>\n",
       "      <th>1</th>\n",
       "      <td>73e37445d73561ffdf0711a3ffe4ca25</td>\n",
       "    </tr>\n",
       "  </tbody>\n",
       "</table>\n",
       "</div>"
      ],
      "text/plain": [
       "                                vid\n",
       "0  5bc78a50602b520bb3f6c87e3c542f1c\n",
       "1  73e37445d73561ffdf0711a3ffe4ca25"
      ]
     },
     "execution_count": 4,
     "metadata": {},
     "output_type": "execute_result"
    }
   ],
   "source": [
    "candidate_items.head(2)"
   ]
  },
  {
   "cell_type": "markdown",
   "id": "046f114a-048a-40b6-ba84-4f78f4df37cd",
   "metadata": {},
   "source": [
    "# 数据分析"
   ]
  },
  {
   "cell_type": "markdown",
   "id": "6aac63da-a25d-46e6-bcec-762a9ca7da58",
   "metadata": {},
   "source": [
    "## 视频信息表\n",
    "\n",
    "| 字段        | 说明           | 示例                                                  | 备注                          |\n",
    "| ----------- | -------------- | ----------------------------------------------------- | ----------------------------- |\n",
    "| vid         | 视频id         | 239fa8776d81792a7477053184e7d6af                      | string                        |\n",
    "| cid         | 合集id         | 9f84a64963ac7f263f56168b9b0819dc                      | string                        |\n",
    "| Is_intact   | 视频类型       | 1                                                     | int                           |\n",
    "| serialno    | 集号           | 1                                                     | int                           |\n",
    "| series_id   | 系列id         | 0                                                     | int                           |\n",
    "| duration    | 视频时长       | 1200                                                  | int                           |\n",
    "| title_len   | 标题长度       | 30                                                    | int                           |\n",
    "| upgc_flag   | upgc标识       | 0/1                                                   | int                           |\n",
    "| classify_id | 频道类型       | 3                                                     | int(表示电影，电视剧，动漫等) |\n",
    "| stars       | 包含的明星集合 | [101000001, 101000002, 101000005, 101000004,........] | array                         |\n",
    "| keywords    | 关键词         | [0,4,5,78,9]                                          | array                         |\n",
    "| tags        | 视频标签集合   | [201000001, 301000002, 401000005, 201000004,........] | array      "
   ]
  },
  {
   "cell_type": "markdown",
   "id": "c447442f-e1a1-48b2-b3cf-ae0849457131",
   "metadata": {},
   "source": [
    "## 用户视频观看行为\n",
    "\n",
    "| 字段     | 说明                          | 示例                             | 数据类型 |\n",
    "| -------- | ----------------------------- | -------------------------------- | -------- |\n",
    "| did      | 用户设备id                    | e55947fb8d27288721bbaaf90aea4766 | string   |\n",
    "| vid      | 视频id                        | 239fa8776d81792a7477053184e7d6af | string   |\n",
    "| vts      | 用户观看vid的播放时长         | 20                               | int      |\n",
    "| hb       | 用户最后一次观看vid的进度时长 | 50                               | int      |\n",
    "| seq_no   | 用户观看视频行为的序列号      | 1                                | int      |\n",
    "| time_gap | 距离上一次观看视频的时间间隔  | 30                               | int      |\n",
    "| cpn      | 当前页面类型                  | 12                               | int      |\n",
    "| fpn      | 上一次跳转页面类型            | 1                                | int      |"
   ]
  },
  {
   "cell_type": "code",
   "execution_count": 10,
   "id": "13a8db60-e7e9-4c0f-b363-33470969e7c9",
   "metadata": {
    "execution": {
     "iopub.execute_input": "2022-07-13T08:08:57.411511Z",
     "iopub.status.busy": "2022-07-13T08:08:57.410902Z",
     "iopub.status.idle": "2022-07-13T08:08:58.060470Z",
     "shell.execute_reply": "2022-07-13T08:08:58.059781Z",
     "shell.execute_reply.started": "2022-07-13T08:08:57.411460Z"
    },
    "tags": []
   },
   "outputs": [
    {
     "data": {
      "text/plain": [
       "<AxesSubplot:ylabel='Frequency'>"
      ]
     },
     "execution_count": 10,
     "metadata": {},
     "output_type": "execute_result"
    },
    {
     "data": {
      "image/png": "[encoded data removed]",
      "text/plain": [
       "<Figure size 432x288 with 1 Axes>"
      ]
     },
     "metadata": {
      "needs_background": "light"
     },
     "output_type": "display_data"
    }
   ],
   "source": [
    "# 每个用户查看视频的vid的个数\n",
    "seq_vid_train['did'].value_counts().plot(kind='hist', bins=100)"
   ]
  },
  {
   "cell_type": "code",
   "execution_count": 11,
   "id": "3e613216-b680-47ba-908b-91c08a3c62d2",
   "metadata": {
    "execution": {
     "iopub.execute_input": "2022-07-13T08:08:59.151690Z",
     "iopub.status.busy": "2022-07-13T08:08:59.151068Z",
     "iopub.status.idle": "2022-07-13T08:09:00.890760Z",
     "shell.execute_reply": "2022-07-13T08:09:00.890289Z",
     "shell.execute_reply.started": "2022-07-13T08:08:59.151639Z"
    },
    "tags": []
   },
   "outputs": [
    {
     "data": {
      "text/plain": [
       "<AxesSubplot:ylabel='Frequency'>"
      ]
     },
     "execution_count": 11,
     "metadata": {},
     "output_type": "execute_result"
    },
    {
     "data": {
      "image/png": "[encoded data removed]",
      "text/plain": [
       "<Figure size 432x288 with 1 Axes>"
      ]
     },
     "metadata": {
      "needs_background": "light"
     },
     "output_type": "display_data"
    }
   ],
   "source": [
    "# 每个用户查看视频的cid的个数\n",
    "seq_vid_train.groupby('did')['cid'].nunique().plot(kind='hist', bins=100)"
   ]
  },
  {
   "cell_type": "code",
   "execution_count": 12,
   "id": "6a239297-4edb-4747-9057-de333ab38778",
   "metadata": {
    "execution": {
     "iopub.execute_input": "2022-07-13T08:09:00.891870Z",
     "iopub.status.busy": "2022-07-13T08:09:00.891688Z",
     "iopub.status.idle": "2022-07-13T08:09:02.027933Z",
     "shell.execute_reply": "2022-07-13T08:09:02.027442Z",
     "shell.execute_reply.started": "2022-07-13T08:09:00.891853Z"
    },
    "tags": []
   },
   "outputs": [
    {
     "data": {
      "text/plain": [
       "<AxesSubplot:ylabel='Frequency'>"
      ]
     },
     "execution_count": 12,
     "metadata": {},
     "output_type": "execute_result"
    },
    {
     "data": {
      "image/png": "[encoded data removed]",
      "text/plain": [
       "<Figure size 432x288 with 1 Axes>"
      ]
     },
     "metadata": {
      "needs_background": "light"
     },
     "output_type": "display_data"
    }
   ],
   "source": [
    "# 每个用户查看视频的series_id的个数\n",
    "seq_vid_train.groupby('did')['series_id'].nunique().plot(\n",
    "    kind='hist', bins=100)"
   ]
  },
  {
   "cell_type": "code",
   "execution_count": 13,
   "id": "790bc53f-f116-4c4c-af3b-3cabe5059855",
   "metadata": {
    "execution": {
     "iopub.execute_input": "2022-07-13T08:09:02.029165Z",
     "iopub.status.busy": "2022-07-13T08:09:02.028985Z",
     "iopub.status.idle": "2022-07-13T08:09:03.385158Z",
     "shell.execute_reply": "2022-07-13T08:09:03.384677Z",
     "shell.execute_reply.started": "2022-07-13T08:09:02.029148Z"
    },
    "tags": []
   },
   "outputs": [
    {
     "data": {
      "text/plain": [
       "dd4ad1276e13603b6a15704295ba6ec8    0.476768\n",
       "0cc56b6914c87d906b23e6d90cd4f65e    0.359648\n",
       "815a870db0d94166e330ae97f7068de2    0.225529\n",
       "db978f94b983a6ed3021e1e927ee09ef    0.199913\n",
       "7d697b54355da49d2a6949e9969bf828    0.196432\n",
       "                                      ...   \n",
       "2e0b8a702cb0edbf0ceb7a8f623401b0    0.000006\n",
       "78e73c5dabb7df3875e0ec103e2336c9    0.000006\n",
       "99300ebe9c68d78e17fec043408c1d85    0.000006\n",
       "aa7368c717080d5f1a7f3f6c3bac08fe    0.000006\n",
       "a84a780911a583e8e62fce0f90d4e1c1    0.000006\n",
       "Name: vid, Length: 147074, dtype: float64"
      ]
     },
     "execution_count": 13,
     "metadata": {},
     "output_type": "execute_result"
    }
   ],
   "source": [
    "# 热门vid拥有更多的观看率\n",
    "seq_vid_train['vid'].value_counts() / seq_vid_train['did'].nunique()"
   ]
  },
  {
   "cell_type": "markdown",
   "id": "71e248e9-27c1-4335-8397-3985d8a8b606",
   "metadata": {
    "tags": []
   },
   "source": [
    "# 用户行为划分\n",
    "\n",
    "- 用户历史都观看同一个cid、series_id的视频，且视频序列中 serialno 不断增加，用户占比4%\n",
    "\n",
    "- 用户最近观看cid、series_id的视频\n",
    "    - 存在跳serialno观看的行为\n",
    "    - 中间有查看其他cid、series_id的视频\n",
    "\n",
    "\n",
    "- 用户最近观看cid、series_id的视频，看完了所有的serialno\n",
    "    - 看完了再次重头看\n",
    "    - 看新的视频\n",
    "    \n",
    "# 召回策略\n",
    "\n",
    "1. 使用vid关联规则【统计】\n",
    "    - 计算与最后vid关联性最大的下一个vid；\n",
    "    - 计算与最后5个vid关联性最大的下一个vid；\n",
    "    - 计算与历史观看时间最长的vid关联性最大的下一个vid；\n",
    "2. 使用vid计算词向量相似度\n"
   ]
  },
  {
   "cell_type": "markdown",
   "id": "ee8e513b-d894-4fe8-9163-c40d7e9ec76e",
   "metadata": {},
   "source": [
    "# 本地验证集划分"
   ]
  },
  {
   "cell_type": "code",
   "execution_count": 9,
   "id": "67932458-5e1b-4b48-a245-5e4755581835",
   "metadata": {
    "execution": {
     "iopub.execute_input": "2022-07-13T08:08:45.168745Z",
     "iopub.status.busy": "2022-07-13T08:08:45.168095Z",
     "iopub.status.idle": "2022-07-13T08:08:47.576721Z",
     "shell.execute_reply": "2022-07-13T08:08:47.576226Z",
     "shell.execute_reply.started": "2022-07-13T08:08:45.168691Z"
    },
    "tags": []
   },
   "outputs": [],
   "source": [
    "\n",
    "\n",
    "# seq_vid_train.drop(['cpn', 'fpn', 'is_intact', 'title_length', 'duration',\n",
    "#                     'upgc_flag', 'stars', 'tags', 'key_word'], axis=1, inplace=True)\n",
    "\n",
    "# vid 本身特征\n",
    "# seq_train_info['vid_freq'] = seq_train_info['vid'].map(\n",
    "#     seq_train_info['vid'].value_counts())\n",
    "\n",
    "# seq_train_info['cid_max'] = seq_train_info['cid'].map(\n",
    "#     vid_info.groupby('cid')['serialno'].max())"
   ]
  },
  {
   "cell_type": "code",
   "execution_count": 4,
   "id": "fab1427c-ff6b-454e-80d8-5ab13eec2680",
   "metadata": {
    "execution": {
     "iopub.execute_input": "2022-07-15T11:11:31.587546Z",
     "iopub.status.busy": "2022-07-15T11:11:31.587372Z",
     "iopub.status.idle": "2022-07-15T11:11:36.367266Z",
     "shell.execute_reply": "2022-07-15T11:11:36.366640Z",
     "shell.execute_reply.started": "2022-07-15T11:11:31.587530Z"
    },
    "scrolled": true,
    "tags": []
   },
   "outputs": [],
   "source": [
    "did_max_seq_no = seq_vid_train.groupby('did')['seq_no'].max().reset_index()\n",
    "seq_local_valid = pd.merge(seq_vid_train, did_max_seq_no, on=['did', 'seq_no'])\n",
    "seq_local_train = seq_vid_train[~seq_vid_train['index'].isin(\n",
    "    seq_local_valid['index'])]\n",
    "\n",
    "seq_local_valid.set_index('did', inplace=True)"
   ]
  },
  {
   "cell_type": "code",
   "execution_count": 15,
   "id": "018021c5-c75c-4f79-bba2-a3a44301bffc",
   "metadata": {
    "execution": {
     "iopub.execute_input": "2022-07-13T08:09:23.690561Z",
     "iopub.status.busy": "2022-07-13T08:09:23.690320Z",
     "iopub.status.idle": "2022-07-13T08:09:23.754348Z",
     "shell.execute_reply": "2022-07-13T08:09:23.753332Z",
     "shell.execute_reply.started": "2022-07-13T08:09:23.690544Z"
    },
    "tags": []
   },
   "outputs": [
    {
     "data": {
      "text/plain": [
       "index                                                      537809\n",
       "vid                              50999680985c2e4b8e1ca38a23496571\n",
       "vts                                                      0.749654\n",
       "hb                                                       0.903926\n",
       "seq_no                                                         18\n",
       "cpn                                                             1\n",
       "fpn                                                            68\n",
       "time_gap                                                     1751\n",
       "cid                              644de3dce40c823149df609c0dde5b6d\n",
       "is_intact                                                       1\n",
       "serialno                                                       11\n",
       "classify_id                                                     1\n",
       "series_id                                                       0\n",
       "duration                                                     6495\n",
       "title_length                                                   97\n",
       "upgc_flag                                                       0\n",
       "stars           [101006331, 101027454, 101000262, 101002467, 1...\n",
       "tags                                                           []\n",
       "key_word        [501744, 247760, 226997, 574583, 613625, 49686...\n",
       "Name: 0002bcdd4bbf19b44c9badc817b160ed, dtype: object"
      ]
     },
     "execution_count": 15,
     "metadata": {},
     "output_type": "execute_result"
    }
   ],
   "source": [
    "seq_local_valid.loc['0002bcdd4bbf19b44c9badc817b160ed']"
   ]
  },
  {
   "cell_type": "code",
   "execution_count": 16,
   "id": "749308e4-3110-4f34-9ceb-9fd7ab7e1dc5",
   "metadata": {
    "execution": {
     "iopub.execute_input": "2022-07-13T08:09:23.755376Z",
     "iopub.status.busy": "2022-07-13T08:09:23.755190Z",
     "iopub.status.idle": "2022-07-13T08:09:24.526515Z",
     "shell.execute_reply": "2022-07-13T08:09:24.525406Z",
     "shell.execute_reply.started": "2022-07-13T08:09:23.755360Z"
    },
    "tags": []
   },
   "outputs": [
    {
     "data": {
      "text/plain": [
       "((170909, 19), (5425504, 20), (5596413, 20))"
      ]
     },
     "execution_count": 16,
     "metadata": {},
     "output_type": "execute_result"
    }
   ],
   "source": [
    "seq_local_valid.shape, seq_local_train.shape, seq_vid_train.shape"
   ]
  },
  {
   "cell_type": "code",
   "execution_count": 17,
   "id": "c5fc2871-6a1e-4d2d-8e57-99cf66a975f2",
   "metadata": {
    "execution": {
     "iopub.execute_input": "2022-07-13T08:09:26.365297Z",
     "iopub.status.busy": "2022-07-13T08:09:26.364715Z",
     "iopub.status.idle": "2022-07-13T08:09:26.406342Z",
     "shell.execute_reply": "2022-07-13T08:09:26.405770Z",
     "shell.execute_reply.started": "2022-07-13T08:09:26.365248Z"
    },
    "tags": []
   },
   "outputs": [],
   "source": [
    "hot20 = seq_local_valid['vid'].value_counts().head(50).index\n",
    "hot20 = list(hot20)"
   ]
  },
  {
   "cell_type": "code",
   "execution_count": 18,
   "id": "18038ac1-41b5-4a47-936b-bb820dfff152",
   "metadata": {
    "execution": {
     "iopub.execute_input": "2022-07-13T08:09:28.150754Z",
     "iopub.status.busy": "2022-07-13T08:09:28.150162Z",
     "iopub.status.idle": "2022-07-13T08:09:28.167186Z",
     "shell.execute_reply": "2022-07-13T08:09:28.166638Z",
     "shell.execute_reply.started": "2022-07-13T08:09:28.150703Z"
    },
    "tags": []
   },
   "outputs": [
    {
     "data": {
      "text/html": [
       "<div>\n",
       "<style scoped>\n",
       "    .dataframe tbody tr th:only-of-type {\n",
       "        vertical-align: middle;\n",
       "    }\n",
       "\n",
       "    .dataframe tbody tr th {\n",
       "        vertical-align: top;\n",
       "    }\n",
       "\n",
       "    .dataframe thead th {\n",
       "        text-align: right;\n",
       "    }\n",
       "</style>\n",
       "<table border=\"1\" class=\"dataframe\">\n",
       "  <thead>\n",
       "    <tr style=\"text-align: right;\">\n",
       "      <th></th>\n",
       "      <th>index</th>\n",
       "      <th>did</th>\n",
       "      <th>vid</th>\n",
       "      <th>vts</th>\n",
       "      <th>hb</th>\n",
       "      <th>seq_no</th>\n",
       "      <th>cpn</th>\n",
       "      <th>fpn</th>\n",
       "      <th>time_gap</th>\n",
       "    </tr>\n",
       "  </thead>\n",
       "  <tbody>\n",
       "    <tr>\n",
       "      <th>0</th>\n",
       "      <td>2696560</td>\n",
       "      <td>0000d0aabe8c188f88c756ce0f7f9639</td>\n",
       "      <td>f87cf2ad695b4bb5dd830ae40bf29475</td>\n",
       "      <td>44.0</td>\n",
       "      <td>3286.0</td>\n",
       "      <td>1.0</td>\n",
       "      <td>1</td>\n",
       "      <td>130</td>\n",
       "      <td>NaN</td>\n",
       "    </tr>\n",
       "    <tr>\n",
       "      <th>1</th>\n",
       "      <td>2696559</td>\n",
       "      <td>0000d0aabe8c188f88c756ce0f7f9639</td>\n",
       "      <td>fde2b2a62fb6061e4a958fb0b78c0293</td>\n",
       "      <td>1260.0</td>\n",
       "      <td>3698.0</td>\n",
       "      <td>2.0</td>\n",
       "      <td>1</td>\n",
       "      <td>130</td>\n",
       "      <td>108.0</td>\n",
       "    </tr>\n",
       "    <tr>\n",
       "      <th>2</th>\n",
       "      <td>2696558</td>\n",
       "      <td>0000d0aabe8c188f88c756ce0f7f9639</td>\n",
       "      <td>2c47a9311f2f19d6b33670715cdc544d</td>\n",
       "      <td>780.0</td>\n",
       "      <td>7715.0</td>\n",
       "      <td>3.0</td>\n",
       "      <td>1</td>\n",
       "      <td>130</td>\n",
       "      <td>57645.0</td>\n",
       "    </tr>\n",
       "    <tr>\n",
       "      <th>3</th>\n",
       "      <td>2696557</td>\n",
       "      <td>0000d0aabe8c188f88c756ce0f7f9639</td>\n",
       "      <td>bee6becd984e6486215f7acd876b5d26</td>\n",
       "      <td>2714.0</td>\n",
       "      <td>2611.0</td>\n",
       "      <td>4.0</td>\n",
       "      <td>1</td>\n",
       "      <td>68</td>\n",
       "      <td>546847.0</td>\n",
       "    </tr>\n",
       "    <tr>\n",
       "      <th>4</th>\n",
       "      <td>2696556</td>\n",
       "      <td>0000d0aabe8c188f88c756ce0f7f9639</td>\n",
       "      <td>449a1829a8742e652cb39d6ae7523df1</td>\n",
       "      <td>1620.0</td>\n",
       "      <td>1983.0</td>\n",
       "      <td>5.0</td>\n",
       "      <td>1</td>\n",
       "      <td>130</td>\n",
       "      <td>3103.0</td>\n",
       "    </tr>\n",
       "    <tr>\n",
       "      <th>...</th>\n",
       "      <td>...</td>\n",
       "      <td>...</td>\n",
       "      <td>...</td>\n",
       "      <td>...</td>\n",
       "      <td>...</td>\n",
       "      <td>...</td>\n",
       "      <td>...</td>\n",
       "      <td>...</td>\n",
       "      <td>...</td>\n",
       "    </tr>\n",
       "    <tr>\n",
       "      <th>5596408</th>\n",
       "      <td>2845463</td>\n",
       "      <td>ffff856232794b1cff1baea25bc25786</td>\n",
       "      <td>f3ff5b300b1d9678a7d9854e690e25b9</td>\n",
       "      <td>695.0</td>\n",
       "      <td>2531.0</td>\n",
       "      <td>65.0</td>\n",
       "      <td>1</td>\n",
       "      <td>130</td>\n",
       "      <td>863.0</td>\n",
       "    </tr>\n",
       "    <tr>\n",
       "      <th>5596409</th>\n",
       "      <td>2845462</td>\n",
       "      <td>ffff856232794b1cff1baea25bc25786</td>\n",
       "      <td>3d3a565c086dc00a8fb9eb3ad8876ce9</td>\n",
       "      <td>741.0</td>\n",
       "      <td>2228.0</td>\n",
       "      <td>66.0</td>\n",
       "      <td>1</td>\n",
       "      <td>130</td>\n",
       "      <td>680.0</td>\n",
       "    </tr>\n",
       "    <tr>\n",
       "      <th>5596410</th>\n",
       "      <td>2845461</td>\n",
       "      <td>ffff856232794b1cff1baea25bc25786</td>\n",
       "      <td>f6abae9373d6adfc32f5ea6d37e5fb17</td>\n",
       "      <td>900.0</td>\n",
       "      <td>2236.0</td>\n",
       "      <td>67.0</td>\n",
       "      <td>1</td>\n",
       "      <td>26</td>\n",
       "      <td>3278.0</td>\n",
       "    </tr>\n",
       "    <tr>\n",
       "      <th>5596411</th>\n",
       "      <td>2845460</td>\n",
       "      <td>ffff856232794b1cff1baea25bc25786</td>\n",
       "      <td>aa09d0cf8a2c89d82d2909027897e657</td>\n",
       "      <td>360.0</td>\n",
       "      <td>2263.0</td>\n",
       "      <td>68.0</td>\n",
       "      <td>1</td>\n",
       "      <td>26</td>\n",
       "      <td>1085.0</td>\n",
       "    </tr>\n",
       "    <tr>\n",
       "      <th>5596412</th>\n",
       "      <td>2845459</td>\n",
       "      <td>ffff856232794b1cff1baea25bc25786</td>\n",
       "      <td>be13d4527c01c4a6edc7243444108ed0</td>\n",
       "      <td>975.0</td>\n",
       "      <td>1310.0</td>\n",
       "      <td>69.0</td>\n",
       "      <td>1</td>\n",
       "      <td>26</td>\n",
       "      <td>8389.0</td>\n",
       "    </tr>\n",
       "  </tbody>\n",
       "</table>\n",
       "<p>5596413 rows × 9 columns</p>\n",
       "</div>"
      ],
      "text/plain": [
       "           index                               did  \\\n",
       "0        2696560  0000d0aabe8c188f88c756ce0f7f9639   \n",
       "1        2696559  0000d0aabe8c188f88c756ce0f7f9639   \n",
       "2        2696558  0000d0aabe8c188f88c756ce0f7f9639   \n",
       "3        2696557  0000d0aabe8c188f88c756ce0f7f9639   \n",
       "4        2696556  0000d0aabe8c188f88c756ce0f7f9639   \n",
       "...          ...                               ...   \n",
       "5596408  2845463  ffff856232794b1cff1baea25bc25786   \n",
       "5596409  2845462  ffff856232794b1cff1baea25bc25786   \n",
       "5596410  2845461  ffff856232794b1cff1baea25bc25786   \n",
       "5596411  2845460  ffff856232794b1cff1baea25bc25786   \n",
       "5596412  2845459  ffff856232794b1cff1baea25bc25786   \n",
       "\n",
       "                                      vid     vts      hb  seq_no  cpn  fpn  \\\n",
       "0        f87cf2ad695b4bb5dd830ae40bf29475    44.0  3286.0     1.0    1  130   \n",
       "1        fde2b2a62fb6061e4a958fb0b78c0293  1260.0  3698.0     2.0    1  130   \n",
       "2        2c47a9311f2f19d6b33670715cdc544d   780.0  7715.0     3.0    1  130   \n",
       "3        bee6becd984e6486215f7acd876b5d26  2714.0  2611.0     4.0    1   68   \n",
       "4        449a1829a8742e652cb39d6ae7523df1  1620.0  1983.0     5.0    1  130   \n",
       "...                                   ...     ...     ...     ...  ...  ...   \n",
       "5596408  f3ff5b300b1d9678a7d9854e690e25b9   695.0  2531.0    65.0    1  130   \n",
       "5596409  3d3a565c086dc00a8fb9eb3ad8876ce9   741.0  2228.0    66.0    1  130   \n",
       "5596410  f6abae9373d6adfc32f5ea6d37e5fb17   900.0  2236.0    67.0    1   26   \n",
       "5596411  aa09d0cf8a2c89d82d2909027897e657   360.0  2263.0    68.0    1   26   \n",
       "5596412  be13d4527c01c4a6edc7243444108ed0   975.0  1310.0    69.0    1   26   \n",
       "\n",
       "         time_gap  \n",
       "0             NaN  \n",
       "1           108.0  \n",
       "2         57645.0  \n",
       "3        546847.0  \n",
       "4          3103.0  \n",
       "...           ...  \n",
       "5596408     863.0  \n",
       "5596409     680.0  \n",
       "5596410    3278.0  \n",
       "5596411    1085.0  \n",
       "5596412    8389.0  \n",
       "\n",
       "[5596413 rows x 9 columns]"
      ]
     },
     "execution_count": 18,
     "metadata": {},
     "output_type": "execute_result"
    }
   ],
   "source": [
    "seq_train"
   ]
  },
  {
   "cell_type": "markdown",
   "id": "7d2e01a9-2e66-4167-86c4-930f64f6b53f",
   "metadata": {
    "tags": []
   },
   "source": [
    "## 相似度计算"
   ]
  },
  {
   "cell_type": "code",
   "execution_count": 29,
   "id": "2768d496-11e6-4eb8-8113-763ea38be143",
   "metadata": {
    "execution": {
     "iopub.execute_input": "2022-07-13T08:32:15.149551Z",
     "iopub.status.busy": "2022-07-13T08:32:15.149117Z",
     "iopub.status.idle": "2022-07-13T08:32:35.934888Z",
     "shell.execute_reply": "2022-07-13T08:32:35.934425Z",
     "shell.execute_reply.started": "2022-07-13T08:32:15.149514Z"
    },
    "tags": []
   },
   "outputs": [],
   "source": [
    "from gensim.models import Word2Vec\n",
    "vid_list = seq_train.groupby(['did'])['vid'].apply(list).values\n",
    "vid_w2v = Word2Vec(sentences=vid_list[:], window=5, min_count=1, workers=8)\n",
    "\n",
    "# time gap 可以作为序列拆分"
   ]
  },
  {
   "cell_type": "code",
   "execution_count": 5,
   "id": "86d073c1-235e-4f64-859e-7c576b072cb9",
   "metadata": {
    "execution": {
     "iopub.execute_input": "2022-07-15T11:11:57.304036Z",
     "iopub.status.busy": "2022-07-15T11:11:57.303461Z",
     "iopub.status.idle": "2022-07-15T11:12:06.701854Z",
     "shell.execute_reply": "2022-07-15T11:12:06.700941Z",
     "shell.execute_reply.started": "2022-07-15T11:11:57.303988Z"
    },
    "tags": []
   },
   "outputs": [
    {
     "name": "stderr",
     "output_type": "stream",
     "text": [
      "/home/lyz/.local/lib/python3.6/site-packages/ipykernel_launcher.py:2: SettingWithCopyWarning: \n",
      "A value is trying to be set on a copy of a slice from a DataFrame.\n",
      "Try using .loc[row_indexer,col_indexer] = value instead\n",
      "\n",
      "See the caveats in the documentation: https://pandas.pydata.org/pandas-docs/stable/user_guide/indexing.html#returning-a-view-versus-a-copy\n",
      "  \n",
      "/home/lyz/.local/lib/python3.6/site-packages/ipykernel_launcher.py:3: SettingWithCopyWarning: \n",
      "A value is trying to be set on a copy of a slice from a DataFrame.\n",
      "Try using .loc[row_indexer,col_indexer] = value instead\n",
      "\n",
      "See the caveats in the documentation: https://pandas.pydata.org/pandas-docs/stable/user_guide/indexing.html#returning-a-view-versus-a-copy\n",
      "  This is separate from the ipykernel package so we can avoid doing imports until\n"
     ]
    }
   ],
   "source": [
    "tmp_seq_train = seq_train[['did', 'vid']]\n",
    "tmp_seq_train['vid_next1'] = tmp_seq_train.groupby(['did']).vid.shift(-1)\n",
    "tmp_seq_train['vid_next2'] = tmp_seq_train.groupby(['did']).vid.shift(-2)\n",
    "\n",
    "vid_next1 = tmp_seq_train.groupby(['vid', 'vid_next1']).size(\n",
    ").sort_values(ascending=False).reset_index()\n",
    "vid_next1 = vid_next1[vid_next1[0] > 100]\n",
    "vid_next1.set_index('vid', inplace=True)\n",
    "vid_next1 = vid_next1.sort_values(by=['vid', 0], ascending=False)\n",
    "vid_next1 = vid_next1.groupby('vid')['vid_next1'].apply(list).to_dict()\n",
    "\n",
    "vid_next2 = tmp_seq_train.groupby(['vid', 'vid_next1', 'vid_next2']).size(\n",
    ").sort_values(ascending=False).reset_index()\n",
    "vid_next2 = vid_next2[vid_next2[0] > 100]\n",
    "vid_next2['vid'] = vid_next2['vid'] + vid_next2['vid_next1']\n",
    "vid_next2 = vid_next2[['vid', 'vid_next2', 0]]\n",
    "vid_next2 = vid_next2.sort_values(by=['vid', 0], ascending=False)\n",
    "vid_next2 = vid_next2.groupby('vid')['vid_next2'].apply(list).to_dict()"
   ]
  },
  {
   "cell_type": "markdown",
   "id": "a6601060-6533-48bc-bee4-5a8e7a96788c",
   "metadata": {},
   "source": [
    "# 模型构建"
   ]
  },
  {
   "cell_type": "markdown",
   "id": "865d735f-e5a0-4176-8c8c-6362c4c59002",
   "metadata": {},
   "source": [
    "## 模型1：策略推荐"
   ]
  },
  {
   "cell_type": "code",
   "execution_count": 32,
   "id": "15005e59-6e70-46a3-bd60-69f47a139b28",
   "metadata": {
    "execution": {
     "iopub.execute_input": "2022-07-13T08:33:39.169112Z",
     "iopub.status.busy": "2022-07-13T08:33:39.168309Z",
     "iopub.status.idle": "2022-07-13T08:33:55.471425Z",
     "shell.execute_reply": "2022-07-13T08:33:55.470781Z",
     "shell.execute_reply.started": "2022-07-13T08:33:39.169047Z"
    },
    "tags": []
   },
   "outputs": [
    {
     "name": "stderr",
     "output_type": "stream",
     "text": [
      "  6%|▌         | 10000/170909 [00:14<03:55, 683.56it/s]\n"
     ]
    },
    {
     "data": {
      "text/plain": [
       "0.39836016398360163"
      ]
     },
     "execution_count": 32,
     "metadata": {},
     "output_type": "execute_result"
    }
   ],
   "source": [
    "mrr = []\n",
    "\n",
    "for did, did_seq_train in tqdm(seq_local_train.groupby('did')):\n",
    "    last1_vid = did_seq_train['vid'].iloc[-1]\n",
    "    hist_vid = list(did_seq_train['vid'])\n",
    "    cid_nunique = did_seq_train['cid'].nunique()\n",
    "\n",
    "    candidate_vid = []\n",
    "    if last1_vid in vid_next1:\n",
    "        candidate_vid = vid_next1[last1_vid][:]\n",
    "    else:\n",
    "        candidate_vid = []\n",
    "\n",
    "    if len(candidate_vid) == 0:\n",
    "        w2v_sim = vid_w2v.wv.most_similar(hist_vid[-1])\n",
    "        w2v_sim = [x[0] for x in w2v_sim][:3]\n",
    "        pred_vid = w2v_sim + hot20\n",
    "    else:\n",
    "        pred_vid = candidate_vid\n",
    "        pred_vid = pred_vid + hot20\n",
    "\n",
    "    pred_vid = [x for x in pred_vid if x not in hist_vid]\n",
    "    pred_vid = list(dict.fromkeys(pred_vid))[:6]\n",
    "    try:\n",
    "        pred_result = pred_vid.index(seq_local_valid.loc[did]['vid'])\n",
    "        mrr.append(1/(pred_result + 1))\n",
    "    except:\n",
    "        mrr.append(0)\n",
    "\n",
    "    if len(mrr) > 10000:\n",
    "        break\n",
    "        \n",
    "#     break\n",
    "    \n",
    "np.mean(mrr)"
   ]
  },
  {
   "cell_type": "code",
   "execution_count": 33,
   "id": "cfd67a7d-042b-4aa5-b376-7d60ee67a098",
   "metadata": {
    "execution": {
     "iopub.execute_input": "2022-07-13T08:34:12.150663Z",
     "iopub.status.busy": "2022-07-13T08:34:12.150078Z",
     "iopub.status.idle": "2022-07-13T08:37:32.781467Z",
     "shell.execute_reply": "2022-07-13T08:37:32.780825Z",
     "shell.execute_reply.started": "2022-07-13T08:34:12.150612Z"
    },
    "tags": []
   },
   "outputs": [
    {
     "name": "stderr",
     "output_type": "stream",
     "text": [
      "100%|██████████| 170909/170909 [03:20<00:00, 853.61it/s] \n"
     ]
    }
   ],
   "source": [
    "rule_submit = []\n",
    "for did, did_seq in tqdm(seq_vid_train.groupby('did'), total=seq_train['did'].nunique()):\n",
    "    last1_vid = did_seq['vid'].iloc[-1]\n",
    "    hist_vid = list(did_seq['vid'])\n",
    "    cid_nunique = did_seq['cid'].nunique()\n",
    "\n",
    "    pred_result = []\n",
    "    if last1_vid in vid_next1:\n",
    "        pred_result = vid_next1[last1_vid][:]\n",
    "\n",
    "    if len(pred_result) == 0:\n",
    "        w2v_sim = vid_w2v.wv.most_similar(hist_vid[-1])\n",
    "        w2v_sim = [x[0] for x in w2v_sim][:3]\n",
    "        pred_result = w2v_sim\n",
    "\n",
    "    pred_result += hot20\n",
    "    pred_result = list(dict.fromkeys(pred_result))\n",
    "    pred_result = [x for x in pred_result if x not in hist_vid]\n",
    "    rule_submit += [[did, x] for x in pred_result]\n"
   ]
  },
  {
   "cell_type": "code",
   "execution_count": 34,
   "id": "5e0ca2bd-0648-4baf-9ba5-260a632aa6ce",
   "metadata": {
    "execution": {
     "iopub.execute_input": "2022-07-13T08:37:32.783373Z",
     "iopub.status.busy": "2022-07-13T08:37:32.782860Z",
     "iopub.status.idle": "2022-07-13T08:37:34.432883Z",
     "shell.execute_reply": "2022-07-13T08:37:34.432300Z",
     "shell.execute_reply.started": "2022-07-13T08:37:32.783339Z"
    },
    "tags": []
   },
   "outputs": [],
   "source": [
    "rule_submit2 = pd.DataFrame(rule_submit)\n",
    "rule_submit2 = rule_submit2[rule_submit2[1].isin(candidate_items['vid'])]"
   ]
  },
  {
   "cell_type": "code",
   "execution_count": 35,
   "id": "90e76c5f-3adf-408f-878f-3254e4677a1b",
   "metadata": {
    "execution": {
     "iopub.execute_input": "2022-07-13T08:37:34.434266Z",
     "iopub.status.busy": "2022-07-13T08:37:34.434090Z",
     "iopub.status.idle": "2022-07-13T08:37:36.652024Z",
     "shell.execute_reply": "2022-07-13T08:37:36.650816Z",
     "shell.execute_reply.started": "2022-07-13T08:37:34.434250Z"
    },
    "tags": []
   },
   "outputs": [],
   "source": [
    "rule_submit2 = rule_submit2.drop_duplicates(keep='first')"
   ]
  },
  {
   "cell_type": "code",
   "execution_count": 36,
   "id": "42df284e-1973-4b24-8a87-7f8b0e1bec34",
   "metadata": {
    "execution": {
     "iopub.execute_input": "2022-07-13T08:37:36.653202Z",
     "iopub.status.busy": "2022-07-13T08:37:36.652963Z",
     "iopub.status.idle": "2022-07-13T08:37:40.096615Z",
     "shell.execute_reply": "2022-07-13T08:37:40.095884Z",
     "shell.execute_reply.started": "2022-07-13T08:37:36.653186Z"
    },
    "tags": []
   },
   "outputs": [],
   "source": [
    "rule_submit2 = rule_submit2.groupby(0).head(6)\n",
    "rule_submit2.columns = ['did', 'vid']\n",
    "rule_submit2['rank'] = rule_submit2.groupby('did').cumcount()+1\n",
    "rule_submit2.to_csv('res.csv', index=None)"
   ]
  },
  {
   "cell_type": "code",
   "execution_count": 37,
   "id": "7a9dc8a4-e5bc-466b-9dc5-eeda5808e119",
   "metadata": {
    "execution": {
     "iopub.execute_input": "2022-07-13T08:37:40.097795Z",
     "iopub.status.busy": "2022-07-13T08:37:40.097476Z",
     "iopub.status.idle": "2022-07-13T08:37:40.307418Z",
     "shell.execute_reply": "2022-07-13T08:37:40.306973Z",
     "shell.execute_reply.started": "2022-07-13T08:37:40.097776Z"
    },
    "tags": []
   },
   "outputs": [
    {
     "data": {
      "text/plain": [
       "d2964663b3b8aa06c6fe1a66838e8ef8    6\n",
       "4f9a18d61efe3223afbb21669bd3eddd    6\n",
       "281dc7301c214824659e8d259b9b6957    6\n",
       "52c109cd66f568e4a42b3d91bb834d03    6\n",
       "baa9bf96009c26a03e4db8ede1f3647c    6\n",
       "                                   ..\n",
       "70926cc3f29e3b79084e813bd244a3ca    6\n",
       "6d91285c8c0e12045d8301061f1e8c6c    6\n",
       "9c0f6e108fec513f7a5488555a8075ec    6\n",
       "7f810619191c68e504b029a2b4ce6de0    6\n",
       "cc6a793a9324a905c302b4b04484335b    6\n",
       "Name: did, Length: 170909, dtype: int64"
      ]
     },
     "execution_count": 37,
     "metadata": {},
     "output_type": "execute_result"
    }
   ],
   "source": [
    "rule_submit2['did'].value_counts()"
   ]
  },
  {
   "cell_type": "code",
   "execution_count": 38,
   "id": "d1b56744-bd27-4ef6-8515-84885d145325",
   "metadata": {
    "execution": {
     "iopub.execute_input": "2022-07-13T08:37:40.308360Z",
     "iopub.status.busy": "2022-07-13T08:37:40.308138Z",
     "iopub.status.idle": "2022-07-13T08:37:40.684065Z",
     "shell.execute_reply": "2022-07-13T08:37:40.682512Z",
     "shell.execute_reply.started": "2022-07-13T08:37:40.308344Z"
    },
    "tags": []
   },
   "outputs": [
    {
     "name": "stdout",
     "output_type": "stream",
     "text": [
      "1025455 res.csv\n"
     ]
    }
   ],
   "source": [
    "!wc -l res.csv"
   ]
  },
  {
   "cell_type": "code",
   "execution_count": 39,
   "id": "bc9fe07d-619f-4f33-bfb2-f185c89179bf",
   "metadata": {
    "execution": {
     "iopub.execute_input": "2022-07-13T08:37:40.686837Z",
     "iopub.status.busy": "2022-07-13T08:37:40.686298Z",
     "iopub.status.idle": "2022-07-13T08:37:42.202351Z",
     "shell.execute_reply": "2022-07-13T08:37:42.200885Z",
     "shell.execute_reply.started": "2022-07-13T08:37:40.686788Z"
    },
    "tags": []
   },
   "outputs": [
    {
     "name": "stdout",
     "output_type": "stream",
     "text": [
      "updating: res.csv (deflated 84%)\n"
     ]
    }
   ],
   "source": [
    "!zip -r res.csv.zip res.csv"
   ]
  },
  {
   "cell_type": "code",
   "execution_count": null,
   "id": "973eb297-0daf-4e83-b690-43b5a986496e",
   "metadata": {},
   "outputs": [],
   "source": []
  },
  {
   "cell_type": "code",
   "execution_count": null,
   "id": "a68d4d06-e454-48d8-81f6-ff033c4ccee4",
   "metadata": {},
   "outputs": [],
   "source": []
  }
 ],
 "metadata": {
  "kernelspec": {
   "display_name": "Python 3.6 (ipykernel)",
   "language": "python",
   "name": "python3"
  },
  "language_info": {
   "codemirror_mode": {
    "name": "ipython",
    "version": 3
   },
   "file_extension": ".py",
   "mimetype": "text/x-python",
   "name": "python",
   "nbconvert_exporter": "python",
   "pygments_lexer": "ipython3",
   "version": "3.6.9"
  },
  "toc-autonumbering": true
 },
 "nbformat": 4,
 "nbformat_minor": 5
}
